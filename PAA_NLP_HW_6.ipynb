{
  "nbformat": 4,
  "nbformat_minor": 0,
  "metadata": {
    "colab": {
      "provenance": [],
      "toc_visible": true,
      "gpuType": "T4"
    },
    "kernelspec": {
      "name": "python3",
      "display_name": "Python 3"
    },
    "language_info": {
      "name": "python"
    },
    "accelerator": "GPU"
  },
  "cells": [
    {
      "cell_type": "markdown",
      "source": [
        "# Content"
      ],
      "metadata": {
        "id": "OiDo3n9RzKSF"
      }
    },
    {
      "cell_type": "markdown",
      "source": [
        ">[Content](#scrollTo=OiDo3n9RzKSF)\n",
        "\n",
        ">[Task](#scrollTo=9IpQMiwMfmjc)\n",
        "\n",
        ">[Additional links](#scrollTo=vIFLnubEpXZe)\n",
        "\n",
        ">[Libraries and Functions](#scrollTo=OLf4O53-IWOi)\n",
        "\n",
        ">>[Import libraries](#scrollTo=ywo0fLObPYXm)\n",
        "\n",
        ">>[Additional functions](#scrollTo=c-IWavhSPG4L)\n",
        "\n",
        ">>>[For NLTK](#scrollTo=wro2238KWmoR)\n",
        "\n",
        ">[Data](#scrollTo=VA1XxIKEVcXc)\n",
        "\n",
        ">>[Review dataset](#scrollTo=XDnmDj1_dPss)\n",
        "\n",
        ">>[Load data](#scrollTo=eCCtnG-gSVQ2)\n",
        "\n",
        ">>[Split data](#scrollTo=xZrYVAsGb4P0)\n",
        "\n",
        ">[Pipline](#scrollTo=42rdU3N7cdoN)\n",
        "\n",
        ">>[Vectorizer params](#scrollTo=PHoPq1mXb2MT)\n",
        "\n",
        ">>[Make Pipeline](#scrollTo=eN8tSiO-XKyM)\n",
        "\n",
        ">[Learn models of regressors](#scrollTo=B9znX6DthBSD)\n",
        "\n",
        ">>[Model params](#scrollTo=75ZJgcqjdf0j)\n",
        "\n",
        ">>[LogReg n_gram (1,1)](#scrollTo=n0LIWNR3iQfI)\n",
        "\n",
        ">>>[Learn model](#scrollTo=C6j_p76B_AHM)\n",
        "\n",
        ">>>[Get of metrics](#scrollTo=Kp2GgxuF_Gwc)\n",
        "\n",
        ">>>[Get of conf matrics](#scrollTo=i8jwT4Bn_K0s)\n",
        "\n",
        ">>>[Save model](#scrollTo=F2NJ3KnztEqB)\n",
        "\n",
        ">>[LogReg n_gram (1,2)](#scrollTo=Vwe-nC_jiYjy)\n",
        "\n",
        ">>>[Learn model](#scrollTo=RAzEujVi_RYb)\n",
        "\n",
        ">>>[Get of metrics](#scrollTo=tDi8RYk0_VUN)\n",
        "\n",
        ">>>[Get of conf matrix](#scrollTo=0AcXLeke_aZR)\n",
        "\n",
        ">>>[Save model](#scrollTo=W_BMssK-SK_h)\n",
        "\n",
        ">>[LogReg n_gram (2,5)](#scrollTo=BUIvcXDria_L)\n",
        "\n",
        ">>>[Learn model](#scrollTo=6WMhuzWI_fWQ)\n",
        "\n",
        ">>>[Get of metrics](#scrollTo=nIA1UfXi_jiM)\n",
        "\n",
        ">>>[Get of conf matrix](#scrollTo=CxoYYpZl_nkD)\n",
        "\n",
        ">>>[Save model](#scrollTo=WlkmO-v-Wux4)\n",
        "\n",
        ">>[Review metrics](#scrollTo=h8ER8h7yRYgL)\n",
        "\n",
        ">[SpaCy](#scrollTo=gKhsUq9DiaXS)\n",
        "\n",
        ">>[Replacement NER in text](#scrollTo=uqQaihhe8tJ2)\n",
        "\n",
        ">>>[load data after replacement](#scrollTo=DurLZeb_8720)\n",
        "\n",
        ">>[Split data](#scrollTo=iWmMh05S-EPZ)\n",
        "\n",
        ">>[Learn regressor model](#scrollTo=g4Sehgp4-kvi)\n",
        "\n",
        ">>[Get of metrics and ROC curv](#scrollTo=xxpnSfR9-p5D)\n",
        "\n",
        ">>[Get confusion matrix](#scrollTo=TtPJNr0f-wRQ)\n",
        "\n",
        ">[Conclusion about regressor](#scrollTo=NTLRxJm-Cn1F)\n",
        "\n",
        ">[Neural Network](#scrollTo=b_lW88YVCd9I)\n",
        "\n",
        ">>[Check device](#scrollTo=1-BtQ21iT3Cu)\n",
        "\n",
        ">>[Load data](#scrollTo=k5oiwRPFUMOl)\n",
        "\n",
        ">>[Split data](#scrollTo=0AWD0TzmT8ll)\n",
        "\n",
        ">>[Review split data](#scrollTo=xIugXXzWXA6F)\n",
        "\n",
        ">>[Preprocessing data](#scrollTo=2PbVASVHT9rU)\n",
        "\n",
        ">>[Create DataLoader](#scrollTo=QLLEvtObZbIu)\n",
        "\n",
        ">>[Create model](#scrollTo=noRJvhJJcQiZ)\n",
        "\n",
        ">>[Optimizer and function loss](#scrollTo=GrkJfY7Dc0u-)\n",
        "\n",
        ">>[Learn model](#scrollTo=lj830xTcdUxl)\n",
        "\n",
        ">>[Visualisation of result](#scrollTo=DyOBM8QTAR8c)\n",
        "\n",
        ">>>[Loss history](#scrollTo=IpaT8lcGWYdw)\n",
        "\n",
        ">>>[Accuracy history](#scrollTo=Rf2YTc8vWbpR)\n",
        "\n",
        ">>[Save model](#scrollTo=xdhbg1Y3Uvqo)\n",
        "\n",
        ">>[Load model](#scrollTo=8tkAugoXUz35)\n",
        "\n",
        ">>[Make clasification report](#scrollTo=W3rzYT8kUtaF)\n",
        "\n",
        ">[Conclusion](#scrollTo=lPlozAhvV5Nt)\n",
        "\n"
      ],
      "metadata": {
        "colab_type": "toc",
        "id": "44wpygEbzJBW"
      }
    },
    {
      "cell_type": "markdown",
      "source": [
        "# Task"
      ],
      "metadata": {
        "id": "9IpQMiwMfmjc"
      }
    },
    {
      "cell_type": "markdown",
      "source": [
        "Взять ноутбук [colab_text_classification_part1.ipynb](https://colab.research.google.com/drive/17NikUrEUz4rl1MgmKOYWx4w981ZzW62u?usp=drive_link) который разбирали на занятии и добавить пункты которые мы пропустили\n",
        "1. Проверьте повысилось ли качество на стандартных подходах при лемматизации/и без неё\n",
        "2. Удалите/(замените на тег) из текстов сущности(имена, локации, что-то ещё). Запустите классификатор и модельки на сеточках\n",
        "3. Сделайте выводы"
      ],
      "metadata": {
        "id": "xY5wxd1NgOQl"
      }
    },
    {
      "cell_type": "markdown",
      "source": [
        "# Additional links"
      ],
      "metadata": {
        "id": "vIFLnubEpXZe"
      }
    },
    {
      "cell_type": "markdown",
      "source": [
        "* [Notebook_1](https://colab.research.google.com/drive/1-6J1hSuhOoySpNFEbMRWdz5Yz99Y7Wti?usp=drive_link)\n",
        "\n",
        "* [Notebook_2](https://colab.research.google.com/drive/1c3CN3kBfnAuI7XSUS2Uw-Zl6zjJCgvpZ?usp=drive_link)\n",
        "\n",
        "* Regular expressions [one](https://habr.com/ru/articles/349860/) [two](https://tproger.ru/translations/regular-expression-python) [three](https://docs.python.org/3/library/re.html#)"
      ],
      "metadata": {
        "id": "EZoC3WiTpeN-"
      }
    },
    {
      "cell_type": "markdown",
      "source": [
        "# Libraries and Functions"
      ],
      "metadata": {
        "id": "OLf4O53-IWOi"
      }
    },
    {
      "cell_type": "markdown",
      "source": [
        "## Import libraries"
      ],
      "metadata": {
        "id": "ywo0fLObPYXm"
      }
    },
    {
      "cell_type": "code",
      "source": [
        "!pip install eli5 dill pymorphy2 clean-text"
      ],
      "metadata": {
        "colab": {
          "base_uri": "https://localhost:8080/"
        },
        "collapsed": true,
        "id": "8KuJ4_yVJe7e",
        "outputId": "73eeb49b-3e8c-4489-db82-6b67d434d3ec"
      },
      "execution_count": 1,
      "outputs": [
        {
          "output_type": "stream",
          "name": "stdout",
          "text": [
            "Collecting eli5\n",
            "  Downloading eli5-0.13.0.tar.gz (216 kB)\n",
            "\u001b[2K     \u001b[90m━━━━━━━━━━━━━━━━━━━━━━━━━━━━━━━━━━━━━━━━\u001b[0m \u001b[32m216.2/216.2 kB\u001b[0m \u001b[31m4.1 MB/s\u001b[0m eta \u001b[36m0:00:00\u001b[0m\n",
            "\u001b[?25h  Preparing metadata (setup.py) ... \u001b[?25l\u001b[?25hdone\n",
            "Collecting dill\n",
            "  Downloading dill-0.3.8-py3-none-any.whl (116 kB)\n",
            "\u001b[2K     \u001b[90m━━━━━━━━━━━━━━━━━━━━━━━━━━━━━━━━━━━━━━━━\u001b[0m \u001b[32m116.3/116.3 kB\u001b[0m \u001b[31m11.0 MB/s\u001b[0m eta \u001b[36m0:00:00\u001b[0m\n",
            "\u001b[?25hCollecting pymorphy2\n",
            "  Downloading pymorphy2-0.9.1-py3-none-any.whl (55 kB)\n",
            "\u001b[2K     \u001b[90m━━━━━━━━━━━━━━━━━━━━━━━━━━━━━━━━━━━━━━━━\u001b[0m \u001b[32m55.5/55.5 kB\u001b[0m \u001b[31m6.8 MB/s\u001b[0m eta \u001b[36m0:00:00\u001b[0m\n",
            "\u001b[?25hCollecting clean-text\n",
            "  Downloading clean_text-0.6.0-py3-none-any.whl (11 kB)\n",
            "Requirement already satisfied: attrs>17.1.0 in /usr/local/lib/python3.10/dist-packages (from eli5) (23.2.0)\n",
            "Requirement already satisfied: jinja2>=3.0.0 in /usr/local/lib/python3.10/dist-packages (from eli5) (3.1.4)\n",
            "Requirement already satisfied: numpy>=1.9.0 in /usr/local/lib/python3.10/dist-packages (from eli5) (1.25.2)\n",
            "Requirement already satisfied: scipy in /usr/local/lib/python3.10/dist-packages (from eli5) (1.11.4)\n",
            "Requirement already satisfied: six in /usr/local/lib/python3.10/dist-packages (from eli5) (1.16.0)\n",
            "Requirement already satisfied: scikit-learn>=0.20 in /usr/local/lib/python3.10/dist-packages (from eli5) (1.2.2)\n",
            "Requirement already satisfied: graphviz in /usr/local/lib/python3.10/dist-packages (from eli5) (0.20.3)\n",
            "Requirement already satisfied: tabulate>=0.7.7 in /usr/local/lib/python3.10/dist-packages (from eli5) (0.9.0)\n",
            "Collecting dawg-python>=0.7.1 (from pymorphy2)\n",
            "  Downloading DAWG_Python-0.7.2-py2.py3-none-any.whl (11 kB)\n",
            "Collecting pymorphy2-dicts-ru<3.0,>=2.4 (from pymorphy2)\n",
            "  Downloading pymorphy2_dicts_ru-2.4.417127.4579844-py2.py3-none-any.whl (8.2 MB)\n",
            "\u001b[2K     \u001b[90m━━━━━━━━━━━━━━━━━━━━━━━━━━━━━━━━━━━━━━━━\u001b[0m \u001b[32m8.2/8.2 MB\u001b[0m \u001b[31m17.0 MB/s\u001b[0m eta \u001b[36m0:00:00\u001b[0m\n",
            "\u001b[?25hCollecting docopt>=0.6 (from pymorphy2)\n",
            "  Downloading docopt-0.6.2.tar.gz (25 kB)\n",
            "  Preparing metadata (setup.py) ... \u001b[?25l\u001b[?25hdone\n",
            "Collecting emoji<2.0.0,>=1.0.0 (from clean-text)\n",
            "  Downloading emoji-1.7.0.tar.gz (175 kB)\n",
            "\u001b[2K     \u001b[90m━━━━━━━━━━━━━━━━━━━━━━━━━━━━━━━━━━━━━━━━\u001b[0m \u001b[32m175.4/175.4 kB\u001b[0m \u001b[31m8.5 MB/s\u001b[0m eta \u001b[36m0:00:00\u001b[0m\n",
            "\u001b[?25h  Preparing metadata (setup.py) ... \u001b[?25l\u001b[?25hdone\n",
            "Collecting ftfy<7.0,>=6.0 (from clean-text)\n",
            "  Downloading ftfy-6.2.0-py3-none-any.whl (54 kB)\n",
            "\u001b[2K     \u001b[90m━━━━━━━━━━━━━━━━━━━━━━━━━━━━━━━━━━━━━━━━\u001b[0m \u001b[32m54.4/54.4 kB\u001b[0m \u001b[31m2.2 MB/s\u001b[0m eta \u001b[36m0:00:00\u001b[0m\n",
            "\u001b[?25hRequirement already satisfied: wcwidth<0.3.0,>=0.2.12 in /usr/local/lib/python3.10/dist-packages (from ftfy<7.0,>=6.0->clean-text) (0.2.13)\n",
            "Requirement already satisfied: MarkupSafe>=2.0 in /usr/local/lib/python3.10/dist-packages (from jinja2>=3.0.0->eli5) (2.1.5)\n",
            "Requirement already satisfied: joblib>=1.1.1 in /usr/local/lib/python3.10/dist-packages (from scikit-learn>=0.20->eli5) (1.4.2)\n",
            "Requirement already satisfied: threadpoolctl>=2.0.0 in /usr/local/lib/python3.10/dist-packages (from scikit-learn>=0.20->eli5) (3.5.0)\n",
            "Building wheels for collected packages: eli5, docopt, emoji\n",
            "  Building wheel for eli5 (setup.py) ... \u001b[?25l\u001b[?25hdone\n",
            "  Created wheel for eli5: filename=eli5-0.13.0-py2.py3-none-any.whl size=107720 sha256=2a2dbb3ed663d88e8dd36ea690b0a5564a36312b9dae07beb1931e8636f11418\n",
            "  Stored in directory: /root/.cache/pip/wheels/b8/58/ef/2cf4c306898c2338d51540e0922c8e0d6028e07007085c0004\n",
            "  Building wheel for docopt (setup.py) ... \u001b[?25l\u001b[?25hdone\n",
            "  Created wheel for docopt: filename=docopt-0.6.2-py2.py3-none-any.whl size=13706 sha256=6fc3e467acc603b42956d608ae9bc73f16b2176ce57cc20e5658b8addc963922\n",
            "  Stored in directory: /root/.cache/pip/wheels/fc/ab/d4/5da2067ac95b36618c629a5f93f809425700506f72c9732fac\n",
            "  Building wheel for emoji (setup.py) ... \u001b[?25l\u001b[?25hdone\n",
            "  Created wheel for emoji: filename=emoji-1.7.0-py3-none-any.whl size=171034 sha256=31ee4fdbe1d6d87f5b739dd1b00f5053ad310686399253858d0be3c17a1bbd79\n",
            "  Stored in directory: /root/.cache/pip/wheels/31/8a/8c/315c9e5d7773f74b33d5ed33f075b49c6eaeb7cedbb86e2cf8\n",
            "Successfully built eli5 docopt emoji\n",
            "Installing collected packages: pymorphy2-dicts-ru, emoji, docopt, dawg-python, pymorphy2, ftfy, dill, clean-text, eli5\n",
            "Successfully installed clean-text-0.6.0 dawg-python-0.7.2 dill-0.3.8 docopt-0.6.2 eli5-0.13.0 emoji-1.7.0 ftfy-6.2.0 pymorphy2-0.9.1 pymorphy2-dicts-ru-2.4.417127.4579844\n"
          ]
        }
      ]
    },
    {
      "cell_type": "code",
      "source": [
        "from google.colab import files, drive\n",
        "import os\n",
        "import re\n",
        "import shutil\n",
        "import eli5\n",
        "import pandas as pd\n",
        "import numpy as np\n",
        "from tqdm import tqdm\n",
        "import dill\n",
        "from pymorphy2 import MorphAnalyzer\n",
        "from cleantext import clean\n",
        "import emoji\n",
        "import pickle\n",
        "import torch\n",
        "import torch.nn as nn\n",
        "import torch.nn.functional as F\n",
        "from torch.utils.data import DataLoader, Dataset\n",
        "from sklearn.base import BaseEstimator, TransformerMixin\n",
        "from sklearn.pipeline import Pipeline\n",
        "from sklearn.model_selection import train_test_split\n",
        "from sklearn.linear_model import LogisticRegression\n",
        "from sklearn.tree import DecisionTreeRegressor\n",
        "from sklearn.feature_extraction.text import TfidfVectorizer, ENGLISH_STOP_WORDS\n",
        "from sklearn.metrics import classification_report, f1_score, roc_curve, \\\n",
        "    confusion_matrix, precision_recall_curve\n",
        "from xgboost import XGBRFRegressor\n",
        "import matplotlib.pyplot as plt\n",
        "import itertools\n",
        "import time\n",
        "import nltk\n",
        "from nltk.corpus import stopwords\n",
        "nltk.download('stopwords')\n",
        "import seaborn as sns\n",
        "import spacy\n",
        "import matplotlib.pyplot as plt"
      ],
      "metadata": {
        "colab": {
          "base_uri": "https://localhost:8080/"
        },
        "id": "nZ7RLiwTI-Fx",
        "outputId": "e4f682f6-52d9-466d-85ff-7207f05c462a"
      },
      "execution_count": 2,
      "outputs": [
        {
          "output_type": "stream",
          "name": "stderr",
          "text": [
            "WARNING:root:Since the GPL-licensed package `unidecode` is not installed, using Python's `unicodedata` package which yields worse results.\n",
            "[nltk_data] Downloading package stopwords to /root/nltk_data...\n",
            "[nltk_data]   Unzipping corpora/stopwords.zip.\n"
          ]
        }
      ]
    },
    {
      "cell_type": "markdown",
      "source": [
        "## Additional functions"
      ],
      "metadata": {
        "id": "c-IWavhSPG4L"
      }
    },
    {
      "cell_type": "markdown",
      "source": [
        "### For NLTK"
      ],
      "metadata": {
        "id": "wro2238KWmoR"
      }
    },
    {
      "cell_type": "code",
      "source": [
        "nltk.download('stopwords')\n",
        "nltk.download('brown')\n",
        "nltk.download('punkt')\n",
        "nltk.download('averaged_perceptron_tagger')\n",
        "nltk.download('maxent_ne_chunker')\n",
        "nltk.download('words')\n",
        "nltk.download('names')\n",
        "nltk.download('tagsets')"
      ],
      "metadata": {
        "colab": {
          "base_uri": "https://localhost:8080/"
        },
        "id": "Lo03zsFZxGyW",
        "outputId": "c467edc1-f127-4f71-cc19-3789c71b8f04"
      },
      "execution_count": 3,
      "outputs": [
        {
          "output_type": "stream",
          "name": "stderr",
          "text": [
            "[nltk_data] Downloading package stopwords to /root/nltk_data...\n",
            "[nltk_data]   Package stopwords is already up-to-date!\n",
            "[nltk_data] Downloading package brown to /root/nltk_data...\n",
            "[nltk_data]   Unzipping corpora/brown.zip.\n",
            "[nltk_data] Downloading package punkt to /root/nltk_data...\n",
            "[nltk_data]   Unzipping tokenizers/punkt.zip.\n",
            "[nltk_data] Downloading package averaged_perceptron_tagger to\n",
            "[nltk_data]     /root/nltk_data...\n",
            "[nltk_data]   Unzipping taggers/averaged_perceptron_tagger.zip.\n",
            "[nltk_data] Downloading package maxent_ne_chunker to\n",
            "[nltk_data]     /root/nltk_data...\n",
            "[nltk_data]   Unzipping chunkers/maxent_ne_chunker.zip.\n",
            "[nltk_data] Downloading package words to /root/nltk_data...\n",
            "[nltk_data]   Unzipping corpora/words.zip.\n",
            "[nltk_data] Downloading package names to /root/nltk_data...\n",
            "[nltk_data]   Unzipping corpora/names.zip.\n",
            "[nltk_data] Downloading package tagsets to /root/nltk_data...\n",
            "[nltk_data]   Unzipping help/tagsets.zip.\n"
          ]
        },
        {
          "output_type": "execute_result",
          "data": {
            "text/plain": [
              "True"
            ]
          },
          "metadata": {},
          "execution_count": 3
        }
      ]
    },
    {
      "cell_type": "code",
      "source": [
        "def MDir(dir_name):\n",
        "    \"\"\"Make a new folder\"\"\"\n",
        "    if os.path.exists(dir_name):\n",
        "        shutil.rmtree(dir_name)\n",
        "    os.makedirs(dir_name)\n",
        "\n",
        "\n",
        "def Upload(dir_name):\n",
        "    \"\"\"Upload files from PC to work dir\"\"\"\n",
        "    f = files.upload()\n",
        "    for fl in list(f.keys()):\n",
        "        shutil.move('/content/' + fl, dir_name + fl)\n",
        "\n",
        "\n",
        "class CleanText(BaseEstimator, TransformerMixin):\n",
        "\n",
        "    \"\"\"Cleaning text from regular characters in column\n",
        "    key: str - name of column default:None\n",
        "    stp_wrd: str - english, russian, ... default:english\n",
        "    like_list: bool - True|False default:False\n",
        "        If True then return text as list [word, word, ..., word], False return str,\n",
        "        default False\n",
        "    my_fun: Any default:None\n",
        "    You shoul to import:\n",
        "        >>> pip install pymorphy2\n",
        "        >>> pip install clean-text\n",
        "        import re\n",
        "        import pandas as pd\n",
        "        from tqdm import tqdm\n",
        "        from pymorphy2 import MorphAnalyzer\n",
        "        from sklearn.base import BaseEstimator, TransformerMixin\n",
        "        from cleantext import clean\n",
        "        from nltk.corpus import stopwords\n",
        "        nltk.download('stopwords')\"\"\"\n",
        "\n",
        "    def __init__(self, key:str=None, stp_wrd:str=None, my_fun=None, like_list:bool = False):\n",
        "        self.key = key\n",
        "        if stp_wrd == None:\n",
        "            self.stp_wrd = \"english\"\n",
        "        else:\n",
        "            self.stp_wrd = stp_wrd\n",
        "        self.sw = stopwords.words(self.stp_wrd)\n",
        "        self.morpher = MorphAnalyzer()\n",
        "        self.like_list = like_list\n",
        "        self.my_fun = my_fun\n",
        "\n",
        "\n",
        "    def clean_text(self, text:str) -> str:\n",
        "\n",
        "        \"\"\"Clean text\"\"\"\n",
        "\n",
        "        if not isinstance(text, str):\n",
        "            text = str(text)\n",
        "\n",
        "        text = text.lower()\n",
        "        text = text.strip('\\n').strip('\\r').strip('\\t')\n",
        "        if self.stp_wrd == 'russian':\n",
        "            text = re.sub(r'https?://\\S+|www\\.\\S+', \"электронныйадресс\", text)\n",
        "        else:\n",
        "            text = re.sub(r'https?://\\S+|www\\.\\S+', \"weblinks\", text)\n",
        "\n",
        "        text = re.sub(\"\\s\\r\\n\\|-\\s\\r\\n|\\r\\n\", '', str(text))\n",
        "        text = re.sub(\"[0-9]|[-—.,:;_%©«»?*!@#№$^•·&()]|[+=]|[[]|[]]|[/]|\", '', text)\n",
        "        text = re.sub(\"\\s\\w\\s\", \" \", text)\n",
        "        text = re.sub(r\"\\r\\n\\t|\\n|\\\\s|\\r\\t|\\\\n\", ' ', text)\n",
        "        text = re.sub(r'[\\xad]|[\\s+]', ' ', text.strip())\n",
        "        text = re.sub('\\n', ' ', text)\n",
        "        if self.stp_wrd != 'russian':\n",
        "            text = clean(text, no_emoji=True)\n",
        "        else:\n",
        "            pass\n",
        "        text = [self.morpher.parse(word)[0].normal_form for word in text.split() if word not in self.sw]\n",
        "        if self.like_list:\n",
        "            return text\n",
        "        else:\n",
        "            text = \" \".join(text)\n",
        "            return text\n",
        "\n",
        "    def get_feature_names_out(self, feature_names_out=None):\n",
        "        if feature_names_out != None:\n",
        "            return feature_names_out\n",
        "        else:\n",
        "            return [self.key]\n",
        "\n",
        "    def fit(self, X, y=None):\n",
        "        return self\n",
        "\n",
        "    def transform(self, X) -> pd.DataFrame:\n",
        "        if isinstance(X, pd.DataFrame):\n",
        "            tqdm.pandas()\n",
        "            if self.my_fun:\n",
        "                X[self.key] = X[self.key].progress_apply(lambda x: self.my_fun(x))\n",
        "            else:\n",
        "                X[self.key] = X[self.key].progress_apply(lambda x: self.clean_text(x))\n",
        "            return X[self.key]\n",
        "        else:\n",
        "            if self.my_fun:\n",
        "                X = self.my_fun(X)\n",
        "            else:\n",
        "                X = self.clean_text(X)\n",
        "            return X\n",
        "\n",
        "\n",
        "class Preprocessing_data():\n",
        "\n",
        "    \"\"\"Cleaning text from regular characters and\n",
        "    transformations text to sequence\n",
        "    *X - X_train, X_val, X_test\n",
        "    cln_txt_key : str - column name\n",
        "    tfidf_params : dict - Params for TfidfVectorizer\"\"\"\n",
        "\n",
        "    def __init__(self, *X, cln_txt_key:str = None, tfidf_params:dict = None):\n",
        "        self.tfidf = TfidfVectorizer(**tfidf_params)\n",
        "        self.key = cln_txt_key\n",
        "        self.cln_txt = CleanText(key=self.key)\n",
        "        self.X = list(X)\n",
        "        len_x = len(self.X)\n",
        "        pad = [[None]] * (3-len_x)\n",
        "        self.X = self.X[-len_x:] + pad\n",
        "        self.X_train, self.X_val, self.X_test = self.X\n",
        "\n",
        "    def data_preprocessing(self, clntxt = True):\n",
        "        if clntxt:\n",
        "            self.X_train = self.cln_txt.transform(self.X_train)\n",
        "            self.X_val = self.cln_txt.transform(self.X_val)\n",
        "            self.X_test = self.cln_txt.transform(self.X_test)\n",
        "            self.vocab = self.tfidf.fit(self.X_train).vocabulary_\n",
        "        else:\n",
        "            self.X_train = self.X_train[self.key]\n",
        "            self.X_val = self.X_val[self.key]\n",
        "            self.X_test = self.X_test[self.key]\n",
        "            self.vocab = self.tfidf.fit(self.X_train).vocabulary_\n",
        "        return self.vocab\n",
        "\n",
        "    def text_to_sequence(self, text, maxlen) -> list:\n",
        "        result = []\n",
        "        tokeniz = self.tfidf.build_tokenizer()\n",
        "        tokens_list = tokeniz(text)\n",
        "        for word in tokens_list:\n",
        "            if word in self.vocab:\n",
        "                result.append(self.vocab[word])\n",
        "\n",
        "        padding = [0] * (maxlen-len(result))\n",
        "        return result[-maxlen:] + padding\n",
        "\n",
        "    def results(self, max_len:int=25) -> np.array:\n",
        "        x_train = np.asarray([self.text_to_sequence(text, max_len) for text in self.X_train])\n",
        "        x_val = np.asarray([self.text_to_sequence(text, max_len) for text in self.X_val])\n",
        "        x_test = np.asarray([self.text_to_sequence(text, max_len) for text in self.X_test])\n",
        "        return x_train, x_val, x_test\n",
        "\n",
        "\n",
        "def model_learning(pipeline: Pipeline, model, params_model, X_train, X_test, Y_train, Y_test) -> dict:\n",
        "\n",
        "    \"\"\"Learning model and make final pipeline wich you can use\n",
        "    model - your model\n",
        "    params_model - params for your model\n",
        "    X_train, X_test, Y_train, Y_test - train_test_split data\n",
        "    columns - columns for high or middle or min frequency token\n",
        "\n",
        "    Return -> model_learning_dict\n",
        "    {\"model\": P,\n",
        "    \"y_true_proba\": y_true_proba,\n",
        "    \"y_true_predict\": y_true_predict}\"\"\"\n",
        "\n",
        "    P = pipeline\n",
        "    P.steps.append(('model', model(**params_model[model.__name__])))\n",
        "    P.fit(X_train, Y_train)\n",
        "    y_true_predict = P.predict(X_test)\n",
        "    if \"predict_proba\" not in dir(model):\n",
        "        y_true_proba = y_true_predict\n",
        "    else:\n",
        "        y_true_proba = P.predict_proba(X_test)[:,1]\n",
        "\n",
        "    model_learning_dict = {\"model\": P,\n",
        "                           \"y_true_proba\": y_true_proba,\n",
        "                           \"y_true_predict\": y_true_predict}\n",
        "    return model_learning_dict\n",
        "\n",
        "\n",
        "def ROC_AUC_show(y_test, y_true):\n",
        "\n",
        "    \"\"\"Ploting ROC curve\"\"\"\n",
        "\n",
        "    sns.set(font_scale=1.5)\n",
        "    sns.set_color_codes(\"muted\")\n",
        "\n",
        "    plt.figure(figsize=(10, 8))\n",
        "    fpr, tpr, thresholds_ = roc_curve(y_test, y_true, pos_label=1)\n",
        "    lw = 2\n",
        "    plt.plot(fpr, tpr, lw=lw, label='ROC curve ')\n",
        "    plt.plot([0, 1], [0, 1])\n",
        "    plt.xlim([0.0, 1.0])\n",
        "    plt.ylim([0.0, 1.05])\n",
        "    plt.xlabel('False Positive Rate')\n",
        "    plt.ylabel('True Positive Rate')\n",
        "    plt.title('ROC curve')\n",
        "    plt.show()\n",
        "\n",
        "\n",
        "def Calc_of_metrics_and_Roc_Auc(model, y_true_proba, y_true_predict, X_train, X_test, y_train, y_test) -> dict:\n",
        "\n",
        "    \"\"\"Calculate metrics and plot ROC curve\n",
        "    Return dict with best values\n",
        "    {\"Thresholds\":thresholds[ix],\n",
        "    \"F_score\": fscore[ix],\n",
        "    \"Precision\":precision[ix],\n",
        "    \"Recall\": recall[ix]}\"\"\"\n",
        "\n",
        "    b = 1\n",
        "    precision, recall, thresholds = precision_recall_curve(y_test, y_true_proba)\n",
        "    fscore = (1 + b**2) * (precision * recall) / (b**2 * precision + recall)\n",
        "    ix = np.argmax(fscore)\n",
        "    if np.isnan(fscore[ix]):\n",
        "        F1 = f1_score(y_test, y_true_predict)\n",
        "        closest_value = min(fscore, key=lambda x: abs(F1 - x))\n",
        "        ix = list(fscore).index(closest_value)\n",
        "    fpr, tpr, thresholds_ = roc_curve(y_test, y_true_proba, pos_label=1)\n",
        "    print(f'Best Threshold={thresholds[ix]:.3f}, F-Score={fscore[ix]:.3f}, Precision={precision[ix]:.3f}, Recall={recall[ix]:.3f}')\n",
        "\n",
        "    print(\"\\n\",\"*\"*50,\"\\n\")\n",
        "    ROC_AUC_show(y_test, y_true_proba)\n",
        "\n",
        "    metrics_dict = {\"Thresholds\":thresholds[ix], \"F_score\": fscore[ix], \"Precision\":precision[ix], \"Recall\": recall[ix]}\n",
        "    return metrics_dict\n",
        "\n",
        "def plot_confusion_matrix(cm, classes,\n",
        "                          normalize=False,\n",
        "                          title='Confusion matrix',\n",
        "                          cmap=plt.cm.Blues):\n",
        "    \"\"\"\n",
        "    This function prints and plots the confusion matrix.\n",
        "    Normalization can be applied by setting `normalize=True`.\n",
        "    \"\"\"\n",
        "    plt.imshow(cm, interpolation='nearest', cmap=cmap)\n",
        "    plt.title(title)\n",
        "    plt.colorbar()\n",
        "    tick_marks = np.arange(len(classes))\n",
        "    plt.xticks(tick_marks, classes, rotation=45)\n",
        "    plt.yticks(tick_marks, classes)\n",
        "\n",
        "    if normalize:\n",
        "        cm = cm.astype('float') / cm.sum(axis=1)[:, np.newaxis]\n",
        "        print(\"Normalized confusion matrix\")\n",
        "    else:\n",
        "        print('Confusion matrix, without normalization')\n",
        "\n",
        "    print(cm)\n",
        "\n",
        "    thresh = cm.max() / 2.\n",
        "    for i, j in itertools.product(range(cm.shape[0]), range(cm.shape[1])):\n",
        "        plt.text(j, i, cm[i, j],\n",
        "                 horizontalalignment=\"center\",\n",
        "                 color=\"white\" if cm[i, j] > thresh else \"black\")\n",
        "\n",
        "    plt.tight_layout()\n",
        "    plt.ylabel('True label')\n",
        "    plt.xlabel('Predicted label')\n",
        "\n",
        "def Result_Confusion_matrix(model_dict, metrics, Y_test):\n",
        "    font = {'size' : 15}\n",
        "\n",
        "    plt.rc('font', **font)\n",
        "\n",
        "    cnf_matrix = confusion_matrix(y_test,\n",
        "                                        model_dict['y_true_predict'] > metrics['Thresholds'])\n",
        "    plt.figure(figsize=(10, 8))\n",
        "    plot_confusion_matrix(cnf_matrix, classes=['positive', 'negative'],\n",
        "                        title='Confusion matrix')\n",
        "    plt.savefig(\"conf_matrix.png\")\n",
        "    plt.show()\n",
        "\n",
        "\n",
        "class MyTextData(Dataset):\n",
        "    def __init__(self, data, target, transform=None):\n",
        "        self.data = torch.from_numpy(data).long()\n",
        "        self.target = torch.from_numpy(target).long()\n",
        "        self.transform = transform\n",
        "\n",
        "    def __getitem__(self, index):\n",
        "        x = self.data[index]\n",
        "        y = self.target[index]\n",
        "\n",
        "        if self.transform:\n",
        "            x = self.transform(x)\n",
        "\n",
        "        return x, y\n",
        "\n",
        "    def __len__(self):\n",
        "        return len(self.data)\n",
        "\n",
        "\n",
        "class Model_Text(nn.Module):\n",
        "    def __init__(self, vocab_size, embedding_out, out_channel=1, use_last=True):\n",
        "        super().__init__()\n",
        "        self.use_last = use_last\n",
        "        self.embedding = nn.Embedding(vocab_size, embedding_out)\n",
        "        self.lstm_b_1 = nn.LSTM(embedding_out, embedding_out // 2, bidirectional=True, dropout=0.2, batch_first=True)\n",
        "        self.lstm_1 = nn.LSTM(embedding_out, embedding_out // 2, dropout=0.2, batch_first=True)\n",
        "        self.srnn = nn.RNN(embedding_out // 2, embedding_out // 4, batch_first=True)\n",
        "        self.drop_1 = nn.Dropout(0.2)\n",
        "        self.fc1 = nn.Linear(embedding_out // 4, embedding_out // 8)\n",
        "        self.fc2 = nn.Linear(embedding_out // 8, embedding_out // 16)\n",
        "        self.fc3 = nn.Linear(embedding_out // 16, embedding_out // 32)\n",
        "        self.fc4 = nn.Linear(embedding_out // 32, out_channel)\n",
        "\n",
        "\n",
        "    def forward(self, x):\n",
        "        out_e = self.embedding(x)\n",
        "        out_lstm, _ = self.lstm_b_1(out_e)\n",
        "        out_lstm, _ = self.lstm_1(out_lstm)\n",
        "        rnn_out, _ = self.srnn(out_lstm)\n",
        "        out = rnn_out[:,-1,:] if self.use_last == True else torch.mean(rnn_out[:,:], dim=1)\n",
        "        out = self.drop_1(out)\n",
        "        out = self.fc1(out)\n",
        "        out = self.fc2(out)\n",
        "        out = self.fc3(out)\n",
        "        out = self.fc4(out)\n",
        "        outputs = F.sigmoid(out)\n",
        "        return outputs\n",
        "\n",
        "\n",
        "def NN_Model_Fit(model, epoch, dev, threshold, train_loader, val_loader, optimizer, criterion):\n",
        "\n",
        "    \"\"\"\n",
        "    model : model\n",
        "    epoch : int\n",
        "    dev : device\n",
        "    threshold : float\n",
        "    train_loader : <class 'torch.utils.data.dataloader.DataLoader'>\n",
        "    val_loader : <class 'torch.utils.data.dataloader.DataLoader'>\n",
        "    optimizer : torch.optim\n",
        "    criterion : torch.nn.modules.loss\n",
        "    \"\"\"\n",
        "\n",
        "    epochs = epoch\n",
        "    M = model.to(dev)\n",
        "    M.train()\n",
        "    th = threshold\n",
        "\n",
        "    train_loss_history = []\n",
        "    test_loss_history = []\n",
        "    train_acc_history = []\n",
        "    test_acc_history = []\n",
        "\n",
        "    start = time.time()\n",
        "\n",
        "    for epoch in range(epochs):\n",
        "        running_items, running_right = 0.0, 0.0\n",
        "        for i, data in enumerate(train_loader, 0):\n",
        "            inputs, labels = data[0].to(dev), data[1].to(dev)\n",
        "\n",
        "            # обнуляем градиент\n",
        "            optimizer.zero_grad()\n",
        "            outputs = M(inputs)\n",
        "\n",
        "            loss = criterion(outputs, labels.float().view(-1, 1))\n",
        "            loss.backward()\n",
        "            optimizer.step()\n",
        "\n",
        "            # подсчет ошибки на обучении\n",
        "            loss = loss.item()\n",
        "            running_items += len(labels)\n",
        "            # подсчет метрики на обучении\n",
        "            pred_labels = torch.squeeze((outputs > th).int())\n",
        "            running_right += (labels == pred_labels).sum()\n",
        "\n",
        "        # выводим статистику о процессе обучения\n",
        "        M.eval()\n",
        "\n",
        "        print(f'Epoch [{epoch + 1}/{epochs}]. ' \\\n",
        "                f'Step [{i + 1}/{len(train_loader)}]. ' \\\n",
        "                f'Loss: {loss:.3f}. ' \\\n",
        "                f'Acc: {running_right / running_items:.3f}', end='. ')\n",
        "        train_acc = running_right / running_items\n",
        "        train_acc_history.append(train_acc.item())\n",
        "        running_loss, running_items, running_right = 0.0, 0.0, 0.0\n",
        "        train_loss_history.append(loss)\n",
        "\n",
        "            # выводим статистику на тестовых данных\n",
        "        test_running_right, test_running_total, test_loss = 0.0, 0.0, 0.0\n",
        "        for j, data in enumerate(val_loader):\n",
        "            test_labels = data[1].to(dev)\n",
        "            test_outputs = M(data[0].to(dev))\n",
        "\n",
        "            # подсчет ошибки на тесте\n",
        "            test_loss = criterion(test_outputs, test_labels.float().view(-1, 1))\n",
        "            # подсчет метрики на тесте\n",
        "            test_running_total += len(data[1])\n",
        "            pred_test_labels = torch.squeeze((test_outputs > th).int())\n",
        "            test_running_right += (test_labels == pred_test_labels).sum()\n",
        "            test_acc = test_running_right / test_running_total\n",
        "\n",
        "        test_loss_history.append(test_loss.item())\n",
        "        test_acc_history.append(test_acc.item())\n",
        "        print(f'Test loss: {test_loss:.3f}. Test acc: {test_running_right / test_running_total:.3f}')\n",
        "\n",
        "        M.train()\n",
        "\n",
        "    stop = time.time()\n",
        "    print(f'\\nTraining is finished! It took {round((stop - start), 2)} seconds')\n",
        "    return M, train_loss_history, train_acc_history, test_loss_history, test_acc_history\n",
        "\n",
        "\n",
        "def save_model_dill(path, model_name):\n",
        "    with open(path, \"wb\") as mod:\n",
        "        dill.dump(model_name, mod)\n",
        "\n",
        "def load_model_dill(path):\n",
        "    with open(path, \"rb\") as mod1:\n",
        "        model_name = dill.load(mod1)\n",
        "    return model_name\n",
        "\n",
        "def save_model_pkl(path, model_name):\n",
        "    with open(path, \"wb\") as mod:\n",
        "        pickle.dump(model_name, mod)\n",
        "\n",
        "def load_model_pkl(path):\n",
        "    with open(path, \"rb\") as mod1:\n",
        "        model_name = pickle.load(mod1)\n",
        "    return model_name"
      ],
      "metadata": {
        "id": "OHCr_E1HPkCv"
      },
      "execution_count": 4,
      "outputs": []
    },
    {
      "cell_type": "code",
      "source": [
        "path_to_work_dir = \"/content/drive/MyDrive/NLP_HW6/\""
      ],
      "metadata": {
        "id": "OvZaR9heWMsW"
      },
      "execution_count": 5,
      "outputs": []
    },
    {
      "cell_type": "code",
      "source": [
        "drive.mount('/content/drive')"
      ],
      "metadata": {
        "colab": {
          "base_uri": "https://localhost:8080/"
        },
        "id": "-IqN5a0NV8uV",
        "outputId": "1262accf-5919-4b35-f531-0940d5255fda"
      },
      "execution_count": 6,
      "outputs": [
        {
          "output_type": "stream",
          "name": "stdout",
          "text": [
            "Mounted at /content/drive\n"
          ]
        }
      ]
    },
    {
      "cell_type": "code",
      "source": [
        "# MDir(path_to_work_dir)"
      ],
      "metadata": {
        "id": "V4Bun7z5WaUu"
      },
      "execution_count": 7,
      "outputs": []
    },
    {
      "cell_type": "markdown",
      "source": [
        "# Data"
      ],
      "metadata": {
        "id": "VA1XxIKEVcXc"
      }
    },
    {
      "cell_type": "markdown",
      "source": [
        "## Review dataset"
      ],
      "metadata": {
        "id": "XDnmDj1_dPss"
      }
    },
    {
      "cell_type": "code",
      "source": [
        "# !wget -O imdb.zip \"https://drive.google.com/uc?export=download&id=1vrQ5czMHoO3pEnmofFskymXMkq_u1dPc\""
      ],
      "metadata": {
        "collapsed": true,
        "id": "Uh8ENbPZWisu"
      },
      "execution_count": null,
      "outputs": []
    },
    {
      "cell_type": "code",
      "source": [
        "# !unzip imdb.zip"
      ],
      "metadata": {
        "collapsed": true,
        "id": "4t8cJgWcWoHw"
      },
      "execution_count": null,
      "outputs": []
    },
    {
      "cell_type": "code",
      "source": [
        "# pattern = re.compile('.\\.tsv')\n",
        "# for fl in os.listdir(\".\"):\n",
        "#     if pattern.findall(fl):\n",
        "#         shutil.move(fl, path_to_work_dir)"
      ],
      "metadata": {
        "id": "-fjtHNHdXgMH"
      },
      "execution_count": null,
      "outputs": []
    },
    {
      "cell_type": "code",
      "source": [
        "df_train = pd.read_csv(path_to_work_dir + 'train.tsv', delimiter='\\t')\n",
        "df_test = pd.read_csv(path_to_work_dir + 'test.tsv', delimiter='\\t')"
      ],
      "metadata": {
        "id": "Hqs_79nfXFSG"
      },
      "execution_count": null,
      "outputs": []
    },
    {
      "cell_type": "code",
      "source": [
        "df = pd.concat([df_train, df_test], ignore_index=True)"
      ],
      "metadata": {
        "colab": {
          "base_uri": "https://localhost:8080/",
          "height": 244
        },
        "id": "rssBJWIcbBjm",
        "outputId": "ed011d71-973f-436e-d813-43003af65bd6"
      },
      "execution_count": null,
      "outputs": [
        {
          "output_type": "stream",
          "name": "stdout",
          "text": [
            "(50000, 2)\n"
          ]
        },
        {
          "output_type": "execute_result",
          "data": {
            "text/plain": [
              "   is_positive                                             review\n",
              "0            0  Dreamgirls, despite its fistful of Tony wins i...\n",
              "1            0  This show comes up with interesting locations ...\n",
              "2            1  I simply love this movie. I also love the Ramo...\n",
              "3            0  Spoilers ahead if you want to call them that.....\n",
              "4            1  My all-time favorite movie! I have seen many m..."
            ],
            "text/html": [
              "\n",
              "  <div id=\"df-33f8cca1-4483-43aa-a906-e5a17d4265c2\" class=\"colab-df-container\">\n",
              "    <div>\n",
              "<style scoped>\n",
              "    .dataframe tbody tr th:only-of-type {\n",
              "        vertical-align: middle;\n",
              "    }\n",
              "\n",
              "    .dataframe tbody tr th {\n",
              "        vertical-align: top;\n",
              "    }\n",
              "\n",
              "    .dataframe thead th {\n",
              "        text-align: right;\n",
              "    }\n",
              "</style>\n",
              "<table border=\"1\" class=\"dataframe\">\n",
              "  <thead>\n",
              "    <tr style=\"text-align: right;\">\n",
              "      <th></th>\n",
              "      <th>is_positive</th>\n",
              "      <th>review</th>\n",
              "    </tr>\n",
              "  </thead>\n",
              "  <tbody>\n",
              "    <tr>\n",
              "      <th>0</th>\n",
              "      <td>0</td>\n",
              "      <td>Dreamgirls, despite its fistful of Tony wins i...</td>\n",
              "    </tr>\n",
              "    <tr>\n",
              "      <th>1</th>\n",
              "      <td>0</td>\n",
              "      <td>This show comes up with interesting locations ...</td>\n",
              "    </tr>\n",
              "    <tr>\n",
              "      <th>2</th>\n",
              "      <td>1</td>\n",
              "      <td>I simply love this movie. I also love the Ramo...</td>\n",
              "    </tr>\n",
              "    <tr>\n",
              "      <th>3</th>\n",
              "      <td>0</td>\n",
              "      <td>Spoilers ahead if you want to call them that.....</td>\n",
              "    </tr>\n",
              "    <tr>\n",
              "      <th>4</th>\n",
              "      <td>1</td>\n",
              "      <td>My all-time favorite movie! I have seen many m...</td>\n",
              "    </tr>\n",
              "  </tbody>\n",
              "</table>\n",
              "</div>\n",
              "    <div class=\"colab-df-buttons\">\n",
              "\n",
              "  <div class=\"colab-df-container\">\n",
              "    <button class=\"colab-df-convert\" onclick=\"convertToInteractive('df-33f8cca1-4483-43aa-a906-e5a17d4265c2')\"\n",
              "            title=\"Convert this dataframe to an interactive table.\"\n",
              "            style=\"display:none;\">\n",
              "\n",
              "  <svg xmlns=\"http://www.w3.org/2000/svg\" height=\"24px\" viewBox=\"0 -960 960 960\">\n",
              "    <path d=\"M120-120v-720h720v720H120Zm60-500h600v-160H180v160Zm220 220h160v-160H400v160Zm0 220h160v-160H400v160ZM180-400h160v-160H180v160Zm440 0h160v-160H620v160ZM180-180h160v-160H180v160Zm440 0h160v-160H620v160Z\"/>\n",
              "  </svg>\n",
              "    </button>\n",
              "\n",
              "  <style>\n",
              "    .colab-df-container {\n",
              "      display:flex;\n",
              "      gap: 12px;\n",
              "    }\n",
              "\n",
              "    .colab-df-convert {\n",
              "      background-color: #E8F0FE;\n",
              "      border: none;\n",
              "      border-radius: 50%;\n",
              "      cursor: pointer;\n",
              "      display: none;\n",
              "      fill: #1967D2;\n",
              "      height: 32px;\n",
              "      padding: 0 0 0 0;\n",
              "      width: 32px;\n",
              "    }\n",
              "\n",
              "    .colab-df-convert:hover {\n",
              "      background-color: #E2EBFA;\n",
              "      box-shadow: 0px 1px 2px rgba(60, 64, 67, 0.3), 0px 1px 3px 1px rgba(60, 64, 67, 0.15);\n",
              "      fill: #174EA6;\n",
              "    }\n",
              "\n",
              "    .colab-df-buttons div {\n",
              "      margin-bottom: 4px;\n",
              "    }\n",
              "\n",
              "    [theme=dark] .colab-df-convert {\n",
              "      background-color: #3B4455;\n",
              "      fill: #D2E3FC;\n",
              "    }\n",
              "\n",
              "    [theme=dark] .colab-df-convert:hover {\n",
              "      background-color: #434B5C;\n",
              "      box-shadow: 0px 1px 3px 1px rgba(0, 0, 0, 0.15);\n",
              "      filter: drop-shadow(0px 1px 2px rgba(0, 0, 0, 0.3));\n",
              "      fill: #FFFFFF;\n",
              "    }\n",
              "  </style>\n",
              "\n",
              "    <script>\n",
              "      const buttonEl =\n",
              "        document.querySelector('#df-33f8cca1-4483-43aa-a906-e5a17d4265c2 button.colab-df-convert');\n",
              "      buttonEl.style.display =\n",
              "        google.colab.kernel.accessAllowed ? 'block' : 'none';\n",
              "\n",
              "      async function convertToInteractive(key) {\n",
              "        const element = document.querySelector('#df-33f8cca1-4483-43aa-a906-e5a17d4265c2');\n",
              "        const dataTable =\n",
              "          await google.colab.kernel.invokeFunction('convertToInteractive',\n",
              "                                                    [key], {});\n",
              "        if (!dataTable) return;\n",
              "\n",
              "        const docLinkHtml = 'Like what you see? Visit the ' +\n",
              "          '<a target=\"_blank\" href=https://colab.research.google.com/notebooks/data_table.ipynb>data table notebook</a>'\n",
              "          + ' to learn more about interactive tables.';\n",
              "        element.innerHTML = '';\n",
              "        dataTable['output_type'] = 'display_data';\n",
              "        await google.colab.output.renderOutput(dataTable, element);\n",
              "        const docLink = document.createElement('div');\n",
              "        docLink.innerHTML = docLinkHtml;\n",
              "        element.appendChild(docLink);\n",
              "      }\n",
              "    </script>\n",
              "  </div>\n",
              "\n",
              "\n",
              "<div id=\"df-7b03e25f-aa6e-4c9a-8d5c-91e0ab15985f\">\n",
              "  <button class=\"colab-df-quickchart\" onclick=\"quickchart('df-7b03e25f-aa6e-4c9a-8d5c-91e0ab15985f')\"\n",
              "            title=\"Suggest charts\"\n",
              "            style=\"display:none;\">\n",
              "\n",
              "<svg xmlns=\"http://www.w3.org/2000/svg\" height=\"24px\"viewBox=\"0 0 24 24\"\n",
              "     width=\"24px\">\n",
              "    <g>\n",
              "        <path d=\"M19 3H5c-1.1 0-2 .9-2 2v14c0 1.1.9 2 2 2h14c1.1 0 2-.9 2-2V5c0-1.1-.9-2-2-2zM9 17H7v-7h2v7zm4 0h-2V7h2v10zm4 0h-2v-4h2v4z\"/>\n",
              "    </g>\n",
              "</svg>\n",
              "  </button>\n",
              "\n",
              "<style>\n",
              "  .colab-df-quickchart {\n",
              "      --bg-color: #E8F0FE;\n",
              "      --fill-color: #1967D2;\n",
              "      --hover-bg-color: #E2EBFA;\n",
              "      --hover-fill-color: #174EA6;\n",
              "      --disabled-fill-color: #AAA;\n",
              "      --disabled-bg-color: #DDD;\n",
              "  }\n",
              "\n",
              "  [theme=dark] .colab-df-quickchart {\n",
              "      --bg-color: #3B4455;\n",
              "      --fill-color: #D2E3FC;\n",
              "      --hover-bg-color: #434B5C;\n",
              "      --hover-fill-color: #FFFFFF;\n",
              "      --disabled-bg-color: #3B4455;\n",
              "      --disabled-fill-color: #666;\n",
              "  }\n",
              "\n",
              "  .colab-df-quickchart {\n",
              "    background-color: var(--bg-color);\n",
              "    border: none;\n",
              "    border-radius: 50%;\n",
              "    cursor: pointer;\n",
              "    display: none;\n",
              "    fill: var(--fill-color);\n",
              "    height: 32px;\n",
              "    padding: 0;\n",
              "    width: 32px;\n",
              "  }\n",
              "\n",
              "  .colab-df-quickchart:hover {\n",
              "    background-color: var(--hover-bg-color);\n",
              "    box-shadow: 0 1px 2px rgba(60, 64, 67, 0.3), 0 1px 3px 1px rgba(60, 64, 67, 0.15);\n",
              "    fill: var(--button-hover-fill-color);\n",
              "  }\n",
              "\n",
              "  .colab-df-quickchart-complete:disabled,\n",
              "  .colab-df-quickchart-complete:disabled:hover {\n",
              "    background-color: var(--disabled-bg-color);\n",
              "    fill: var(--disabled-fill-color);\n",
              "    box-shadow: none;\n",
              "  }\n",
              "\n",
              "  .colab-df-spinner {\n",
              "    border: 2px solid var(--fill-color);\n",
              "    border-color: transparent;\n",
              "    border-bottom-color: var(--fill-color);\n",
              "    animation:\n",
              "      spin 1s steps(1) infinite;\n",
              "  }\n",
              "\n",
              "  @keyframes spin {\n",
              "    0% {\n",
              "      border-color: transparent;\n",
              "      border-bottom-color: var(--fill-color);\n",
              "      border-left-color: var(--fill-color);\n",
              "    }\n",
              "    20% {\n",
              "      border-color: transparent;\n",
              "      border-left-color: var(--fill-color);\n",
              "      border-top-color: var(--fill-color);\n",
              "    }\n",
              "    30% {\n",
              "      border-color: transparent;\n",
              "      border-left-color: var(--fill-color);\n",
              "      border-top-color: var(--fill-color);\n",
              "      border-right-color: var(--fill-color);\n",
              "    }\n",
              "    40% {\n",
              "      border-color: transparent;\n",
              "      border-right-color: var(--fill-color);\n",
              "      border-top-color: var(--fill-color);\n",
              "    }\n",
              "    60% {\n",
              "      border-color: transparent;\n",
              "      border-right-color: var(--fill-color);\n",
              "    }\n",
              "    80% {\n",
              "      border-color: transparent;\n",
              "      border-right-color: var(--fill-color);\n",
              "      border-bottom-color: var(--fill-color);\n",
              "    }\n",
              "    90% {\n",
              "      border-color: transparent;\n",
              "      border-bottom-color: var(--fill-color);\n",
              "    }\n",
              "  }\n",
              "</style>\n",
              "\n",
              "  <script>\n",
              "    async function quickchart(key) {\n",
              "      const quickchartButtonEl =\n",
              "        document.querySelector('#' + key + ' button');\n",
              "      quickchartButtonEl.disabled = true;  // To prevent multiple clicks.\n",
              "      quickchartButtonEl.classList.add('colab-df-spinner');\n",
              "      try {\n",
              "        const charts = await google.colab.kernel.invokeFunction(\n",
              "            'suggestCharts', [key], {});\n",
              "      } catch (error) {\n",
              "        console.error('Error during call to suggestCharts:', error);\n",
              "      }\n",
              "      quickchartButtonEl.classList.remove('colab-df-spinner');\n",
              "      quickchartButtonEl.classList.add('colab-df-quickchart-complete');\n",
              "    }\n",
              "    (() => {\n",
              "      let quickchartButtonEl =\n",
              "        document.querySelector('#df-7b03e25f-aa6e-4c9a-8d5c-91e0ab15985f button');\n",
              "      quickchartButtonEl.style.display =\n",
              "        google.colab.kernel.accessAllowed ? 'block' : 'none';\n",
              "    })();\n",
              "  </script>\n",
              "</div>\n",
              "    </div>\n",
              "  </div>\n"
            ],
            "application/vnd.google.colaboratory.intrinsic+json": {
              "type": "dataframe",
              "variable_name": "df",
              "summary": "{\n  \"name\": \"df\",\n  \"rows\": 50000,\n  \"fields\": [\n    {\n      \"column\": \"is_positive\",\n      \"properties\": {\n        \"dtype\": \"number\",\n        \"std\": 0,\n        \"min\": 0,\n        \"max\": 1,\n        \"num_unique_values\": 2,\n        \"samples\": [\n          1,\n          0\n        ],\n        \"semantic_type\": \"\",\n        \"description\": \"\"\n      }\n    },\n    {\n      \"column\": \"review\",\n      \"properties\": {\n        \"dtype\": \"string\",\n        \"num_unique_values\": 49582,\n        \"samples\": [\n          \"Afraid of the Dark left me with the impression that several different screenplays were written, all too short for a feature length film, then spliced together clumsily into this Frankenstein's monster.<br /><br />At his best, the protagonist, Lucas, is creepy. As hard as it is to draw a bead on the secondary characters, they're far more sympathetic.<br /><br />Afraid of the Dark could have achieved mediocrity had it taken just one approach and seen it through -- and had it made Lucas simply psychotic and confused instead of ghoulish and off-putting. I wanted to see him packed off into an asylum so the rest of the characters could have a normal life.\",\n          \"This movie was dreadful. Biblically very inaccurate. Moses was 80 years old when he led the people out of Egypt, the movie has him about forty. Moses was about forty when he fled Egypt, was gone for forty years, and was with them wandering for forty years. Moses was 120 years old when he died, and was denied the privilege of crossing over to the promised land. I realize movies use a lot of \\\"poetic license\\\" as the biblical account isn't that long, but, if making a biblical movie they still need to reflect the facts known, and keep the general flavor of the main biblical character, this movie fails in this aspect, and in many others.Even though the 1956 version has its problems as well, theatrically it was much better.\"\n        ],\n        \"semantic_type\": \"\",\n        \"description\": \"\"\n      }\n    }\n  ]\n}"
            }
          },
          "metadata": {},
          "execution_count": 15
        }
      ]
    },
    {
      "cell_type": "code",
      "source": [
        "df.to_csv(path_to_work_dir + 'clean_data.csv', index=None)"
      ],
      "metadata": {
        "id": "3HbAPA9FCm0L"
      },
      "execution_count": null,
      "outputs": []
    },
    {
      "cell_type": "code",
      "source": [
        "cln = CleanText(key='review')\n",
        "df['review'] = cln.transform(df)"
      ],
      "metadata": {
        "colab": {
          "base_uri": "https://localhost:8080/",
          "height": 279
        },
        "id": "508wa3FB9Tqa",
        "outputId": "a88cb9a6-dfe5-4c00-d62a-419d7929ad5e"
      },
      "execution_count": null,
      "outputs": [
        {
          "output_type": "stream",
          "name": "stderr",
          "text": [
            "  0%|          | 0/50000 [00:00<?, ?it/s]<ipython-input-3-3b67c32ab67a>:62: FutureWarning: Possible nested set at position 39\n",
            "  text = re.sub(\"[0-9]|[-—.,:;_%©«»?*!@#№$^•·&()]|[+=]|[[]|[]]|[/]|\", '', text)\n",
            "100%|██████████| 50000/50000 [04:01<00:00, 207.28it/s]\n"
          ]
        },
        {
          "output_type": "execute_result",
          "data": {
            "text/plain": [
              "   is_positive                                             review\n",
              "0            0  dreamgirls despite fistful tony wins incredibl...\n",
              "1            0  show comes interesting locations fast travel c...\n",
              "2            1  simply love movie also love ramones sorta bias...\n",
              "3            0  spoilers ahead want call that<br ><br >i would...\n",
              "4            1  alltime favorite movie seen many movies one be..."
            ],
            "text/html": [
              "\n",
              "  <div id=\"df-10392357-3924-4264-be75-8c85147a43c3\" class=\"colab-df-container\">\n",
              "    <div>\n",
              "<style scoped>\n",
              "    .dataframe tbody tr th:only-of-type {\n",
              "        vertical-align: middle;\n",
              "    }\n",
              "\n",
              "    .dataframe tbody tr th {\n",
              "        vertical-align: top;\n",
              "    }\n",
              "\n",
              "    .dataframe thead th {\n",
              "        text-align: right;\n",
              "    }\n",
              "</style>\n",
              "<table border=\"1\" class=\"dataframe\">\n",
              "  <thead>\n",
              "    <tr style=\"text-align: right;\">\n",
              "      <th></th>\n",
              "      <th>is_positive</th>\n",
              "      <th>review</th>\n",
              "    </tr>\n",
              "  </thead>\n",
              "  <tbody>\n",
              "    <tr>\n",
              "      <th>0</th>\n",
              "      <td>0</td>\n",
              "      <td>dreamgirls despite fistful tony wins incredibl...</td>\n",
              "    </tr>\n",
              "    <tr>\n",
              "      <th>1</th>\n",
              "      <td>0</td>\n",
              "      <td>show comes interesting locations fast travel c...</td>\n",
              "    </tr>\n",
              "    <tr>\n",
              "      <th>2</th>\n",
              "      <td>1</td>\n",
              "      <td>simply love movie also love ramones sorta bias...</td>\n",
              "    </tr>\n",
              "    <tr>\n",
              "      <th>3</th>\n",
              "      <td>0</td>\n",
              "      <td>spoilers ahead want call that&lt;br &gt;&lt;br &gt;i would...</td>\n",
              "    </tr>\n",
              "    <tr>\n",
              "      <th>4</th>\n",
              "      <td>1</td>\n",
              "      <td>alltime favorite movie seen many movies one be...</td>\n",
              "    </tr>\n",
              "  </tbody>\n",
              "</table>\n",
              "</div>\n",
              "    <div class=\"colab-df-buttons\">\n",
              "\n",
              "  <div class=\"colab-df-container\">\n",
              "    <button class=\"colab-df-convert\" onclick=\"convertToInteractive('df-10392357-3924-4264-be75-8c85147a43c3')\"\n",
              "            title=\"Convert this dataframe to an interactive table.\"\n",
              "            style=\"display:none;\">\n",
              "\n",
              "  <svg xmlns=\"http://www.w3.org/2000/svg\" height=\"24px\" viewBox=\"0 -960 960 960\">\n",
              "    <path d=\"M120-120v-720h720v720H120Zm60-500h600v-160H180v160Zm220 220h160v-160H400v160Zm0 220h160v-160H400v160ZM180-400h160v-160H180v160Zm440 0h160v-160H620v160ZM180-180h160v-160H180v160Zm440 0h160v-160H620v160Z\"/>\n",
              "  </svg>\n",
              "    </button>\n",
              "\n",
              "  <style>\n",
              "    .colab-df-container {\n",
              "      display:flex;\n",
              "      gap: 12px;\n",
              "    }\n",
              "\n",
              "    .colab-df-convert {\n",
              "      background-color: #E8F0FE;\n",
              "      border: none;\n",
              "      border-radius: 50%;\n",
              "      cursor: pointer;\n",
              "      display: none;\n",
              "      fill: #1967D2;\n",
              "      height: 32px;\n",
              "      padding: 0 0 0 0;\n",
              "      width: 32px;\n",
              "    }\n",
              "\n",
              "    .colab-df-convert:hover {\n",
              "      background-color: #E2EBFA;\n",
              "      box-shadow: 0px 1px 2px rgba(60, 64, 67, 0.3), 0px 1px 3px 1px rgba(60, 64, 67, 0.15);\n",
              "      fill: #174EA6;\n",
              "    }\n",
              "\n",
              "    .colab-df-buttons div {\n",
              "      margin-bottom: 4px;\n",
              "    }\n",
              "\n",
              "    [theme=dark] .colab-df-convert {\n",
              "      background-color: #3B4455;\n",
              "      fill: #D2E3FC;\n",
              "    }\n",
              "\n",
              "    [theme=dark] .colab-df-convert:hover {\n",
              "      background-color: #434B5C;\n",
              "      box-shadow: 0px 1px 3px 1px rgba(0, 0, 0, 0.15);\n",
              "      filter: drop-shadow(0px 1px 2px rgba(0, 0, 0, 0.3));\n",
              "      fill: #FFFFFF;\n",
              "    }\n",
              "  </style>\n",
              "\n",
              "    <script>\n",
              "      const buttonEl =\n",
              "        document.querySelector('#df-10392357-3924-4264-be75-8c85147a43c3 button.colab-df-convert');\n",
              "      buttonEl.style.display =\n",
              "        google.colab.kernel.accessAllowed ? 'block' : 'none';\n",
              "\n",
              "      async function convertToInteractive(key) {\n",
              "        const element = document.querySelector('#df-10392357-3924-4264-be75-8c85147a43c3');\n",
              "        const dataTable =\n",
              "          await google.colab.kernel.invokeFunction('convertToInteractive',\n",
              "                                                    [key], {});\n",
              "        if (!dataTable) return;\n",
              "\n",
              "        const docLinkHtml = 'Like what you see? Visit the ' +\n",
              "          '<a target=\"_blank\" href=https://colab.research.google.com/notebooks/data_table.ipynb>data table notebook</a>'\n",
              "          + ' to learn more about interactive tables.';\n",
              "        element.innerHTML = '';\n",
              "        dataTable['output_type'] = 'display_data';\n",
              "        await google.colab.output.renderOutput(dataTable, element);\n",
              "        const docLink = document.createElement('div');\n",
              "        docLink.innerHTML = docLinkHtml;\n",
              "        element.appendChild(docLink);\n",
              "      }\n",
              "    </script>\n",
              "  </div>\n",
              "\n",
              "\n",
              "<div id=\"df-fc3ea8cc-714f-4a86-ac89-da75a03180a3\">\n",
              "  <button class=\"colab-df-quickchart\" onclick=\"quickchart('df-fc3ea8cc-714f-4a86-ac89-da75a03180a3')\"\n",
              "            title=\"Suggest charts\"\n",
              "            style=\"display:none;\">\n",
              "\n",
              "<svg xmlns=\"http://www.w3.org/2000/svg\" height=\"24px\"viewBox=\"0 0 24 24\"\n",
              "     width=\"24px\">\n",
              "    <g>\n",
              "        <path d=\"M19 3H5c-1.1 0-2 .9-2 2v14c0 1.1.9 2 2 2h14c1.1 0 2-.9 2-2V5c0-1.1-.9-2-2-2zM9 17H7v-7h2v7zm4 0h-2V7h2v10zm4 0h-2v-4h2v4z\"/>\n",
              "    </g>\n",
              "</svg>\n",
              "  </button>\n",
              "\n",
              "<style>\n",
              "  .colab-df-quickchart {\n",
              "      --bg-color: #E8F0FE;\n",
              "      --fill-color: #1967D2;\n",
              "      --hover-bg-color: #E2EBFA;\n",
              "      --hover-fill-color: #174EA6;\n",
              "      --disabled-fill-color: #AAA;\n",
              "      --disabled-bg-color: #DDD;\n",
              "  }\n",
              "\n",
              "  [theme=dark] .colab-df-quickchart {\n",
              "      --bg-color: #3B4455;\n",
              "      --fill-color: #D2E3FC;\n",
              "      --hover-bg-color: #434B5C;\n",
              "      --hover-fill-color: #FFFFFF;\n",
              "      --disabled-bg-color: #3B4455;\n",
              "      --disabled-fill-color: #666;\n",
              "  }\n",
              "\n",
              "  .colab-df-quickchart {\n",
              "    background-color: var(--bg-color);\n",
              "    border: none;\n",
              "    border-radius: 50%;\n",
              "    cursor: pointer;\n",
              "    display: none;\n",
              "    fill: var(--fill-color);\n",
              "    height: 32px;\n",
              "    padding: 0;\n",
              "    width: 32px;\n",
              "  }\n",
              "\n",
              "  .colab-df-quickchart:hover {\n",
              "    background-color: var(--hover-bg-color);\n",
              "    box-shadow: 0 1px 2px rgba(60, 64, 67, 0.3), 0 1px 3px 1px rgba(60, 64, 67, 0.15);\n",
              "    fill: var(--button-hover-fill-color);\n",
              "  }\n",
              "\n",
              "  .colab-df-quickchart-complete:disabled,\n",
              "  .colab-df-quickchart-complete:disabled:hover {\n",
              "    background-color: var(--disabled-bg-color);\n",
              "    fill: var(--disabled-fill-color);\n",
              "    box-shadow: none;\n",
              "  }\n",
              "\n",
              "  .colab-df-spinner {\n",
              "    border: 2px solid var(--fill-color);\n",
              "    border-color: transparent;\n",
              "    border-bottom-color: var(--fill-color);\n",
              "    animation:\n",
              "      spin 1s steps(1) infinite;\n",
              "  }\n",
              "\n",
              "  @keyframes spin {\n",
              "    0% {\n",
              "      border-color: transparent;\n",
              "      border-bottom-color: var(--fill-color);\n",
              "      border-left-color: var(--fill-color);\n",
              "    }\n",
              "    20% {\n",
              "      border-color: transparent;\n",
              "      border-left-color: var(--fill-color);\n",
              "      border-top-color: var(--fill-color);\n",
              "    }\n",
              "    30% {\n",
              "      border-color: transparent;\n",
              "      border-left-color: var(--fill-color);\n",
              "      border-top-color: var(--fill-color);\n",
              "      border-right-color: var(--fill-color);\n",
              "    }\n",
              "    40% {\n",
              "      border-color: transparent;\n",
              "      border-right-color: var(--fill-color);\n",
              "      border-top-color: var(--fill-color);\n",
              "    }\n",
              "    60% {\n",
              "      border-color: transparent;\n",
              "      border-right-color: var(--fill-color);\n",
              "    }\n",
              "    80% {\n",
              "      border-color: transparent;\n",
              "      border-right-color: var(--fill-color);\n",
              "      border-bottom-color: var(--fill-color);\n",
              "    }\n",
              "    90% {\n",
              "      border-color: transparent;\n",
              "      border-bottom-color: var(--fill-color);\n",
              "    }\n",
              "  }\n",
              "</style>\n",
              "\n",
              "  <script>\n",
              "    async function quickchart(key) {\n",
              "      const quickchartButtonEl =\n",
              "        document.querySelector('#' + key + ' button');\n",
              "      quickchartButtonEl.disabled = true;  // To prevent multiple clicks.\n",
              "      quickchartButtonEl.classList.add('colab-df-spinner');\n",
              "      try {\n",
              "        const charts = await google.colab.kernel.invokeFunction(\n",
              "            'suggestCharts', [key], {});\n",
              "      } catch (error) {\n",
              "        console.error('Error during call to suggestCharts:', error);\n",
              "      }\n",
              "      quickchartButtonEl.classList.remove('colab-df-spinner');\n",
              "      quickchartButtonEl.classList.add('colab-df-quickchart-complete');\n",
              "    }\n",
              "    (() => {\n",
              "      let quickchartButtonEl =\n",
              "        document.querySelector('#df-fc3ea8cc-714f-4a86-ac89-da75a03180a3 button');\n",
              "      quickchartButtonEl.style.display =\n",
              "        google.colab.kernel.accessAllowed ? 'block' : 'none';\n",
              "    })();\n",
              "  </script>\n",
              "</div>\n",
              "    </div>\n",
              "  </div>\n"
            ],
            "application/vnd.google.colaboratory.intrinsic+json": {
              "type": "dataframe",
              "variable_name": "df",
              "summary": "{\n  \"name\": \"df\",\n  \"rows\": 50000,\n  \"fields\": [\n    {\n      \"column\": \"is_positive\",\n      \"properties\": {\n        \"dtype\": \"number\",\n        \"std\": 0,\n        \"min\": 0,\n        \"max\": 1,\n        \"num_unique_values\": 2,\n        \"samples\": [\n          1,\n          0\n        ],\n        \"semantic_type\": \"\",\n        \"description\": \"\"\n      }\n    },\n    {\n      \"column\": \"review\",\n      \"properties\": {\n        \"dtype\": \"string\",\n        \"num_unique_values\": 49580,\n        \"samples\": [\n          \"new alltime low among westerns writing excruciatingly bad characters impossible emphasize either disgusting bland violence appalling technically convincingly executed tobey maguire shows us flip side talent sleepwalking part expressionless eyes raspy voice betrays mannerism 'ride devil' among five worst movie experiences ever western never surpassed negative respect\",\n          \"suffer insomnia radiant would best way send year coma film preposterously overwrought mundane hard imagine director steve mahone could overlook obvious dullness<br ><br >the story exiled doctor never get see move desert create vaccine cure diseases filling hosts full antibodies combat infection yes like episode futurama vaccines work human guinea pigs become infected virus kills within hours<br ><br >not wanting caught government guys masks group head desert cover hoping sunshine kill virus narrated michael one quartet immune infection boring narration ever could cast someone interesting voice instead get someone less vocal personality clive owen<br ><br >on top editor insists fadecutting half movie giving weird dreamlike feel increasing audiences desire go sleep surprise half audience walked one reason bloody well have<br ><br >the ending supposed shocking clever foreboding plain simply relief yes dramatic slightest<br ><br >the utter cheapness production muffled sound renders lot dialogue unintelligible cripples could interesting scifi story better actors cooler locations sense urgency radiant snoozefest\"\n        ],\n        \"semantic_type\": \"\",\n        \"description\": \"\"\n      }\n    }\n  ]\n}"
            }
          },
          "metadata": {},
          "execution_count": 16
        }
      ]
    },
    {
      "cell_type": "code",
      "source": [
        "df = pd.read_csv(path_to_work_dir + 'clean_data.csv')\n",
        "df.head()"
      ],
      "metadata": {
        "colab": {
          "base_uri": "https://localhost:8080/",
          "height": 226
        },
        "id": "UbMW0lTy-YaP",
        "outputId": "6ff78624-726b-49f7-89b1-95f0b6bd8034"
      },
      "execution_count": null,
      "outputs": [
        {
          "output_type": "execute_result",
          "data": {
            "text/plain": [
              "   is_positive                                             review\n",
              "0            0  dreamgirls despite fistful tony wins incredibl...\n",
              "1            0  show comes interesting locations fast travel c...\n",
              "2            1  simply love movie also love ramones sorta bias...\n",
              "3            0  spoilers ahead want call that<br ><br >i would...\n",
              "4            1  alltime favorite movie seen many movies one be..."
            ],
            "text/html": [
              "\n",
              "  <div id=\"df-ffaa3f71-39b8-40ae-a720-2f7002c85dff\" class=\"colab-df-container\">\n",
              "    <div>\n",
              "<style scoped>\n",
              "    .dataframe tbody tr th:only-of-type {\n",
              "        vertical-align: middle;\n",
              "    }\n",
              "\n",
              "    .dataframe tbody tr th {\n",
              "        vertical-align: top;\n",
              "    }\n",
              "\n",
              "    .dataframe thead th {\n",
              "        text-align: right;\n",
              "    }\n",
              "</style>\n",
              "<table border=\"1\" class=\"dataframe\">\n",
              "  <thead>\n",
              "    <tr style=\"text-align: right;\">\n",
              "      <th></th>\n",
              "      <th>is_positive</th>\n",
              "      <th>review</th>\n",
              "    </tr>\n",
              "  </thead>\n",
              "  <tbody>\n",
              "    <tr>\n",
              "      <th>0</th>\n",
              "      <td>0</td>\n",
              "      <td>dreamgirls despite fistful tony wins incredibl...</td>\n",
              "    </tr>\n",
              "    <tr>\n",
              "      <th>1</th>\n",
              "      <td>0</td>\n",
              "      <td>show comes interesting locations fast travel c...</td>\n",
              "    </tr>\n",
              "    <tr>\n",
              "      <th>2</th>\n",
              "      <td>1</td>\n",
              "      <td>simply love movie also love ramones sorta bias...</td>\n",
              "    </tr>\n",
              "    <tr>\n",
              "      <th>3</th>\n",
              "      <td>0</td>\n",
              "      <td>spoilers ahead want call that&lt;br &gt;&lt;br &gt;i would...</td>\n",
              "    </tr>\n",
              "    <tr>\n",
              "      <th>4</th>\n",
              "      <td>1</td>\n",
              "      <td>alltime favorite movie seen many movies one be...</td>\n",
              "    </tr>\n",
              "  </tbody>\n",
              "</table>\n",
              "</div>\n",
              "    <div class=\"colab-df-buttons\">\n",
              "\n",
              "  <div class=\"colab-df-container\">\n",
              "    <button class=\"colab-df-convert\" onclick=\"convertToInteractive('df-ffaa3f71-39b8-40ae-a720-2f7002c85dff')\"\n",
              "            title=\"Convert this dataframe to an interactive table.\"\n",
              "            style=\"display:none;\">\n",
              "\n",
              "  <svg xmlns=\"http://www.w3.org/2000/svg\" height=\"24px\" viewBox=\"0 -960 960 960\">\n",
              "    <path d=\"M120-120v-720h720v720H120Zm60-500h600v-160H180v160Zm220 220h160v-160H400v160Zm0 220h160v-160H400v160ZM180-400h160v-160H180v160Zm440 0h160v-160H620v160ZM180-180h160v-160H180v160Zm440 0h160v-160H620v160Z\"/>\n",
              "  </svg>\n",
              "    </button>\n",
              "\n",
              "  <style>\n",
              "    .colab-df-container {\n",
              "      display:flex;\n",
              "      gap: 12px;\n",
              "    }\n",
              "\n",
              "    .colab-df-convert {\n",
              "      background-color: #E8F0FE;\n",
              "      border: none;\n",
              "      border-radius: 50%;\n",
              "      cursor: pointer;\n",
              "      display: none;\n",
              "      fill: #1967D2;\n",
              "      height: 32px;\n",
              "      padding: 0 0 0 0;\n",
              "      width: 32px;\n",
              "    }\n",
              "\n",
              "    .colab-df-convert:hover {\n",
              "      background-color: #E2EBFA;\n",
              "      box-shadow: 0px 1px 2px rgba(60, 64, 67, 0.3), 0px 1px 3px 1px rgba(60, 64, 67, 0.15);\n",
              "      fill: #174EA6;\n",
              "    }\n",
              "\n",
              "    .colab-df-buttons div {\n",
              "      margin-bottom: 4px;\n",
              "    }\n",
              "\n",
              "    [theme=dark] .colab-df-convert {\n",
              "      background-color: #3B4455;\n",
              "      fill: #D2E3FC;\n",
              "    }\n",
              "\n",
              "    [theme=dark] .colab-df-convert:hover {\n",
              "      background-color: #434B5C;\n",
              "      box-shadow: 0px 1px 3px 1px rgba(0, 0, 0, 0.15);\n",
              "      filter: drop-shadow(0px 1px 2px rgba(0, 0, 0, 0.3));\n",
              "      fill: #FFFFFF;\n",
              "    }\n",
              "  </style>\n",
              "\n",
              "    <script>\n",
              "      const buttonEl =\n",
              "        document.querySelector('#df-ffaa3f71-39b8-40ae-a720-2f7002c85dff button.colab-df-convert');\n",
              "      buttonEl.style.display =\n",
              "        google.colab.kernel.accessAllowed ? 'block' : 'none';\n",
              "\n",
              "      async function convertToInteractive(key) {\n",
              "        const element = document.querySelector('#df-ffaa3f71-39b8-40ae-a720-2f7002c85dff');\n",
              "        const dataTable =\n",
              "          await google.colab.kernel.invokeFunction('convertToInteractive',\n",
              "                                                    [key], {});\n",
              "        if (!dataTable) return;\n",
              "\n",
              "        const docLinkHtml = 'Like what you see? Visit the ' +\n",
              "          '<a target=\"_blank\" href=https://colab.research.google.com/notebooks/data_table.ipynb>data table notebook</a>'\n",
              "          + ' to learn more about interactive tables.';\n",
              "        element.innerHTML = '';\n",
              "        dataTable['output_type'] = 'display_data';\n",
              "        await google.colab.output.renderOutput(dataTable, element);\n",
              "        const docLink = document.createElement('div');\n",
              "        docLink.innerHTML = docLinkHtml;\n",
              "        element.appendChild(docLink);\n",
              "      }\n",
              "    </script>\n",
              "  </div>\n",
              "\n",
              "\n",
              "<div id=\"df-99d734fc-f60c-4584-a54e-bb3b3deef0f9\">\n",
              "  <button class=\"colab-df-quickchart\" onclick=\"quickchart('df-99d734fc-f60c-4584-a54e-bb3b3deef0f9')\"\n",
              "            title=\"Suggest charts\"\n",
              "            style=\"display:none;\">\n",
              "\n",
              "<svg xmlns=\"http://www.w3.org/2000/svg\" height=\"24px\"viewBox=\"0 0 24 24\"\n",
              "     width=\"24px\">\n",
              "    <g>\n",
              "        <path d=\"M19 3H5c-1.1 0-2 .9-2 2v14c0 1.1.9 2 2 2h14c1.1 0 2-.9 2-2V5c0-1.1-.9-2-2-2zM9 17H7v-7h2v7zm4 0h-2V7h2v10zm4 0h-2v-4h2v4z\"/>\n",
              "    </g>\n",
              "</svg>\n",
              "  </button>\n",
              "\n",
              "<style>\n",
              "  .colab-df-quickchart {\n",
              "      --bg-color: #E8F0FE;\n",
              "      --fill-color: #1967D2;\n",
              "      --hover-bg-color: #E2EBFA;\n",
              "      --hover-fill-color: #174EA6;\n",
              "      --disabled-fill-color: #AAA;\n",
              "      --disabled-bg-color: #DDD;\n",
              "  }\n",
              "\n",
              "  [theme=dark] .colab-df-quickchart {\n",
              "      --bg-color: #3B4455;\n",
              "      --fill-color: #D2E3FC;\n",
              "      --hover-bg-color: #434B5C;\n",
              "      --hover-fill-color: #FFFFFF;\n",
              "      --disabled-bg-color: #3B4455;\n",
              "      --disabled-fill-color: #666;\n",
              "  }\n",
              "\n",
              "  .colab-df-quickchart {\n",
              "    background-color: var(--bg-color);\n",
              "    border: none;\n",
              "    border-radius: 50%;\n",
              "    cursor: pointer;\n",
              "    display: none;\n",
              "    fill: var(--fill-color);\n",
              "    height: 32px;\n",
              "    padding: 0;\n",
              "    width: 32px;\n",
              "  }\n",
              "\n",
              "  .colab-df-quickchart:hover {\n",
              "    background-color: var(--hover-bg-color);\n",
              "    box-shadow: 0 1px 2px rgba(60, 64, 67, 0.3), 0 1px 3px 1px rgba(60, 64, 67, 0.15);\n",
              "    fill: var(--button-hover-fill-color);\n",
              "  }\n",
              "\n",
              "  .colab-df-quickchart-complete:disabled,\n",
              "  .colab-df-quickchart-complete:disabled:hover {\n",
              "    background-color: var(--disabled-bg-color);\n",
              "    fill: var(--disabled-fill-color);\n",
              "    box-shadow: none;\n",
              "  }\n",
              "\n",
              "  .colab-df-spinner {\n",
              "    border: 2px solid var(--fill-color);\n",
              "    border-color: transparent;\n",
              "    border-bottom-color: var(--fill-color);\n",
              "    animation:\n",
              "      spin 1s steps(1) infinite;\n",
              "  }\n",
              "\n",
              "  @keyframes spin {\n",
              "    0% {\n",
              "      border-color: transparent;\n",
              "      border-bottom-color: var(--fill-color);\n",
              "      border-left-color: var(--fill-color);\n",
              "    }\n",
              "    20% {\n",
              "      border-color: transparent;\n",
              "      border-left-color: var(--fill-color);\n",
              "      border-top-color: var(--fill-color);\n",
              "    }\n",
              "    30% {\n",
              "      border-color: transparent;\n",
              "      border-left-color: var(--fill-color);\n",
              "      border-top-color: var(--fill-color);\n",
              "      border-right-color: var(--fill-color);\n",
              "    }\n",
              "    40% {\n",
              "      border-color: transparent;\n",
              "      border-right-color: var(--fill-color);\n",
              "      border-top-color: var(--fill-color);\n",
              "    }\n",
              "    60% {\n",
              "      border-color: transparent;\n",
              "      border-right-color: var(--fill-color);\n",
              "    }\n",
              "    80% {\n",
              "      border-color: transparent;\n",
              "      border-right-color: var(--fill-color);\n",
              "      border-bottom-color: var(--fill-color);\n",
              "    }\n",
              "    90% {\n",
              "      border-color: transparent;\n",
              "      border-bottom-color: var(--fill-color);\n",
              "    }\n",
              "  }\n",
              "</style>\n",
              "\n",
              "  <script>\n",
              "    async function quickchart(key) {\n",
              "      const quickchartButtonEl =\n",
              "        document.querySelector('#' + key + ' button');\n",
              "      quickchartButtonEl.disabled = true;  // To prevent multiple clicks.\n",
              "      quickchartButtonEl.classList.add('colab-df-spinner');\n",
              "      try {\n",
              "        const charts = await google.colab.kernel.invokeFunction(\n",
              "            'suggestCharts', [key], {});\n",
              "      } catch (error) {\n",
              "        console.error('Error during call to suggestCharts:', error);\n",
              "      }\n",
              "      quickchartButtonEl.classList.remove('colab-df-spinner');\n",
              "      quickchartButtonEl.classList.add('colab-df-quickchart-complete');\n",
              "    }\n",
              "    (() => {\n",
              "      let quickchartButtonEl =\n",
              "        document.querySelector('#df-99d734fc-f60c-4584-a54e-bb3b3deef0f9 button');\n",
              "      quickchartButtonEl.style.display =\n",
              "        google.colab.kernel.accessAllowed ? 'block' : 'none';\n",
              "    })();\n",
              "  </script>\n",
              "</div>\n",
              "    </div>\n",
              "  </div>\n"
            ],
            "application/vnd.google.colaboratory.intrinsic+json": {
              "type": "dataframe",
              "variable_name": "df",
              "summary": "{\n  \"name\": \"df\",\n  \"rows\": 50000,\n  \"fields\": [\n    {\n      \"column\": \"is_positive\",\n      \"properties\": {\n        \"dtype\": \"number\",\n        \"std\": 0,\n        \"min\": 0,\n        \"max\": 1,\n        \"num_unique_values\": 2,\n        \"samples\": [\n          1,\n          0\n        ],\n        \"semantic_type\": \"\",\n        \"description\": \"\"\n      }\n    },\n    {\n      \"column\": \"review\",\n      \"properties\": {\n        \"dtype\": \"string\",\n        \"num_unique_values\": 49580,\n        \"samples\": [\n          \"new alltime low among westerns writing excruciatingly bad characters impossible emphasize either disgusting bland violence appalling technically convincingly executed tobey maguire shows us flip side talent sleepwalking part expressionless eyes raspy voice betrays mannerism 'ride devil' among five worst movie experiences ever western never surpassed negative respect\",\n          \"suffer insomnia radiant would best way send year coma film preposterously overwrought mundane hard imagine director steve mahone could overlook obvious dullness<br ><br >the story exiled doctor never get see move desert create vaccine cure diseases filling hosts full antibodies combat infection yes like episode futurama vaccines work human guinea pigs become infected virus kills within hours<br ><br >not wanting caught government guys masks group head desert cover hoping sunshine kill virus narrated michael one quartet immune infection boring narration ever could cast someone interesting voice instead get someone less vocal personality clive owen<br ><br >on top editor insists fadecutting half movie giving weird dreamlike feel increasing audiences desire go sleep surprise half audience walked one reason bloody well have<br ><br >the ending supposed shocking clever foreboding plain simply relief yes dramatic slightest<br ><br >the utter cheapness production muffled sound renders lot dialogue unintelligible cripples could interesting scifi story better actors cooler locations sense urgency radiant snoozefest\"\n        ],\n        \"semantic_type\": \"\",\n        \"description\": \"\"\n      }\n    }\n  ]\n}"
            }
          },
          "metadata": {},
          "execution_count": 18
        }
      ]
    },
    {
      "cell_type": "code",
      "source": [
        "def my_own_clean_char(x):\n",
        "    x = re.sub('<br >', '', x)\n",
        "    return x"
      ],
      "metadata": {
        "id": "nBekejUdAfRW"
      },
      "execution_count": null,
      "outputs": []
    },
    {
      "cell_type": "code",
      "source": [
        "cln = CleanText(key='review', my_fun=my_own_clean_char)"
      ],
      "metadata": {
        "id": "nkN9kp_eAYfY"
      },
      "execution_count": null,
      "outputs": []
    },
    {
      "cell_type": "code",
      "source": [
        "df['review'] = cln.transform(df)\n",
        "df.head()"
      ],
      "metadata": {
        "colab": {
          "base_uri": "https://localhost:8080/",
          "height": 244
        },
        "id": "kyzPy0urBsf2",
        "outputId": "ba446209-8142-42ef-8aad-257eb1609167"
      },
      "execution_count": null,
      "outputs": [
        {
          "output_type": "stream",
          "name": "stderr",
          "text": [
            "100%|██████████| 50000/50000 [00:00<00:00, 321068.01it/s]\n"
          ]
        },
        {
          "output_type": "execute_result",
          "data": {
            "text/plain": [
              "   is_positive                                             review\n",
              "0            0  dreamgirls despite fistful tony wins incredibl...\n",
              "1            0  show comes interesting locations fast travel c...\n",
              "2            1  simply love movie also love ramones sorta bias...\n",
              "3            0  spoilers ahead want call thati would almost re...\n",
              "4            1  alltime favorite movie seen many movies one be..."
            ],
            "text/html": [
              "\n",
              "  <div id=\"df-34a87f9c-6996-4875-9818-80f26c710500\" class=\"colab-df-container\">\n",
              "    <div>\n",
              "<style scoped>\n",
              "    .dataframe tbody tr th:only-of-type {\n",
              "        vertical-align: middle;\n",
              "    }\n",
              "\n",
              "    .dataframe tbody tr th {\n",
              "        vertical-align: top;\n",
              "    }\n",
              "\n",
              "    .dataframe thead th {\n",
              "        text-align: right;\n",
              "    }\n",
              "</style>\n",
              "<table border=\"1\" class=\"dataframe\">\n",
              "  <thead>\n",
              "    <tr style=\"text-align: right;\">\n",
              "      <th></th>\n",
              "      <th>is_positive</th>\n",
              "      <th>review</th>\n",
              "    </tr>\n",
              "  </thead>\n",
              "  <tbody>\n",
              "    <tr>\n",
              "      <th>0</th>\n",
              "      <td>0</td>\n",
              "      <td>dreamgirls despite fistful tony wins incredibl...</td>\n",
              "    </tr>\n",
              "    <tr>\n",
              "      <th>1</th>\n",
              "      <td>0</td>\n",
              "      <td>show comes interesting locations fast travel c...</td>\n",
              "    </tr>\n",
              "    <tr>\n",
              "      <th>2</th>\n",
              "      <td>1</td>\n",
              "      <td>simply love movie also love ramones sorta bias...</td>\n",
              "    </tr>\n",
              "    <tr>\n",
              "      <th>3</th>\n",
              "      <td>0</td>\n",
              "      <td>spoilers ahead want call thati would almost re...</td>\n",
              "    </tr>\n",
              "    <tr>\n",
              "      <th>4</th>\n",
              "      <td>1</td>\n",
              "      <td>alltime favorite movie seen many movies one be...</td>\n",
              "    </tr>\n",
              "  </tbody>\n",
              "</table>\n",
              "</div>\n",
              "    <div class=\"colab-df-buttons\">\n",
              "\n",
              "  <div class=\"colab-df-container\">\n",
              "    <button class=\"colab-df-convert\" onclick=\"convertToInteractive('df-34a87f9c-6996-4875-9818-80f26c710500')\"\n",
              "            title=\"Convert this dataframe to an interactive table.\"\n",
              "            style=\"display:none;\">\n",
              "\n",
              "  <svg xmlns=\"http://www.w3.org/2000/svg\" height=\"24px\" viewBox=\"0 -960 960 960\">\n",
              "    <path d=\"M120-120v-720h720v720H120Zm60-500h600v-160H180v160Zm220 220h160v-160H400v160Zm0 220h160v-160H400v160ZM180-400h160v-160H180v160Zm440 0h160v-160H620v160ZM180-180h160v-160H180v160Zm440 0h160v-160H620v160Z\"/>\n",
              "  </svg>\n",
              "    </button>\n",
              "\n",
              "  <style>\n",
              "    .colab-df-container {\n",
              "      display:flex;\n",
              "      gap: 12px;\n",
              "    }\n",
              "\n",
              "    .colab-df-convert {\n",
              "      background-color: #E8F0FE;\n",
              "      border: none;\n",
              "      border-radius: 50%;\n",
              "      cursor: pointer;\n",
              "      display: none;\n",
              "      fill: #1967D2;\n",
              "      height: 32px;\n",
              "      padding: 0 0 0 0;\n",
              "      width: 32px;\n",
              "    }\n",
              "\n",
              "    .colab-df-convert:hover {\n",
              "      background-color: #E2EBFA;\n",
              "      box-shadow: 0px 1px 2px rgba(60, 64, 67, 0.3), 0px 1px 3px 1px rgba(60, 64, 67, 0.15);\n",
              "      fill: #174EA6;\n",
              "    }\n",
              "\n",
              "    .colab-df-buttons div {\n",
              "      margin-bottom: 4px;\n",
              "    }\n",
              "\n",
              "    [theme=dark] .colab-df-convert {\n",
              "      background-color: #3B4455;\n",
              "      fill: #D2E3FC;\n",
              "    }\n",
              "\n",
              "    [theme=dark] .colab-df-convert:hover {\n",
              "      background-color: #434B5C;\n",
              "      box-shadow: 0px 1px 3px 1px rgba(0, 0, 0, 0.15);\n",
              "      filter: drop-shadow(0px 1px 2px rgba(0, 0, 0, 0.3));\n",
              "      fill: #FFFFFF;\n",
              "    }\n",
              "  </style>\n",
              "\n",
              "    <script>\n",
              "      const buttonEl =\n",
              "        document.querySelector('#df-34a87f9c-6996-4875-9818-80f26c710500 button.colab-df-convert');\n",
              "      buttonEl.style.display =\n",
              "        google.colab.kernel.accessAllowed ? 'block' : 'none';\n",
              "\n",
              "      async function convertToInteractive(key) {\n",
              "        const element = document.querySelector('#df-34a87f9c-6996-4875-9818-80f26c710500');\n",
              "        const dataTable =\n",
              "          await google.colab.kernel.invokeFunction('convertToInteractive',\n",
              "                                                    [key], {});\n",
              "        if (!dataTable) return;\n",
              "\n",
              "        const docLinkHtml = 'Like what you see? Visit the ' +\n",
              "          '<a target=\"_blank\" href=https://colab.research.google.com/notebooks/data_table.ipynb>data table notebook</a>'\n",
              "          + ' to learn more about interactive tables.';\n",
              "        element.innerHTML = '';\n",
              "        dataTable['output_type'] = 'display_data';\n",
              "        await google.colab.output.renderOutput(dataTable, element);\n",
              "        const docLink = document.createElement('div');\n",
              "        docLink.innerHTML = docLinkHtml;\n",
              "        element.appendChild(docLink);\n",
              "      }\n",
              "    </script>\n",
              "  </div>\n",
              "\n",
              "\n",
              "<div id=\"df-b0104ae3-87fd-407b-af02-1d21cb6fc276\">\n",
              "  <button class=\"colab-df-quickchart\" onclick=\"quickchart('df-b0104ae3-87fd-407b-af02-1d21cb6fc276')\"\n",
              "            title=\"Suggest charts\"\n",
              "            style=\"display:none;\">\n",
              "\n",
              "<svg xmlns=\"http://www.w3.org/2000/svg\" height=\"24px\"viewBox=\"0 0 24 24\"\n",
              "     width=\"24px\">\n",
              "    <g>\n",
              "        <path d=\"M19 3H5c-1.1 0-2 .9-2 2v14c0 1.1.9 2 2 2h14c1.1 0 2-.9 2-2V5c0-1.1-.9-2-2-2zM9 17H7v-7h2v7zm4 0h-2V7h2v10zm4 0h-2v-4h2v4z\"/>\n",
              "    </g>\n",
              "</svg>\n",
              "  </button>\n",
              "\n",
              "<style>\n",
              "  .colab-df-quickchart {\n",
              "      --bg-color: #E8F0FE;\n",
              "      --fill-color: #1967D2;\n",
              "      --hover-bg-color: #E2EBFA;\n",
              "      --hover-fill-color: #174EA6;\n",
              "      --disabled-fill-color: #AAA;\n",
              "      --disabled-bg-color: #DDD;\n",
              "  }\n",
              "\n",
              "  [theme=dark] .colab-df-quickchart {\n",
              "      --bg-color: #3B4455;\n",
              "      --fill-color: #D2E3FC;\n",
              "      --hover-bg-color: #434B5C;\n",
              "      --hover-fill-color: #FFFFFF;\n",
              "      --disabled-bg-color: #3B4455;\n",
              "      --disabled-fill-color: #666;\n",
              "  }\n",
              "\n",
              "  .colab-df-quickchart {\n",
              "    background-color: var(--bg-color);\n",
              "    border: none;\n",
              "    border-radius: 50%;\n",
              "    cursor: pointer;\n",
              "    display: none;\n",
              "    fill: var(--fill-color);\n",
              "    height: 32px;\n",
              "    padding: 0;\n",
              "    width: 32px;\n",
              "  }\n",
              "\n",
              "  .colab-df-quickchart:hover {\n",
              "    background-color: var(--hover-bg-color);\n",
              "    box-shadow: 0 1px 2px rgba(60, 64, 67, 0.3), 0 1px 3px 1px rgba(60, 64, 67, 0.15);\n",
              "    fill: var(--button-hover-fill-color);\n",
              "  }\n",
              "\n",
              "  .colab-df-quickchart-complete:disabled,\n",
              "  .colab-df-quickchart-complete:disabled:hover {\n",
              "    background-color: var(--disabled-bg-color);\n",
              "    fill: var(--disabled-fill-color);\n",
              "    box-shadow: none;\n",
              "  }\n",
              "\n",
              "  .colab-df-spinner {\n",
              "    border: 2px solid var(--fill-color);\n",
              "    border-color: transparent;\n",
              "    border-bottom-color: var(--fill-color);\n",
              "    animation:\n",
              "      spin 1s steps(1) infinite;\n",
              "  }\n",
              "\n",
              "  @keyframes spin {\n",
              "    0% {\n",
              "      border-color: transparent;\n",
              "      border-bottom-color: var(--fill-color);\n",
              "      border-left-color: var(--fill-color);\n",
              "    }\n",
              "    20% {\n",
              "      border-color: transparent;\n",
              "      border-left-color: var(--fill-color);\n",
              "      border-top-color: var(--fill-color);\n",
              "    }\n",
              "    30% {\n",
              "      border-color: transparent;\n",
              "      border-left-color: var(--fill-color);\n",
              "      border-top-color: var(--fill-color);\n",
              "      border-right-color: var(--fill-color);\n",
              "    }\n",
              "    40% {\n",
              "      border-color: transparent;\n",
              "      border-right-color: var(--fill-color);\n",
              "      border-top-color: var(--fill-color);\n",
              "    }\n",
              "    60% {\n",
              "      border-color: transparent;\n",
              "      border-right-color: var(--fill-color);\n",
              "    }\n",
              "    80% {\n",
              "      border-color: transparent;\n",
              "      border-right-color: var(--fill-color);\n",
              "      border-bottom-color: var(--fill-color);\n",
              "    }\n",
              "    90% {\n",
              "      border-color: transparent;\n",
              "      border-bottom-color: var(--fill-color);\n",
              "    }\n",
              "  }\n",
              "</style>\n",
              "\n",
              "  <script>\n",
              "    async function quickchart(key) {\n",
              "      const quickchartButtonEl =\n",
              "        document.querySelector('#' + key + ' button');\n",
              "      quickchartButtonEl.disabled = true;  // To prevent multiple clicks.\n",
              "      quickchartButtonEl.classList.add('colab-df-spinner');\n",
              "      try {\n",
              "        const charts = await google.colab.kernel.invokeFunction(\n",
              "            'suggestCharts', [key], {});\n",
              "      } catch (error) {\n",
              "        console.error('Error during call to suggestCharts:', error);\n",
              "      }\n",
              "      quickchartButtonEl.classList.remove('colab-df-spinner');\n",
              "      quickchartButtonEl.classList.add('colab-df-quickchart-complete');\n",
              "    }\n",
              "    (() => {\n",
              "      let quickchartButtonEl =\n",
              "        document.querySelector('#df-b0104ae3-87fd-407b-af02-1d21cb6fc276 button');\n",
              "      quickchartButtonEl.style.display =\n",
              "        google.colab.kernel.accessAllowed ? 'block' : 'none';\n",
              "    })();\n",
              "  </script>\n",
              "</div>\n",
              "    </div>\n",
              "  </div>\n"
            ],
            "application/vnd.google.colaboratory.intrinsic+json": {
              "type": "dataframe",
              "variable_name": "df",
              "summary": "{\n  \"name\": \"df\",\n  \"rows\": 50000,\n  \"fields\": [\n    {\n      \"column\": \"is_positive\",\n      \"properties\": {\n        \"dtype\": \"number\",\n        \"std\": 0,\n        \"min\": 0,\n        \"max\": 1,\n        \"num_unique_values\": 2,\n        \"samples\": [\n          1,\n          0\n        ],\n        \"semantic_type\": \"\",\n        \"description\": \"\"\n      }\n    },\n    {\n      \"column\": \"review\",\n      \"properties\": {\n        \"dtype\": \"string\",\n        \"num_unique_values\": 49579,\n        \"samples\": [\n          \"found movie netflix add queue disappointed got funny saw local drivein theater back thenit builds climax nicely getting glimpses various characters begin trip across america \\\"honky tonk freeway america wheels\\\" strange comedic role william devane remember kennedy tv film \\\"the missiles october\\\" felt one could pulled dramatic character well didit reminds bit dick van dyke \\\"cold turkey' van dyke played local minister devane's role mayor minister activist typical small towns makes character seem amusing realhoward hessman teri garr spoiled family rv target time well anyone traveled across country small children yet appreciate scenesthe scenes small town struggling survive reminded lot small town grew handled charm humor often saw small towns sad many small towns disappeared freeway system gives realistic humorous view survive used zoo animals anyoneall lightweight comedy particular message humorous glance america early 's well worth watching need bit good cheer\",\n          \"i'll give two denis leary good lines that's point script supposed act movie needs one offer save hour half watch hair grow fall whatever case\"\n        ],\n        \"semantic_type\": \"\",\n        \"description\": \"\"\n      }\n    }\n  ]\n}"
            }
          },
          "metadata": {},
          "execution_count": 25
        }
      ]
    },
    {
      "cell_type": "markdown",
      "source": [
        "## Load data"
      ],
      "metadata": {
        "id": "eCCtnG-gSVQ2"
      }
    },
    {
      "cell_type": "code",
      "source": [
        "df = pd.read_csv(path_to_work_dir + 'clean_data.csv')\n",
        "df.head()"
      ],
      "metadata": {
        "colab": {
          "base_uri": "https://localhost:8080/",
          "height": 226
        },
        "id": "AHS1LG_7Cyvr",
        "outputId": "16d56c0c-2bda-4a10-d4b5-c1cd14ba21df"
      },
      "execution_count": 8,
      "outputs": [
        {
          "output_type": "execute_result",
          "data": {
            "text/plain": [
              "   is_positive                                             review\n",
              "0            0  dreamgirls despite fistful tony wins incredibl...\n",
              "1            0  show comes interesting locations fast travel c...\n",
              "2            1  simply love movie also love ramones sorta bias...\n",
              "3            0  spoilers ahead want call thati would almost re...\n",
              "4            1  alltime favorite movie seen many movies one be..."
            ],
            "text/html": [
              "\n",
              "  <div id=\"df-ea32796c-2acd-4efb-8bb5-e76b006f6bfe\" class=\"colab-df-container\">\n",
              "    <div>\n",
              "<style scoped>\n",
              "    .dataframe tbody tr th:only-of-type {\n",
              "        vertical-align: middle;\n",
              "    }\n",
              "\n",
              "    .dataframe tbody tr th {\n",
              "        vertical-align: top;\n",
              "    }\n",
              "\n",
              "    .dataframe thead th {\n",
              "        text-align: right;\n",
              "    }\n",
              "</style>\n",
              "<table border=\"1\" class=\"dataframe\">\n",
              "  <thead>\n",
              "    <tr style=\"text-align: right;\">\n",
              "      <th></th>\n",
              "      <th>is_positive</th>\n",
              "      <th>review</th>\n",
              "    </tr>\n",
              "  </thead>\n",
              "  <tbody>\n",
              "    <tr>\n",
              "      <th>0</th>\n",
              "      <td>0</td>\n",
              "      <td>dreamgirls despite fistful tony wins incredibl...</td>\n",
              "    </tr>\n",
              "    <tr>\n",
              "      <th>1</th>\n",
              "      <td>0</td>\n",
              "      <td>show comes interesting locations fast travel c...</td>\n",
              "    </tr>\n",
              "    <tr>\n",
              "      <th>2</th>\n",
              "      <td>1</td>\n",
              "      <td>simply love movie also love ramones sorta bias...</td>\n",
              "    </tr>\n",
              "    <tr>\n",
              "      <th>3</th>\n",
              "      <td>0</td>\n",
              "      <td>spoilers ahead want call thati would almost re...</td>\n",
              "    </tr>\n",
              "    <tr>\n",
              "      <th>4</th>\n",
              "      <td>1</td>\n",
              "      <td>alltime favorite movie seen many movies one be...</td>\n",
              "    </tr>\n",
              "  </tbody>\n",
              "</table>\n",
              "</div>\n",
              "    <div class=\"colab-df-buttons\">\n",
              "\n",
              "  <div class=\"colab-df-container\">\n",
              "    <button class=\"colab-df-convert\" onclick=\"convertToInteractive('df-ea32796c-2acd-4efb-8bb5-e76b006f6bfe')\"\n",
              "            title=\"Convert this dataframe to an interactive table.\"\n",
              "            style=\"display:none;\">\n",
              "\n",
              "  <svg xmlns=\"http://www.w3.org/2000/svg\" height=\"24px\" viewBox=\"0 -960 960 960\">\n",
              "    <path d=\"M120-120v-720h720v720H120Zm60-500h600v-160H180v160Zm220 220h160v-160H400v160Zm0 220h160v-160H400v160ZM180-400h160v-160H180v160Zm440 0h160v-160H620v160ZM180-180h160v-160H180v160Zm440 0h160v-160H620v160Z\"/>\n",
              "  </svg>\n",
              "    </button>\n",
              "\n",
              "  <style>\n",
              "    .colab-df-container {\n",
              "      display:flex;\n",
              "      gap: 12px;\n",
              "    }\n",
              "\n",
              "    .colab-df-convert {\n",
              "      background-color: #E8F0FE;\n",
              "      border: none;\n",
              "      border-radius: 50%;\n",
              "      cursor: pointer;\n",
              "      display: none;\n",
              "      fill: #1967D2;\n",
              "      height: 32px;\n",
              "      padding: 0 0 0 0;\n",
              "      width: 32px;\n",
              "    }\n",
              "\n",
              "    .colab-df-convert:hover {\n",
              "      background-color: #E2EBFA;\n",
              "      box-shadow: 0px 1px 2px rgba(60, 64, 67, 0.3), 0px 1px 3px 1px rgba(60, 64, 67, 0.15);\n",
              "      fill: #174EA6;\n",
              "    }\n",
              "\n",
              "    .colab-df-buttons div {\n",
              "      margin-bottom: 4px;\n",
              "    }\n",
              "\n",
              "    [theme=dark] .colab-df-convert {\n",
              "      background-color: #3B4455;\n",
              "      fill: #D2E3FC;\n",
              "    }\n",
              "\n",
              "    [theme=dark] .colab-df-convert:hover {\n",
              "      background-color: #434B5C;\n",
              "      box-shadow: 0px 1px 3px 1px rgba(0, 0, 0, 0.15);\n",
              "      filter: drop-shadow(0px 1px 2px rgba(0, 0, 0, 0.3));\n",
              "      fill: #FFFFFF;\n",
              "    }\n",
              "  </style>\n",
              "\n",
              "    <script>\n",
              "      const buttonEl =\n",
              "        document.querySelector('#df-ea32796c-2acd-4efb-8bb5-e76b006f6bfe button.colab-df-convert');\n",
              "      buttonEl.style.display =\n",
              "        google.colab.kernel.accessAllowed ? 'block' : 'none';\n",
              "\n",
              "      async function convertToInteractive(key) {\n",
              "        const element = document.querySelector('#df-ea32796c-2acd-4efb-8bb5-e76b006f6bfe');\n",
              "        const dataTable =\n",
              "          await google.colab.kernel.invokeFunction('convertToInteractive',\n",
              "                                                    [key], {});\n",
              "        if (!dataTable) return;\n",
              "\n",
              "        const docLinkHtml = 'Like what you see? Visit the ' +\n",
              "          '<a target=\"_blank\" href=https://colab.research.google.com/notebooks/data_table.ipynb>data table notebook</a>'\n",
              "          + ' to learn more about interactive tables.';\n",
              "        element.innerHTML = '';\n",
              "        dataTable['output_type'] = 'display_data';\n",
              "        await google.colab.output.renderOutput(dataTable, element);\n",
              "        const docLink = document.createElement('div');\n",
              "        docLink.innerHTML = docLinkHtml;\n",
              "        element.appendChild(docLink);\n",
              "      }\n",
              "    </script>\n",
              "  </div>\n",
              "\n",
              "\n",
              "<div id=\"df-d3f1f0e9-cf17-4992-a016-561291f21418\">\n",
              "  <button class=\"colab-df-quickchart\" onclick=\"quickchart('df-d3f1f0e9-cf17-4992-a016-561291f21418')\"\n",
              "            title=\"Suggest charts\"\n",
              "            style=\"display:none;\">\n",
              "\n",
              "<svg xmlns=\"http://www.w3.org/2000/svg\" height=\"24px\"viewBox=\"0 0 24 24\"\n",
              "     width=\"24px\">\n",
              "    <g>\n",
              "        <path d=\"M19 3H5c-1.1 0-2 .9-2 2v14c0 1.1.9 2 2 2h14c1.1 0 2-.9 2-2V5c0-1.1-.9-2-2-2zM9 17H7v-7h2v7zm4 0h-2V7h2v10zm4 0h-2v-4h2v4z\"/>\n",
              "    </g>\n",
              "</svg>\n",
              "  </button>\n",
              "\n",
              "<style>\n",
              "  .colab-df-quickchart {\n",
              "      --bg-color: #E8F0FE;\n",
              "      --fill-color: #1967D2;\n",
              "      --hover-bg-color: #E2EBFA;\n",
              "      --hover-fill-color: #174EA6;\n",
              "      --disabled-fill-color: #AAA;\n",
              "      --disabled-bg-color: #DDD;\n",
              "  }\n",
              "\n",
              "  [theme=dark] .colab-df-quickchart {\n",
              "      --bg-color: #3B4455;\n",
              "      --fill-color: #D2E3FC;\n",
              "      --hover-bg-color: #434B5C;\n",
              "      --hover-fill-color: #FFFFFF;\n",
              "      --disabled-bg-color: #3B4455;\n",
              "      --disabled-fill-color: #666;\n",
              "  }\n",
              "\n",
              "  .colab-df-quickchart {\n",
              "    background-color: var(--bg-color);\n",
              "    border: none;\n",
              "    border-radius: 50%;\n",
              "    cursor: pointer;\n",
              "    display: none;\n",
              "    fill: var(--fill-color);\n",
              "    height: 32px;\n",
              "    padding: 0;\n",
              "    width: 32px;\n",
              "  }\n",
              "\n",
              "  .colab-df-quickchart:hover {\n",
              "    background-color: var(--hover-bg-color);\n",
              "    box-shadow: 0 1px 2px rgba(60, 64, 67, 0.3), 0 1px 3px 1px rgba(60, 64, 67, 0.15);\n",
              "    fill: var(--button-hover-fill-color);\n",
              "  }\n",
              "\n",
              "  .colab-df-quickchart-complete:disabled,\n",
              "  .colab-df-quickchart-complete:disabled:hover {\n",
              "    background-color: var(--disabled-bg-color);\n",
              "    fill: var(--disabled-fill-color);\n",
              "    box-shadow: none;\n",
              "  }\n",
              "\n",
              "  .colab-df-spinner {\n",
              "    border: 2px solid var(--fill-color);\n",
              "    border-color: transparent;\n",
              "    border-bottom-color: var(--fill-color);\n",
              "    animation:\n",
              "      spin 1s steps(1) infinite;\n",
              "  }\n",
              "\n",
              "  @keyframes spin {\n",
              "    0% {\n",
              "      border-color: transparent;\n",
              "      border-bottom-color: var(--fill-color);\n",
              "      border-left-color: var(--fill-color);\n",
              "    }\n",
              "    20% {\n",
              "      border-color: transparent;\n",
              "      border-left-color: var(--fill-color);\n",
              "      border-top-color: var(--fill-color);\n",
              "    }\n",
              "    30% {\n",
              "      border-color: transparent;\n",
              "      border-left-color: var(--fill-color);\n",
              "      border-top-color: var(--fill-color);\n",
              "      border-right-color: var(--fill-color);\n",
              "    }\n",
              "    40% {\n",
              "      border-color: transparent;\n",
              "      border-right-color: var(--fill-color);\n",
              "      border-top-color: var(--fill-color);\n",
              "    }\n",
              "    60% {\n",
              "      border-color: transparent;\n",
              "      border-right-color: var(--fill-color);\n",
              "    }\n",
              "    80% {\n",
              "      border-color: transparent;\n",
              "      border-right-color: var(--fill-color);\n",
              "      border-bottom-color: var(--fill-color);\n",
              "    }\n",
              "    90% {\n",
              "      border-color: transparent;\n",
              "      border-bottom-color: var(--fill-color);\n",
              "    }\n",
              "  }\n",
              "</style>\n",
              "\n",
              "  <script>\n",
              "    async function quickchart(key) {\n",
              "      const quickchartButtonEl =\n",
              "        document.querySelector('#' + key + ' button');\n",
              "      quickchartButtonEl.disabled = true;  // To prevent multiple clicks.\n",
              "      quickchartButtonEl.classList.add('colab-df-spinner');\n",
              "      try {\n",
              "        const charts = await google.colab.kernel.invokeFunction(\n",
              "            'suggestCharts', [key], {});\n",
              "      } catch (error) {\n",
              "        console.error('Error during call to suggestCharts:', error);\n",
              "      }\n",
              "      quickchartButtonEl.classList.remove('colab-df-spinner');\n",
              "      quickchartButtonEl.classList.add('colab-df-quickchart-complete');\n",
              "    }\n",
              "    (() => {\n",
              "      let quickchartButtonEl =\n",
              "        document.querySelector('#df-d3f1f0e9-cf17-4992-a016-561291f21418 button');\n",
              "      quickchartButtonEl.style.display =\n",
              "        google.colab.kernel.accessAllowed ? 'block' : 'none';\n",
              "    })();\n",
              "  </script>\n",
              "</div>\n",
              "    </div>\n",
              "  </div>\n"
            ],
            "application/vnd.google.colaboratory.intrinsic+json": {
              "type": "dataframe",
              "variable_name": "df",
              "summary": "{\n  \"name\": \"df\",\n  \"rows\": 50000,\n  \"fields\": [\n    {\n      \"column\": \"is_positive\",\n      \"properties\": {\n        \"dtype\": \"number\",\n        \"std\": 0,\n        \"min\": 0,\n        \"max\": 1,\n        \"num_unique_values\": 2,\n        \"samples\": [\n          1,\n          0\n        ],\n        \"semantic_type\": \"\",\n        \"description\": \"\"\n      }\n    },\n    {\n      \"column\": \"review\",\n      \"properties\": {\n        \"dtype\": \"string\",\n        \"num_unique_values\": 49579,\n        \"samples\": [\n          \"found movie netflix add queue disappointed got funny saw local drivein theater back thenit builds climax nicely getting glimpses various characters begin trip across america \\\"honky tonk freeway america wheels\\\" strange comedic role william devane remember kennedy tv film \\\"the missiles october\\\" felt one could pulled dramatic character well didit reminds bit dick van dyke \\\"cold turkey' van dyke played local minister devane's role mayor minister activist typical small towns makes character seem amusing realhoward hessman teri garr spoiled family rv target time well anyone traveled across country small children yet appreciate scenesthe scenes small town struggling survive reminded lot small town grew handled charm humor often saw small towns sad many small towns disappeared freeway system gives realistic humorous view survive used zoo animals anyoneall lightweight comedy particular message humorous glance america early 's well worth watching need bit good cheer\",\n          \"i'll give two denis leary good lines that's point script supposed act movie needs one offer save hour half watch hair grow fall whatever case\"\n        ],\n        \"semantic_type\": \"\",\n        \"description\": \"\"\n      }\n    }\n  ]\n}"
            }
          },
          "metadata": {},
          "execution_count": 8
        }
      ]
    },
    {
      "cell_type": "markdown",
      "source": [
        "## Split data"
      ],
      "metadata": {
        "id": "xZrYVAsGb4P0"
      }
    },
    {
      "cell_type": "code",
      "source": [
        "x_train, x_test, y_train, y_test = train_test_split(df,\n",
        "                                                    df['is_positive'],\n",
        "                                                    test_size=0.2,\n",
        "                                                    random_state=42)"
      ],
      "metadata": {
        "id": "DKYj8_mGc0za"
      },
      "execution_count": 9,
      "outputs": []
    },
    {
      "cell_type": "markdown",
      "source": [
        "# Pipline"
      ],
      "metadata": {
        "id": "42rdU3N7cdoN"
      }
    },
    {
      "cell_type": "markdown",
      "source": [
        "## Vectorizer params"
      ],
      "metadata": {
        "id": "PHoPq1mXb2MT"
      }
    },
    {
      "cell_type": "code",
      "source": [
        "vectorizer_params_1_1 = {\n",
        "    \"TfidfVectorizer\" : {\n",
        "        \"ngram_range\": (1, 1),\n",
        "        \"analyzer\": \"word\",\n",
        "        \"stop_words\": \"english\"\n",
        "\n",
        "    }\n",
        "}\n",
        "\n",
        "vectorizer_params_1_2 = {\n",
        "    \"TfidfVectorizer\" : {\n",
        "        \"ngram_range\": (1, 2),\n",
        "        \"analyzer\": \"word\",\n",
        "        \"stop_words\": \"english\"\n",
        "\n",
        "    }\n",
        "}\n",
        "\n",
        "vectorizer_params_2_5 = {\n",
        "    \"TfidfVectorizer\" : {\n",
        "        \"ngram_range\": (2, 5),\n",
        "        \"analyzer\": \"word\",\n",
        "        \"stop_words\": \"english\"\n",
        "\n",
        "    }\n",
        "}"
      ],
      "metadata": {
        "id": "Rx7arrfYcZlp"
      },
      "execution_count": null,
      "outputs": []
    },
    {
      "cell_type": "markdown",
      "source": [
        "## Make Pipeline"
      ],
      "metadata": {
        "id": "eN8tSiO-XKyM"
      }
    },
    {
      "cell_type": "code",
      "source": [
        "Pipeline_vec_1_1 = Pipeline([('tfidf', TfidfVectorizer(**vectorizer_params_1_1['TfidfVectorizer']))])"
      ],
      "metadata": {
        "id": "96voli0fd2Av"
      },
      "execution_count": null,
      "outputs": []
    },
    {
      "cell_type": "code",
      "source": [
        "Pipeline_vec_1_2 = Pipeline([('tfidf', TfidfVectorizer(**vectorizer_params_1_2['TfidfVectorizer']))])"
      ],
      "metadata": {
        "id": "Ff8dluEncxfi"
      },
      "execution_count": null,
      "outputs": []
    },
    {
      "cell_type": "code",
      "source": [
        "Pipeline_vec_2_5 = Pipeline([('tfidf', TfidfVectorizer(**vectorizer_params_2_5['TfidfVectorizer']))])"
      ],
      "metadata": {
        "id": "X7VNDwqId5WQ"
      },
      "execution_count": null,
      "outputs": []
    },
    {
      "cell_type": "markdown",
      "source": [
        "# Learn models of regressors"
      ],
      "metadata": {
        "id": "B9znX6DthBSD"
      }
    },
    {
      "cell_type": "markdown",
      "source": [
        "## Model params"
      ],
      "metadata": {
        "id": "75ZJgcqjdf0j"
      }
    },
    {
      "cell_type": "code",
      "source": [
        "model_params = {\n",
        "    'LogisticRegression' : {\n",
        "        'class_weight': 'balanced',\n",
        "        'fit_intercept': True\n",
        "    }\n",
        "}"
      ],
      "metadata": {
        "id": "3Yb6jANQeGZa"
      },
      "execution_count": null,
      "outputs": []
    },
    {
      "cell_type": "markdown",
      "source": [
        "## LogReg n_gram (1,1)\n",
        "\n"
      ],
      "metadata": {
        "id": "n0LIWNR3iQfI"
      }
    },
    {
      "cell_type": "markdown",
      "source": [
        "### Learn model"
      ],
      "metadata": {
        "id": "C6j_p76B_AHM"
      }
    },
    {
      "cell_type": "code",
      "source": [
        "logreg_11 = model_learning(Pipeline_vec_1_1, LogisticRegression, model_params, x_train, x_test, y_train, y_test)"
      ],
      "metadata": {
        "colab": {
          "base_uri": "https://localhost:8080/"
        },
        "id": "JYiG9IKdh-1y",
        "outputId": "321f8596-0548-49aa-ea4b-ba55fb200f8c"
      },
      "execution_count": null,
      "outputs": [
        {
          "output_type": "stream",
          "name": "stderr",
          "text": [
            "  0%|          | 0/40000 [00:00<?, ?it/s]<ipython-input-3-ca40bf108d12>:62: FutureWarning: Possible nested set at position 39\n",
            "  text = re.sub(\"[0-9]|[-—.,:;_%©«»?*!@#№$^•·&()]|[+=]|[[]|[]]|[/]|\", '', text)\n",
            "100%|██████████| 40000/40000 [03:28<00:00, 191.96it/s]\n",
            "100%|██████████| 10000/10000 [00:52<00:00, 189.26it/s]\n",
            "100%|██████████| 10000/10000 [00:43<00:00, 228.87it/s]\n"
          ]
        }
      ]
    },
    {
      "cell_type": "markdown",
      "source": [
        "### Get of metrics"
      ],
      "metadata": {
        "id": "Kp2GgxuF_Gwc"
      }
    },
    {
      "cell_type": "code",
      "source": [
        "logreg_11_metrics = Calc_of_metrics_and_Roc_Auc(logreg_11['model'], logreg_11['y_true_proba'],\n",
        "                                                logreg_11['y_true_predict'],\n",
        "                                                x_train, x_test, y_train, y_test)"
      ],
      "metadata": {
        "colab": {
          "base_uri": "https://localhost:8080/",
          "height": 837
        },
        "id": "0MSd4I7klR_w",
        "outputId": "bc21e7ec-da32-4e0a-b3e6-d692f3f9b168"
      },
      "execution_count": null,
      "outputs": [
        {
          "output_type": "stream",
          "name": "stdout",
          "text": [
            "Best Threshold=0.515, F-Score=0.898, Precision=0.889, Recall=0.907\n",
            "\n",
            " ************************************************** \n",
            "\n"
          ]
        },
        {
          "output_type": "display_data",
          "data": {
            "text/plain": [
              "<Figure size 1000x800 with 1 Axes>"
            ],
            "image/png": "[encoded data removed]"
          },
          "metadata": {}
        }
      ]
    },
    {
      "cell_type": "markdown",
      "source": [
        "### Get of conf matrics"
      ],
      "metadata": {
        "id": "i8jwT4Bn_K0s"
      }
    },
    {
      "cell_type": "code",
      "source": [
        "Result_Confusion_matrix(logreg_11, logreg_11_metrics, y_test)"
      ],
      "metadata": {
        "colab": {
          "base_uri": "https://localhost:8080/",
          "height": 894
        },
        "id": "O2g9xeqjn9FK",
        "outputId": "bb175022-3023-40df-8b61-730548d4d863"
      },
      "execution_count": null,
      "outputs": [
        {
          "output_type": "stream",
          "name": "stdout",
          "text": [
            "Confusion matrix, without normalization\n",
            "[[4450  602]\n",
            " [ 431 4517]]\n"
          ]
        },
        {
          "output_type": "display_data",
          "data": {
            "text/plain": [
              "<Figure size 1000x800 with 2 Axes>"
            ],
            "image/png": "[encoded data removed]"
          },
          "metadata": {}
        }
      ]
    },
    {
      "cell_type": "markdown",
      "source": [
        "### Save model"
      ],
      "metadata": {
        "id": "F2NJ3KnztEqB"
      }
    },
    {
      "cell_type": "code",
      "source": [
        "save_model_dill(path_to_work_dir + 'logreg_11.dill', logreg_11['model'])"
      ],
      "metadata": {
        "id": "aWsQWSijtJr8"
      },
      "execution_count": null,
      "outputs": []
    },
    {
      "cell_type": "code",
      "source": [
        "logreg_11_df = pd.DataFrame(logreg_11_metrics, index=[0])\n",
        "logreg_11_df.to_csv(path_to_work_dir + 'logreg_11_metrics.csv', index=None)"
      ],
      "metadata": {
        "id": "CIZUbWIKtZFe"
      },
      "execution_count": null,
      "outputs": []
    },
    {
      "cell_type": "markdown",
      "source": [
        "## LogReg n_gram (1,2)"
      ],
      "metadata": {
        "id": "Vwe-nC_jiYjy"
      }
    },
    {
      "cell_type": "markdown",
      "source": [
        "### Learn model"
      ],
      "metadata": {
        "id": "RAzEujVi_RYb"
      }
    },
    {
      "cell_type": "code",
      "source": [
        "logreg_12 = model_learning(Pipeline_vec_1_2, LogisticRegression, model_params,\n",
        "                           x_train, x_test, y_train, y_test)"
      ],
      "metadata": {
        "colab": {
          "base_uri": "https://localhost:8080/"
        },
        "id": "K_GY2yfJigAM",
        "outputId": "f4999ecc-ff92-4cae-d7af-28d1958863d4"
      },
      "execution_count": null,
      "outputs": [
        {
          "output_type": "stream",
          "name": "stderr",
          "text": [
            "100%|██████████| 40000/40000 [02:56<00:00, 226.22it/s]\n",
            "100%|██████████| 10000/10000 [00:44<00:00, 225.79it/s]\n",
            "100%|██████████| 10000/10000 [00:44<00:00, 224.82it/s]\n"
          ]
        }
      ]
    },
    {
      "cell_type": "markdown",
      "source": [
        "### Get of metrics"
      ],
      "metadata": {
        "id": "tDi8RYk0_VUN"
      }
    },
    {
      "cell_type": "code",
      "source": [
        "logreg_12_metrics = Calc_of_metrics_and_Roc_Auc(logreg_12['model'], logreg_12['y_true_proba'],\n",
        "                                                logreg_12['y_true_predict'],\n",
        "                                                x_train, x_test, y_train, y_test)"
      ],
      "metadata": {
        "colab": {
          "base_uri": "https://localhost:8080/",
          "height": 837
        },
        "id": "bNpDpennq-JP",
        "outputId": "fadbf648-4def-4ce7-86ec-ea80c0e42892"
      },
      "execution_count": null,
      "outputs": [
        {
          "output_type": "stream",
          "name": "stdout",
          "text": [
            "Best Threshold=0.540, F-Score=0.894, Precision=0.898, Recall=0.891\n",
            "\n",
            " ************************************************** \n",
            "\n"
          ]
        },
        {
          "output_type": "display_data",
          "data": {
            "text/plain": [
              "<Figure size 1000x800 with 1 Axes>"
            ],
            "image/png": "[encoded data removed]"
          },
          "metadata": {}
        }
      ]
    },
    {
      "cell_type": "markdown",
      "source": [
        "### Get of conf matrix"
      ],
      "metadata": {
        "id": "0AcXLeke_aZR"
      }
    },
    {
      "cell_type": "code",
      "source": [
        "Result_Confusion_matrix(logreg_12, logreg_12_metrics, y_test)"
      ],
      "metadata": {
        "colab": {
          "base_uri": "https://localhost:8080/",
          "height": 894
        },
        "id": "j5b9g4XFrZK_",
        "outputId": "ab915647-77c4-4807-af60-0596115a1356"
      },
      "execution_count": null,
      "outputs": [
        {
          "output_type": "stream",
          "name": "stdout",
          "text": [
            "Confusion matrix, without normalization\n",
            "[[4394  658]\n",
            " [ 449 4499]]\n"
          ]
        },
        {
          "output_type": "display_data",
          "data": {
            "text/plain": [
              "<Figure size 1000x800 with 2 Axes>"
            ],
            "image/png": "[encoded data removed]"
          },
          "metadata": {}
        }
      ]
    },
    {
      "cell_type": "markdown",
      "source": [
        "### Save model"
      ],
      "metadata": {
        "id": "W_BMssK-SK_h"
      }
    },
    {
      "cell_type": "code",
      "source": [
        "save_model_dill(path_to_work_dir + 'logreg_12.dill', logreg_12['model'])"
      ],
      "metadata": {
        "id": "v-IiUT8GswNt"
      },
      "execution_count": null,
      "outputs": []
    },
    {
      "cell_type": "code",
      "source": [
        "logreg_12_df = pd.DataFrame(logreg_12_metrics, index=[0])\n",
        "logreg_12_df.to_csv(path_to_work_dir + 'logreg_12_metrics.csv', index=None)"
      ],
      "metadata": {
        "id": "MZJr3f0euwlZ"
      },
      "execution_count": null,
      "outputs": []
    },
    {
      "cell_type": "markdown",
      "source": [
        "## LogReg n_gram (2,5)"
      ],
      "metadata": {
        "id": "BUIvcXDria_L"
      }
    },
    {
      "cell_type": "markdown",
      "source": [
        "### Learn model"
      ],
      "metadata": {
        "id": "6WMhuzWI_fWQ"
      }
    },
    {
      "cell_type": "code",
      "source": [
        "logreg_25 = model_learning(Pipeline_vec_2_5, LogisticRegression, model_params,\n",
        "                           x_train, x_test, y_train, y_test)"
      ],
      "metadata": {
        "id": "9P2vKAa2jeOB",
        "colab": {
          "base_uri": "https://localhost:8080/"
        },
        "outputId": "56a4627a-dc02-4f1f-aa4d-435138a2cb29"
      },
      "execution_count": null,
      "outputs": [
        {
          "output_type": "stream",
          "name": "stderr",
          "text": [
            "  0%|          | 0/40000 [00:00<?, ?it/s]<ipython-input-3-3b67c32ab67a>:62: FutureWarning: Possible nested set at position 39\n",
            "  text = re.sub(\"[0-9]|[-—.,:;_%©«»?*!@#№$^•·&()]|[+=]|[[]|[]]|[/]|\", '', text)\n",
            "100%|██████████| 40000/40000 [03:30<00:00, 190.39it/s]\n",
            "100%|██████████| 10000/10000 [00:53<00:00, 187.90it/s]\n",
            "100%|██████████| 10000/10000 [00:43<00:00, 229.37it/s]\n"
          ]
        }
      ]
    },
    {
      "cell_type": "markdown",
      "source": [
        "### Get of metrics"
      ],
      "metadata": {
        "id": "nIA1UfXi_jiM"
      }
    },
    {
      "cell_type": "code",
      "source": [
        "logreg_25_metrics = Calc_of_metrics_and_Roc_Auc(logreg_25['model'], logreg_25['y_true_proba'],\n",
        "                                                logreg_25['y_true_predict'],\n",
        "                                                x_train, x_test, y_train, y_test)"
      ],
      "metadata": {
        "colab": {
          "base_uri": "https://localhost:8080/",
          "height": 601
        },
        "id": "3mCyGGf4ThC3",
        "outputId": "43c9bbaf-9b59-474b-bb3f-1074e6c017bb"
      },
      "execution_count": null,
      "outputs": [
        {
          "output_type": "stream",
          "name": "stdout",
          "text": [
            "Best Threshold=0.470, F-Score=0.815, Precision=0.776, Recall=0.857\n",
            "\n",
            " ************************************************** \n",
            "\n"
          ]
        },
        {
          "output_type": "display_data",
          "data": {
            "text/plain": [
              "<Figure size 1000x800 with 1 Axes>"
            ],
            "image/png": "[encoded data removed]"
          },
          "metadata": {}
        }
      ]
    },
    {
      "cell_type": "markdown",
      "source": [
        "### Get of conf matrix"
      ],
      "metadata": {
        "id": "CxoYYpZl_nkD"
      }
    },
    {
      "cell_type": "code",
      "source": [
        "Result_Confusion_matrix(logreg_25, logreg_25_metrics, y_test)"
      ],
      "metadata": {
        "colab": {
          "base_uri": "https://localhost:8080/",
          "height": 610
        },
        "id": "5CDoZppiThVZ",
        "outputId": "e4d38818-29d0-4fc8-9444-2105ddca91fe"
      },
      "execution_count": null,
      "outputs": [
        {
          "output_type": "stream",
          "name": "stdout",
          "text": [
            "Confusion matrix, without normalization\n",
            "[[4298  754]\n",
            " [1110 3838]]\n"
          ]
        },
        {
          "output_type": "display_data",
          "data": {
            "text/plain": [
              "<Figure size 1000x800 with 2 Axes>"
            ],
            "image/png": "[encoded data removed]"
          },
          "metadata": {}
        }
      ]
    },
    {
      "cell_type": "markdown",
      "source": [
        "### Save model"
      ],
      "metadata": {
        "id": "WlkmO-v-Wux4"
      }
    },
    {
      "cell_type": "code",
      "source": [
        "save_model_dill(path_to_work_dir + 'logreg_25.dill', logreg_25['model'])"
      ],
      "metadata": {
        "id": "oZzxS6zWWux8"
      },
      "execution_count": null,
      "outputs": []
    },
    {
      "cell_type": "code",
      "source": [
        "logreg_25_df = pd.DataFrame(logreg_25_metrics, index=[0])\n",
        "logreg_25_df.to_csv(path_to_work_dir + 'logreg_25_metrics.csv', index=None)"
      ],
      "metadata": {
        "id": "-58OvnlnWux9"
      },
      "execution_count": null,
      "outputs": []
    },
    {
      "cell_type": "markdown",
      "source": [
        "## Review metrics"
      ],
      "metadata": {
        "id": "h8ER8h7yRYgL"
      }
    },
    {
      "cell_type": "code",
      "source": [
        "metric_11 = pd.read_csv(path_to_work_dir + 'logreg_11_metrics.csv')\n",
        "metric_12 = pd.read_csv(path_to_work_dir + 'logreg_12_metrics.csv')\n",
        "metric_25 = pd.read_csv(path_to_work_dir + 'logreg_25_metrics.csv')\n",
        "metrics = pd.concat([metric_11, metric_12, metric_25])\n",
        "ind=['n_gram_1_1', 'n_gram_1_2', 'n_gram_2_5']\n",
        "plt.plot(ind, metrics['F_score'])"
      ],
      "metadata": {
        "id": "X8ZmQa22Nrh1",
        "colab": {
          "base_uri": "https://localhost:8080/",
          "height": 468
        },
        "outputId": "047b1aa4-e9a4-4ccc-f975-662f90c10d99"
      },
      "execution_count": null,
      "outputs": [
        {
          "output_type": "execute_result",
          "data": {
            "text/plain": [
              "[<matplotlib.lines.Line2D at 0x79adff509570>]"
            ]
          },
          "metadata": {},
          "execution_count": 10
        },
        {
          "output_type": "display_data",
          "data": {
            "text/plain": [
              "<Figure size 640x480 with 1 Axes>"
            ],
            "image/png": "[encoded data removed]"
          },
          "metadata": {}
        }
      ]
    },
    {
      "cell_type": "markdown",
      "source": [
        "# SpaCy"
      ],
      "metadata": {
        "id": "gKhsUq9DiaXS"
      }
    },
    {
      "cell_type": "code",
      "source": [
        "nlp = spacy.load(\"en_core_web_sm\")"
      ],
      "metadata": {
        "id": "S-RN8iaVxeoA"
      },
      "execution_count": null,
      "outputs": []
    },
    {
      "cell_type": "code",
      "source": [
        "dfc = df.copy()"
      ],
      "metadata": {
        "id": "RxJR1yaY_GLE"
      },
      "execution_count": null,
      "outputs": []
    },
    {
      "cell_type": "markdown",
      "source": [
        "## Replacement NER in text"
      ],
      "metadata": {
        "id": "uqQaihhe8tJ2"
      }
    },
    {
      "cell_type": "code",
      "source": [
        "for num, text in enumerate(tqdm(dfc['review'])):\n",
        "    doc = nlp(text)\n",
        "    for entity in doc.ents:\n",
        "        if entity.label_ in ['ORG', 'DATE', 'PERSON', 'GPE']:\n",
        "            dfc.loc[num, 'review'] = dfc.loc[num, 'review'].replace(entity.text, entity.label_)"
      ],
      "metadata": {
        "colab": {
          "base_uri": "https://localhost:8080/"
        },
        "id": "hQ2dJXva7EmG",
        "outputId": "0fda913c-c554-47da-cdb5-c3a053d85fa7"
      },
      "execution_count": null,
      "outputs": [
        {
          "output_type": "stream",
          "name": "stderr",
          "text": [
            "100%|██████████| 50000/50000 [23:50<00:00, 34.96it/s]\n"
          ]
        }
      ]
    },
    {
      "cell_type": "code",
      "source": [
        "dfc.to_csv(path_to_work_dir + 'data_ner.csv', index=None)"
      ],
      "metadata": {
        "id": "gHPsHvS_NeXK"
      },
      "execution_count": null,
      "outputs": []
    },
    {
      "cell_type": "markdown",
      "source": [
        "### load data after replacement"
      ],
      "metadata": {
        "id": "DurLZeb_8720"
      }
    },
    {
      "cell_type": "code",
      "source": [
        "df_ner = pd.read_csv(path_to_work_dir + 'data_ner.csv')\n",
        "df_ner.head()"
      ],
      "metadata": {
        "id": "YkWuciSJUue2",
        "colab": {
          "base_uri": "https://localhost:8080/",
          "height": 226
        },
        "outputId": "bcad233f-5c66-4442-adbc-8b4800ebf4f2"
      },
      "execution_count": null,
      "outputs": [
        {
          "output_type": "execute_result",
          "data": {
            "text/plain": [
              "   is_positive                                             review\n",
              "0            0  ORG despite fistful tony wins incredibly weak ...\n",
              "1            0  show comes interesting locations fast travel c...\n",
              "2            1  simply love movie also love ramones sorta bias...\n",
              "3            0  spoilers ahead want call thati would almost re...\n",
              "4            1  alltime favorite movie seen many movies one be..."
            ],
            "text/html": [
              "\n",
              "  <div id=\"df-bfebdbdf-b26b-4d9d-9aaf-94905c0d5a84\" class=\"colab-df-container\">\n",
              "    <div>\n",
              "<style scoped>\n",
              "    .dataframe tbody tr th:only-of-type {\n",
              "        vertical-align: middle;\n",
              "    }\n",
              "\n",
              "    .dataframe tbody tr th {\n",
              "        vertical-align: top;\n",
              "    }\n",
              "\n",
              "    .dataframe thead th {\n",
              "        text-align: right;\n",
              "    }\n",
              "</style>\n",
              "<table border=\"1\" class=\"dataframe\">\n",
              "  <thead>\n",
              "    <tr style=\"text-align: right;\">\n",
              "      <th></th>\n",
              "      <th>is_positive</th>\n",
              "      <th>review</th>\n",
              "    </tr>\n",
              "  </thead>\n",
              "  <tbody>\n",
              "    <tr>\n",
              "      <th>0</th>\n",
              "      <td>0</td>\n",
              "      <td>ORG despite fistful tony wins incredibly weak ...</td>\n",
              "    </tr>\n",
              "    <tr>\n",
              "      <th>1</th>\n",
              "      <td>0</td>\n",
              "      <td>show comes interesting locations fast travel c...</td>\n",
              "    </tr>\n",
              "    <tr>\n",
              "      <th>2</th>\n",
              "      <td>1</td>\n",
              "      <td>simply love movie also love ramones sorta bias...</td>\n",
              "    </tr>\n",
              "    <tr>\n",
              "      <th>3</th>\n",
              "      <td>0</td>\n",
              "      <td>spoilers ahead want call thati would almost re...</td>\n",
              "    </tr>\n",
              "    <tr>\n",
              "      <th>4</th>\n",
              "      <td>1</td>\n",
              "      <td>alltime favorite movie seen many movies one be...</td>\n",
              "    </tr>\n",
              "  </tbody>\n",
              "</table>\n",
              "</div>\n",
              "    <div class=\"colab-df-buttons\">\n",
              "\n",
              "  <div class=\"colab-df-container\">\n",
              "    <button class=\"colab-df-convert\" onclick=\"convertToInteractive('df-bfebdbdf-b26b-4d9d-9aaf-94905c0d5a84')\"\n",
              "            title=\"Convert this dataframe to an interactive table.\"\n",
              "            style=\"display:none;\">\n",
              "\n",
              "  <svg xmlns=\"http://www.w3.org/2000/svg\" height=\"24px\" viewBox=\"0 -960 960 960\">\n",
              "    <path d=\"M120-120v-720h720v720H120Zm60-500h600v-160H180v160Zm220 220h160v-160H400v160Zm0 220h160v-160H400v160ZM180-400h160v-160H180v160Zm440 0h160v-160H620v160ZM180-180h160v-160H180v160Zm440 0h160v-160H620v160Z\"/>\n",
              "  </svg>\n",
              "    </button>\n",
              "\n",
              "  <style>\n",
              "    .colab-df-container {\n",
              "      display:flex;\n",
              "      gap: 12px;\n",
              "    }\n",
              "\n",
              "    .colab-df-convert {\n",
              "      background-color: #E8F0FE;\n",
              "      border: none;\n",
              "      border-radius: 50%;\n",
              "      cursor: pointer;\n",
              "      display: none;\n",
              "      fill: #1967D2;\n",
              "      height: 32px;\n",
              "      padding: 0 0 0 0;\n",
              "      width: 32px;\n",
              "    }\n",
              "\n",
              "    .colab-df-convert:hover {\n",
              "      background-color: #E2EBFA;\n",
              "      box-shadow: 0px 1px 2px rgba(60, 64, 67, 0.3), 0px 1px 3px 1px rgba(60, 64, 67, 0.15);\n",
              "      fill: #174EA6;\n",
              "    }\n",
              "\n",
              "    .colab-df-buttons div {\n",
              "      margin-bottom: 4px;\n",
              "    }\n",
              "\n",
              "    [theme=dark] .colab-df-convert {\n",
              "      background-color: #3B4455;\n",
              "      fill: #D2E3FC;\n",
              "    }\n",
              "\n",
              "    [theme=dark] .colab-df-convert:hover {\n",
              "      background-color: #434B5C;\n",
              "      box-shadow: 0px 1px 3px 1px rgba(0, 0, 0, 0.15);\n",
              "      filter: drop-shadow(0px 1px 2px rgba(0, 0, 0, 0.3));\n",
              "      fill: #FFFFFF;\n",
              "    }\n",
              "  </style>\n",
              "\n",
              "    <script>\n",
              "      const buttonEl =\n",
              "        document.querySelector('#df-bfebdbdf-b26b-4d9d-9aaf-94905c0d5a84 button.colab-df-convert');\n",
              "      buttonEl.style.display =\n",
              "        google.colab.kernel.accessAllowed ? 'block' : 'none';\n",
              "\n",
              "      async function convertToInteractive(key) {\n",
              "        const element = document.querySelector('#df-bfebdbdf-b26b-4d9d-9aaf-94905c0d5a84');\n",
              "        const dataTable =\n",
              "          await google.colab.kernel.invokeFunction('convertToInteractive',\n",
              "                                                    [key], {});\n",
              "        if (!dataTable) return;\n",
              "\n",
              "        const docLinkHtml = 'Like what you see? Visit the ' +\n",
              "          '<a target=\"_blank\" href=https://colab.research.google.com/notebooks/data_table.ipynb>data table notebook</a>'\n",
              "          + ' to learn more about interactive tables.';\n",
              "        element.innerHTML = '';\n",
              "        dataTable['output_type'] = 'display_data';\n",
              "        await google.colab.output.renderOutput(dataTable, element);\n",
              "        const docLink = document.createElement('div');\n",
              "        docLink.innerHTML = docLinkHtml;\n",
              "        element.appendChild(docLink);\n",
              "      }\n",
              "    </script>\n",
              "  </div>\n",
              "\n",
              "\n",
              "<div id=\"df-34d5b803-946c-457a-a2a0-48cf2f4b43f5\">\n",
              "  <button class=\"colab-df-quickchart\" onclick=\"quickchart('df-34d5b803-946c-457a-a2a0-48cf2f4b43f5')\"\n",
              "            title=\"Suggest charts\"\n",
              "            style=\"display:none;\">\n",
              "\n",
              "<svg xmlns=\"http://www.w3.org/2000/svg\" height=\"24px\"viewBox=\"0 0 24 24\"\n",
              "     width=\"24px\">\n",
              "    <g>\n",
              "        <path d=\"M19 3H5c-1.1 0-2 .9-2 2v14c0 1.1.9 2 2 2h14c1.1 0 2-.9 2-2V5c0-1.1-.9-2-2-2zM9 17H7v-7h2v7zm4 0h-2V7h2v10zm4 0h-2v-4h2v4z\"/>\n",
              "    </g>\n",
              "</svg>\n",
              "  </button>\n",
              "\n",
              "<style>\n",
              "  .colab-df-quickchart {\n",
              "      --bg-color: #E8F0FE;\n",
              "      --fill-color: #1967D2;\n",
              "      --hover-bg-color: #E2EBFA;\n",
              "      --hover-fill-color: #174EA6;\n",
              "      --disabled-fill-color: #AAA;\n",
              "      --disabled-bg-color: #DDD;\n",
              "  }\n",
              "\n",
              "  [theme=dark] .colab-df-quickchart {\n",
              "      --bg-color: #3B4455;\n",
              "      --fill-color: #D2E3FC;\n",
              "      --hover-bg-color: #434B5C;\n",
              "      --hover-fill-color: #FFFFFF;\n",
              "      --disabled-bg-color: #3B4455;\n",
              "      --disabled-fill-color: #666;\n",
              "  }\n",
              "\n",
              "  .colab-df-quickchart {\n",
              "    background-color: var(--bg-color);\n",
              "    border: none;\n",
              "    border-radius: 50%;\n",
              "    cursor: pointer;\n",
              "    display: none;\n",
              "    fill: var(--fill-color);\n",
              "    height: 32px;\n",
              "    padding: 0;\n",
              "    width: 32px;\n",
              "  }\n",
              "\n",
              "  .colab-df-quickchart:hover {\n",
              "    background-color: var(--hover-bg-color);\n",
              "    box-shadow: 0 1px 2px rgba(60, 64, 67, 0.3), 0 1px 3px 1px rgba(60, 64, 67, 0.15);\n",
              "    fill: var(--button-hover-fill-color);\n",
              "  }\n",
              "\n",
              "  .colab-df-quickchart-complete:disabled,\n",
              "  .colab-df-quickchart-complete:disabled:hover {\n",
              "    background-color: var(--disabled-bg-color);\n",
              "    fill: var(--disabled-fill-color);\n",
              "    box-shadow: none;\n",
              "  }\n",
              "\n",
              "  .colab-df-spinner {\n",
              "    border: 2px solid var(--fill-color);\n",
              "    border-color: transparent;\n",
              "    border-bottom-color: var(--fill-color);\n",
              "    animation:\n",
              "      spin 1s steps(1) infinite;\n",
              "  }\n",
              "\n",
              "  @keyframes spin {\n",
              "    0% {\n",
              "      border-color: transparent;\n",
              "      border-bottom-color: var(--fill-color);\n",
              "      border-left-color: var(--fill-color);\n",
              "    }\n",
              "    20% {\n",
              "      border-color: transparent;\n",
              "      border-left-color: var(--fill-color);\n",
              "      border-top-color: var(--fill-color);\n",
              "    }\n",
              "    30% {\n",
              "      border-color: transparent;\n",
              "      border-left-color: var(--fill-color);\n",
              "      border-top-color: var(--fill-color);\n",
              "      border-right-color: var(--fill-color);\n",
              "    }\n",
              "    40% {\n",
              "      border-color: transparent;\n",
              "      border-right-color: var(--fill-color);\n",
              "      border-top-color: var(--fill-color);\n",
              "    }\n",
              "    60% {\n",
              "      border-color: transparent;\n",
              "      border-right-color: var(--fill-color);\n",
              "    }\n",
              "    80% {\n",
              "      border-color: transparent;\n",
              "      border-right-color: var(--fill-color);\n",
              "      border-bottom-color: var(--fill-color);\n",
              "    }\n",
              "    90% {\n",
              "      border-color: transparent;\n",
              "      border-bottom-color: var(--fill-color);\n",
              "    }\n",
              "  }\n",
              "</style>\n",
              "\n",
              "  <script>\n",
              "    async function quickchart(key) {\n",
              "      const quickchartButtonEl =\n",
              "        document.querySelector('#' + key + ' button');\n",
              "      quickchartButtonEl.disabled = true;  // To prevent multiple clicks.\n",
              "      quickchartButtonEl.classList.add('colab-df-spinner');\n",
              "      try {\n",
              "        const charts = await google.colab.kernel.invokeFunction(\n",
              "            'suggestCharts', [key], {});\n",
              "      } catch (error) {\n",
              "        console.error('Error during call to suggestCharts:', error);\n",
              "      }\n",
              "      quickchartButtonEl.classList.remove('colab-df-spinner');\n",
              "      quickchartButtonEl.classList.add('colab-df-quickchart-complete');\n",
              "    }\n",
              "    (() => {\n",
              "      let quickchartButtonEl =\n",
              "        document.querySelector('#df-34d5b803-946c-457a-a2a0-48cf2f4b43f5 button');\n",
              "      quickchartButtonEl.style.display =\n",
              "        google.colab.kernel.accessAllowed ? 'block' : 'none';\n",
              "    })();\n",
              "  </script>\n",
              "</div>\n",
              "    </div>\n",
              "  </div>\n"
            ],
            "application/vnd.google.colaboratory.intrinsic+json": {
              "type": "dataframe",
              "variable_name": "df_ner",
              "summary": "{\n  \"name\": \"df_ner\",\n  \"rows\": 50000,\n  \"fields\": [\n    {\n      \"column\": \"is_positive\",\n      \"properties\": {\n        \"dtype\": \"number\",\n        \"std\": 0,\n        \"min\": 0,\n        \"max\": 1,\n        \"num_unique_values\": 2,\n        \"samples\": [\n          1,\n          0\n        ],\n        \"semantic_type\": \"\",\n        \"description\": \"\"\n      }\n    },\n    {\n      \"column\": \"review\",\n      \"properties\": {\n        \"dtype\": \"string\",\n        \"num_unique_values\": 49579,\n        \"samples\": [\n          \"found movie netflix add queue disappointed got funny saw local drivein theater back thenit builds climax nicely getting glimpses various characters begin trip across GPE \\\"honky tonk freeway GPE wheels\\\" strange comedic role PERSON remember kennedy tv film \\\"the missiles DATE\\\" felt one could pulled dramatic character well didit reminds bit PERSON dyke \\\"cold turkey' van dyke played local minister devane's role mayor minister activist typical small towns makes character seem amusing realhoward hessman PERSON spoiled family rv target time well anyone traveled across country small children yet appreciate scenesthe scenes small town struggling survive reminded lot small town grew handled charm humor often saw small towns sad many small towns disappeared freeway system gives realistic humorous view survive used zoo animals anyoneall lightweight comedy particular message humorous glance GPE early 's well worth watching need bit good cheer\",\n          \"i'll give two denis leary good lines that's point script supposed act movie needs one offer save DATE watch hair grow fall whatever case\"\n        ],\n        \"semantic_type\": \"\",\n        \"description\": \"\"\n      }\n    }\n  ]\n}"
            }
          },
          "metadata": {},
          "execution_count": 11
        }
      ]
    },
    {
      "cell_type": "markdown",
      "source": [
        "## Split data"
      ],
      "metadata": {
        "id": "iWmMh05S-EPZ"
      }
    },
    {
      "cell_type": "code",
      "source": [
        "x_train, x_test, y_train, y_test = train_test_split(df_ner['review'],\n",
        "                                                    df_ner['is_positive'],\n",
        "                                                    test_size=0.2,\n",
        "                                                    random_state=42)"
      ],
      "metadata": {
        "id": "XBrxjigz9p2y"
      },
      "execution_count": null,
      "outputs": []
    },
    {
      "cell_type": "markdown",
      "source": [
        "## Learn regressor model"
      ],
      "metadata": {
        "id": "g4Sehgp4-kvi"
      }
    },
    {
      "cell_type": "code",
      "source": [
        "logreg_11_ner = model_learning(Pipeline_vec_1_1, LogisticRegression, model_params,\n",
        "                               x_train, x_test, y_train, y_test)"
      ],
      "metadata": {
        "id": "0JE9pHtt9Dzs"
      },
      "execution_count": null,
      "outputs": []
    },
    {
      "cell_type": "markdown",
      "source": [
        "## Get of metrics and ROC curv"
      ],
      "metadata": {
        "id": "xxpnSfR9-p5D"
      }
    },
    {
      "cell_type": "code",
      "source": [
        "logreg_11_ner_metrics = Calc_of_metrics_and_Roc_Auc(logreg_11_ner['model'],\n",
        "                                                    logreg_11_ner['y_true_proba'],\n",
        "                                                    logreg_11_ner['y_true_predict'],\n",
        "                                                    x_train, x_test, y_train, y_test)"
      ],
      "metadata": {
        "colab": {
          "base_uri": "https://localhost:8080/",
          "height": 837
        },
        "id": "M3nsjCWh9_7R",
        "outputId": "b9a401aa-2b82-4cb9-fcb8-d4c65e514c97"
      },
      "execution_count": null,
      "outputs": [
        {
          "output_type": "stream",
          "name": "stdout",
          "text": [
            "Best Threshold=0.491, F-Score=0.893, Precision=0.875, Recall=0.911\n",
            "\n",
            " ************************************************** \n",
            "\n"
          ]
        },
        {
          "output_type": "display_data",
          "data": {
            "text/plain": [
              "<Figure size 1000x800 with 1 Axes>"
            ],
            "image/png": "[encoded data removed]"
          },
          "metadata": {}
        }
      ]
    },
    {
      "cell_type": "markdown",
      "source": [
        "## Get confusion matrix"
      ],
      "metadata": {
        "id": "TtPJNr0f-wRQ"
      }
    },
    {
      "cell_type": "code",
      "source": [
        "Result_Confusion_matrix(logreg_11_ner, logreg_11_ner_metrics, y_test)"
      ],
      "metadata": {
        "colab": {
          "base_uri": "https://localhost:8080/",
          "height": 894
        },
        "id": "LnNwg1y4-cWC",
        "outputId": "af70e1f4-ecd9-4130-fe20-95118cbb3dbf"
      },
      "execution_count": null,
      "outputs": [
        {
          "output_type": "stream",
          "name": "stdout",
          "text": [
            "Confusion matrix, without normalization\n",
            "[[4430  622]\n",
            " [ 461 4487]]\n"
          ]
        },
        {
          "output_type": "display_data",
          "data": {
            "text/plain": [
              "<Figure size 1000x800 with 2 Axes>"
            ],
            "image/png": "[encoded data removed]"
          },
          "metadata": {}
        }
      ]
    },
    {
      "cell_type": "code",
      "source": [
        "metric_11 = pd.read_csv(path_to_work_dir + 'logreg_11_metrics.csv')\n",
        "metric_11"
      ],
      "metadata": {
        "colab": {
          "base_uri": "https://localhost:8080/",
          "height": 101
        },
        "id": "KwLBltpMAQuc",
        "outputId": "c58afb5f-33e6-42a6-edd9-4d81a9149f4b"
      },
      "execution_count": null,
      "outputs": [
        {
          "output_type": "execute_result",
          "data": {
            "text/plain": [
              "   Thresholds   F_score  Precision    Recall\n",
              "0    0.514668  0.897918   0.889374  0.906629"
            ],
            "text/html": [
              "\n",
              "  <div id=\"df-bc43f435-406f-4157-90d0-26174b405e0f\" class=\"colab-df-container\">\n",
              "    <div>\n",
              "<style scoped>\n",
              "    .dataframe tbody tr th:only-of-type {\n",
              "        vertical-align: middle;\n",
              "    }\n",
              "\n",
              "    .dataframe tbody tr th {\n",
              "        vertical-align: top;\n",
              "    }\n",
              "\n",
              "    .dataframe thead th {\n",
              "        text-align: right;\n",
              "    }\n",
              "</style>\n",
              "<table border=\"1\" class=\"dataframe\">\n",
              "  <thead>\n",
              "    <tr style=\"text-align: right;\">\n",
              "      <th></th>\n",
              "      <th>Thresholds</th>\n",
              "      <th>F_score</th>\n",
              "      <th>Precision</th>\n",
              "      <th>Recall</th>\n",
              "    </tr>\n",
              "  </thead>\n",
              "  <tbody>\n",
              "    <tr>\n",
              "      <th>0</th>\n",
              "      <td>0.514668</td>\n",
              "      <td>0.897918</td>\n",
              "      <td>0.889374</td>\n",
              "      <td>0.906629</td>\n",
              "    </tr>\n",
              "  </tbody>\n",
              "</table>\n",
              "</div>\n",
              "    <div class=\"colab-df-buttons\">\n",
              "\n",
              "  <div class=\"colab-df-container\">\n",
              "    <button class=\"colab-df-convert\" onclick=\"convertToInteractive('df-bc43f435-406f-4157-90d0-26174b405e0f')\"\n",
              "            title=\"Convert this dataframe to an interactive table.\"\n",
              "            style=\"display:none;\">\n",
              "\n",
              "  <svg xmlns=\"http://www.w3.org/2000/svg\" height=\"24px\" viewBox=\"0 -960 960 960\">\n",
              "    <path d=\"M120-120v-720h720v720H120Zm60-500h600v-160H180v160Zm220 220h160v-160H400v160Zm0 220h160v-160H400v160ZM180-400h160v-160H180v160Zm440 0h160v-160H620v160ZM180-180h160v-160H180v160Zm440 0h160v-160H620v160Z\"/>\n",
              "  </svg>\n",
              "    </button>\n",
              "\n",
              "  <style>\n",
              "    .colab-df-container {\n",
              "      display:flex;\n",
              "      gap: 12px;\n",
              "    }\n",
              "\n",
              "    .colab-df-convert {\n",
              "      background-color: #E8F0FE;\n",
              "      border: none;\n",
              "      border-radius: 50%;\n",
              "      cursor: pointer;\n",
              "      display: none;\n",
              "      fill: #1967D2;\n",
              "      height: 32px;\n",
              "      padding: 0 0 0 0;\n",
              "      width: 32px;\n",
              "    }\n",
              "\n",
              "    .colab-df-convert:hover {\n",
              "      background-color: #E2EBFA;\n",
              "      box-shadow: 0px 1px 2px rgba(60, 64, 67, 0.3), 0px 1px 3px 1px rgba(60, 64, 67, 0.15);\n",
              "      fill: #174EA6;\n",
              "    }\n",
              "\n",
              "    .colab-df-buttons div {\n",
              "      margin-bottom: 4px;\n",
              "    }\n",
              "\n",
              "    [theme=dark] .colab-df-convert {\n",
              "      background-color: #3B4455;\n",
              "      fill: #D2E3FC;\n",
              "    }\n",
              "\n",
              "    [theme=dark] .colab-df-convert:hover {\n",
              "      background-color: #434B5C;\n",
              "      box-shadow: 0px 1px 3px 1px rgba(0, 0, 0, 0.15);\n",
              "      filter: drop-shadow(0px 1px 2px rgba(0, 0, 0, 0.3));\n",
              "      fill: #FFFFFF;\n",
              "    }\n",
              "  </style>\n",
              "\n",
              "    <script>\n",
              "      const buttonEl =\n",
              "        document.querySelector('#df-bc43f435-406f-4157-90d0-26174b405e0f button.colab-df-convert');\n",
              "      buttonEl.style.display =\n",
              "        google.colab.kernel.accessAllowed ? 'block' : 'none';\n",
              "\n",
              "      async function convertToInteractive(key) {\n",
              "        const element = document.querySelector('#df-bc43f435-406f-4157-90d0-26174b405e0f');\n",
              "        const dataTable =\n",
              "          await google.colab.kernel.invokeFunction('convertToInteractive',\n",
              "                                                    [key], {});\n",
              "        if (!dataTable) return;\n",
              "\n",
              "        const docLinkHtml = 'Like what you see? Visit the ' +\n",
              "          '<a target=\"_blank\" href=https://colab.research.google.com/notebooks/data_table.ipynb>data table notebook</a>'\n",
              "          + ' to learn more about interactive tables.';\n",
              "        element.innerHTML = '';\n",
              "        dataTable['output_type'] = 'display_data';\n",
              "        await google.colab.output.renderOutput(dataTable, element);\n",
              "        const docLink = document.createElement('div');\n",
              "        docLink.innerHTML = docLinkHtml;\n",
              "        element.appendChild(docLink);\n",
              "      }\n",
              "    </script>\n",
              "  </div>\n",
              "\n",
              "    </div>\n",
              "  </div>\n"
            ],
            "application/vnd.google.colaboratory.intrinsic+json": {
              "type": "dataframe",
              "variable_name": "metric_11",
              "summary": "{\n  \"name\": \"metric_11\",\n  \"rows\": 1,\n  \"fields\": [\n    {\n      \"column\": \"Thresholds\",\n      \"properties\": {\n        \"dtype\": \"number\",\n        \"std\": null,\n        \"min\": 0.5146675929204637,\n        \"max\": 0.5146675929204637,\n        \"num_unique_values\": 1,\n        \"samples\": [\n          0.5146675929204637\n        ],\n        \"semantic_type\": \"\",\n        \"description\": \"\"\n      }\n    },\n    {\n      \"column\": \"F_score\",\n      \"properties\": {\n        \"dtype\": \"number\",\n        \"std\": null,\n        \"min\": 0.8979183346677342,\n        \"max\": 0.8979183346677342,\n        \"num_unique_values\": 1,\n        \"samples\": [\n          0.8979183346677342\n        ],\n        \"semantic_type\": \"\",\n        \"description\": \"\"\n      }\n    },\n    {\n      \"column\": \"Precision\",\n      \"properties\": {\n        \"dtype\": \"number\",\n        \"std\": null,\n        \"min\": 0.8893735130848532,\n        \"max\": 0.8893735130848532,\n        \"num_unique_values\": 1,\n        \"samples\": [\n          0.8893735130848532\n        ],\n        \"semantic_type\": \"\",\n        \"description\": \"\"\n      }\n    },\n    {\n      \"column\": \"Recall\",\n      \"properties\": {\n        \"dtype\": \"number\",\n        \"std\": null,\n        \"min\": 0.9066289409862572,\n        \"max\": 0.9066289409862572,\n        \"num_unique_values\": 1,\n        \"samples\": [\n          0.9066289409862572\n        ],\n        \"semantic_type\": \"\",\n        \"description\": \"\"\n      }\n    }\n  ]\n}"
            }
          },
          "metadata": {},
          "execution_count": 30
        }
      ]
    },
    {
      "cell_type": "code",
      "source": [
        "logreg_11_ner_df = pd.DataFrame(logreg_11_ner_metrics, index=[0])\n",
        "logreg_11_ner_df"
      ],
      "metadata": {
        "colab": {
          "base_uri": "https://localhost:8080/",
          "height": 101
        },
        "id": "n5pa5RBf-5gZ",
        "outputId": "0881f34c-bb24-4665-d35d-97a9a69673d6"
      },
      "execution_count": null,
      "outputs": [
        {
          "output_type": "execute_result",
          "data": {
            "text/plain": [
              "   Thresholds   F_score  Precision    Recall\n",
              "0    0.491258  0.892585    0.87483  0.911075"
            ],
            "text/html": [
              "\n",
              "  <div id=\"df-b95586f2-db70-4409-ae98-a82068b61da9\" class=\"colab-df-container\">\n",
              "    <div>\n",
              "<style scoped>\n",
              "    .dataframe tbody tr th:only-of-type {\n",
              "        vertical-align: middle;\n",
              "    }\n",
              "\n",
              "    .dataframe tbody tr th {\n",
              "        vertical-align: top;\n",
              "    }\n",
              "\n",
              "    .dataframe thead th {\n",
              "        text-align: right;\n",
              "    }\n",
              "</style>\n",
              "<table border=\"1\" class=\"dataframe\">\n",
              "  <thead>\n",
              "    <tr style=\"text-align: right;\">\n",
              "      <th></th>\n",
              "      <th>Thresholds</th>\n",
              "      <th>F_score</th>\n",
              "      <th>Precision</th>\n",
              "      <th>Recall</th>\n",
              "    </tr>\n",
              "  </thead>\n",
              "  <tbody>\n",
              "    <tr>\n",
              "      <th>0</th>\n",
              "      <td>0.491258</td>\n",
              "      <td>0.892585</td>\n",
              "      <td>0.87483</td>\n",
              "      <td>0.911075</td>\n",
              "    </tr>\n",
              "  </tbody>\n",
              "</table>\n",
              "</div>\n",
              "    <div class=\"colab-df-buttons\">\n",
              "\n",
              "  <div class=\"colab-df-container\">\n",
              "    <button class=\"colab-df-convert\" onclick=\"convertToInteractive('df-b95586f2-db70-4409-ae98-a82068b61da9')\"\n",
              "            title=\"Convert this dataframe to an interactive table.\"\n",
              "            style=\"display:none;\">\n",
              "\n",
              "  <svg xmlns=\"http://www.w3.org/2000/svg\" height=\"24px\" viewBox=\"0 -960 960 960\">\n",
              "    <path d=\"M120-120v-720h720v720H120Zm60-500h600v-160H180v160Zm220 220h160v-160H400v160Zm0 220h160v-160H400v160ZM180-400h160v-160H180v160Zm440 0h160v-160H620v160ZM180-180h160v-160H180v160Zm440 0h160v-160H620v160Z\"/>\n",
              "  </svg>\n",
              "    </button>\n",
              "\n",
              "  <style>\n",
              "    .colab-df-container {\n",
              "      display:flex;\n",
              "      gap: 12px;\n",
              "    }\n",
              "\n",
              "    .colab-df-convert {\n",
              "      background-color: #E8F0FE;\n",
              "      border: none;\n",
              "      border-radius: 50%;\n",
              "      cursor: pointer;\n",
              "      display: none;\n",
              "      fill: #1967D2;\n",
              "      height: 32px;\n",
              "      padding: 0 0 0 0;\n",
              "      width: 32px;\n",
              "    }\n",
              "\n",
              "    .colab-df-convert:hover {\n",
              "      background-color: #E2EBFA;\n",
              "      box-shadow: 0px 1px 2px rgba(60, 64, 67, 0.3), 0px 1px 3px 1px rgba(60, 64, 67, 0.15);\n",
              "      fill: #174EA6;\n",
              "    }\n",
              "\n",
              "    .colab-df-buttons div {\n",
              "      margin-bottom: 4px;\n",
              "    }\n",
              "\n",
              "    [theme=dark] .colab-df-convert {\n",
              "      background-color: #3B4455;\n",
              "      fill: #D2E3FC;\n",
              "    }\n",
              "\n",
              "    [theme=dark] .colab-df-convert:hover {\n",
              "      background-color: #434B5C;\n",
              "      box-shadow: 0px 1px 3px 1px rgba(0, 0, 0, 0.15);\n",
              "      filter: drop-shadow(0px 1px 2px rgba(0, 0, 0, 0.3));\n",
              "      fill: #FFFFFF;\n",
              "    }\n",
              "  </style>\n",
              "\n",
              "    <script>\n",
              "      const buttonEl =\n",
              "        document.querySelector('#df-b95586f2-db70-4409-ae98-a82068b61da9 button.colab-df-convert');\n",
              "      buttonEl.style.display =\n",
              "        google.colab.kernel.accessAllowed ? 'block' : 'none';\n",
              "\n",
              "      async function convertToInteractive(key) {\n",
              "        const element = document.querySelector('#df-b95586f2-db70-4409-ae98-a82068b61da9');\n",
              "        const dataTable =\n",
              "          await google.colab.kernel.invokeFunction('convertToInteractive',\n",
              "                                                    [key], {});\n",
              "        if (!dataTable) return;\n",
              "\n",
              "        const docLinkHtml = 'Like what you see? Visit the ' +\n",
              "          '<a target=\"_blank\" href=https://colab.research.google.com/notebooks/data_table.ipynb>data table notebook</a>'\n",
              "          + ' to learn more about interactive tables.';\n",
              "        element.innerHTML = '';\n",
              "        dataTable['output_type'] = 'display_data';\n",
              "        await google.colab.output.renderOutput(dataTable, element);\n",
              "        const docLink = document.createElement('div');\n",
              "        docLink.innerHTML = docLinkHtml;\n",
              "        element.appendChild(docLink);\n",
              "      }\n",
              "    </script>\n",
              "  </div>\n",
              "\n",
              "    </div>\n",
              "  </div>\n"
            ],
            "application/vnd.google.colaboratory.intrinsic+json": {
              "type": "dataframe",
              "variable_name": "logreg_11_ner_df",
              "summary": "{\n  \"name\": \"logreg_11_ner_df\",\n  \"rows\": 1,\n  \"fields\": [\n    {\n      \"column\": \"Thresholds\",\n      \"properties\": {\n        \"dtype\": \"number\",\n        \"std\": null,\n        \"min\": 0.4912579496846643,\n        \"max\": 0.4912579496846643,\n        \"num_unique_values\": 1,\n        \"samples\": [\n          0.4912579496846643\n        ],\n        \"semantic_type\": \"\",\n        \"description\": \"\"\n      }\n    },\n    {\n      \"column\": \"F_score\",\n      \"properties\": {\n        \"dtype\": \"number\",\n        \"std\": null,\n        \"min\": 0.8925848925848926,\n        \"max\": 0.8925848925848926,\n        \"num_unique_values\": 1,\n        \"samples\": [\n          0.8925848925848926\n        ],\n        \"semantic_type\": \"\",\n        \"description\": \"\"\n      }\n    },\n    {\n      \"column\": \"Precision\",\n      \"properties\": {\n        \"dtype\": \"number\",\n        \"std\": null,\n        \"min\": 0.8748301960023287,\n        \"max\": 0.8748301960023287,\n        \"num_unique_values\": 1,\n        \"samples\": [\n          0.8748301960023287\n        ],\n        \"semantic_type\": \"\",\n        \"description\": \"\"\n      }\n    },\n    {\n      \"column\": \"Recall\",\n      \"properties\": {\n        \"dtype\": \"number\",\n        \"std\": null,\n        \"min\": 0.9110751818916734,\n        \"max\": 0.9110751818916734,\n        \"num_unique_values\": 1,\n        \"samples\": [\n          0.9110751818916734\n        ],\n        \"semantic_type\": \"\",\n        \"description\": \"\"\n      }\n    }\n  ]\n}"
            }
          },
          "metadata": {},
          "execution_count": 31
        }
      ]
    },
    {
      "cell_type": "code",
      "source": [
        "logreg_11_ner_df.to_csv(path_to_work_dir + 'logreg_11_ner_metrics.csv', index=None)"
      ],
      "metadata": {
        "id": "nICgakniAgp6"
      },
      "execution_count": null,
      "outputs": []
    },
    {
      "cell_type": "markdown",
      "source": [
        "# Conclusion about regressor"
      ],
      "metadata": {
        "id": "NTLRxJm-Cn1F"
      }
    },
    {
      "cell_type": "markdown",
      "source": [
        "We can see that after replacement NER in text the indicators F_score have a litle bit deteriorated\n",
        "\n",
        "Before: 0.8979\n",
        "\n",
        "After: 0.8925\n",
        "\n",
        "Well! Let's try to use a neural network"
      ],
      "metadata": {
        "id": "IVwFuHPBA2lp"
      }
    },
    {
      "cell_type": "markdown",
      "source": [
        "# Neural Network"
      ],
      "metadata": {
        "id": "b_lW88YVCd9I"
      }
    },
    {
      "cell_type": "markdown",
      "source": [
        "## Check device"
      ],
      "metadata": {
        "id": "1-BtQ21iT3Cu"
      }
    },
    {
      "cell_type": "code",
      "source": [
        "device = 'cuda' if torch.cuda.is_available() else 'cpu'\n",
        "device"
      ],
      "metadata": {
        "colab": {
          "base_uri": "https://localhost:8080/",
          "height": 55
        },
        "id": "5EaYJT5ZCvbh",
        "outputId": "1fcb3919-99a6-4f3e-d360-1229965bc916"
      },
      "execution_count": 10,
      "outputs": [
        {
          "output_type": "execute_result",
          "data": {
            "text/plain": [
              "'cuda'"
            ],
            "application/vnd.google.colaboratory.intrinsic+json": {
              "type": "string"
            }
          },
          "metadata": {},
          "execution_count": 10
        }
      ]
    },
    {
      "cell_type": "markdown",
      "source": [
        "## Load data"
      ],
      "metadata": {
        "id": "k5oiwRPFUMOl"
      }
    },
    {
      "cell_type": "code",
      "source": [
        "df_ner = pd.read_csv(path_to_work_dir + 'data_ner.csv')\n",
        "df_ner.head()"
      ],
      "metadata": {
        "colab": {
          "base_uri": "https://localhost:8080/",
          "height": 226
        },
        "id": "MqGV-Z7zULuf",
        "outputId": "df8f89ff-639c-4176-c65f-bf62081e6ba9"
      },
      "execution_count": 11,
      "outputs": [
        {
          "output_type": "execute_result",
          "data": {
            "text/plain": [
              "   is_positive                                             review\n",
              "0            0  ORG despite fistful tony wins incredibly weak ...\n",
              "1            0  show comes interesting locations fast travel c...\n",
              "2            1  simply love movie also love ramones sorta bias...\n",
              "3            0  spoilers ahead want call thati would almost re...\n",
              "4            1  alltime favorite movie seen many movies one be..."
            ],
            "text/html": [
              "\n",
              "  <div id=\"df-b57d683b-9930-49f8-9b4d-997aba090abe\" class=\"colab-df-container\">\n",
              "    <div>\n",
              "<style scoped>\n",
              "    .dataframe tbody tr th:only-of-type {\n",
              "        vertical-align: middle;\n",
              "    }\n",
              "\n",
              "    .dataframe tbody tr th {\n",
              "        vertical-align: top;\n",
              "    }\n",
              "\n",
              "    .dataframe thead th {\n",
              "        text-align: right;\n",
              "    }\n",
              "</style>\n",
              "<table border=\"1\" class=\"dataframe\">\n",
              "  <thead>\n",
              "    <tr style=\"text-align: right;\">\n",
              "      <th></th>\n",
              "      <th>is_positive</th>\n",
              "      <th>review</th>\n",
              "    </tr>\n",
              "  </thead>\n",
              "  <tbody>\n",
              "    <tr>\n",
              "      <th>0</th>\n",
              "      <td>0</td>\n",
              "      <td>ORG despite fistful tony wins incredibly weak ...</td>\n",
              "    </tr>\n",
              "    <tr>\n",
              "      <th>1</th>\n",
              "      <td>0</td>\n",
              "      <td>show comes interesting locations fast travel c...</td>\n",
              "    </tr>\n",
              "    <tr>\n",
              "      <th>2</th>\n",
              "      <td>1</td>\n",
              "      <td>simply love movie also love ramones sorta bias...</td>\n",
              "    </tr>\n",
              "    <tr>\n",
              "      <th>3</th>\n",
              "      <td>0</td>\n",
              "      <td>spoilers ahead want call thati would almost re...</td>\n",
              "    </tr>\n",
              "    <tr>\n",
              "      <th>4</th>\n",
              "      <td>1</td>\n",
              "      <td>alltime favorite movie seen many movies one be...</td>\n",
              "    </tr>\n",
              "  </tbody>\n",
              "</table>\n",
              "</div>\n",
              "    <div class=\"colab-df-buttons\">\n",
              "\n",
              "  <div class=\"colab-df-container\">\n",
              "    <button class=\"colab-df-convert\" onclick=\"convertToInteractive('df-b57d683b-9930-49f8-9b4d-997aba090abe')\"\n",
              "            title=\"Convert this dataframe to an interactive table.\"\n",
              "            style=\"display:none;\">\n",
              "\n",
              "  <svg xmlns=\"http://www.w3.org/2000/svg\" height=\"24px\" viewBox=\"0 -960 960 960\">\n",
              "    <path d=\"M120-120v-720h720v720H120Zm60-500h600v-160H180v160Zm220 220h160v-160H400v160Zm0 220h160v-160H400v160ZM180-400h160v-160H180v160Zm440 0h160v-160H620v160ZM180-180h160v-160H180v160Zm440 0h160v-160H620v160Z\"/>\n",
              "  </svg>\n",
              "    </button>\n",
              "\n",
              "  <style>\n",
              "    .colab-df-container {\n",
              "      display:flex;\n",
              "      gap: 12px;\n",
              "    }\n",
              "\n",
              "    .colab-df-convert {\n",
              "      background-color: #E8F0FE;\n",
              "      border: none;\n",
              "      border-radius: 50%;\n",
              "      cursor: pointer;\n",
              "      display: none;\n",
              "      fill: #1967D2;\n",
              "      height: 32px;\n",
              "      padding: 0 0 0 0;\n",
              "      width: 32px;\n",
              "    }\n",
              "\n",
              "    .colab-df-convert:hover {\n",
              "      background-color: #E2EBFA;\n",
              "      box-shadow: 0px 1px 2px rgba(60, 64, 67, 0.3), 0px 1px 3px 1px rgba(60, 64, 67, 0.15);\n",
              "      fill: #174EA6;\n",
              "    }\n",
              "\n",
              "    .colab-df-buttons div {\n",
              "      margin-bottom: 4px;\n",
              "    }\n",
              "\n",
              "    [theme=dark] .colab-df-convert {\n",
              "      background-color: #3B4455;\n",
              "      fill: #D2E3FC;\n",
              "    }\n",
              "\n",
              "    [theme=dark] .colab-df-convert:hover {\n",
              "      background-color: #434B5C;\n",
              "      box-shadow: 0px 1px 3px 1px rgba(0, 0, 0, 0.15);\n",
              "      filter: drop-shadow(0px 1px 2px rgba(0, 0, 0, 0.3));\n",
              "      fill: #FFFFFF;\n",
              "    }\n",
              "  </style>\n",
              "\n",
              "    <script>\n",
              "      const buttonEl =\n",
              "        document.querySelector('#df-b57d683b-9930-49f8-9b4d-997aba090abe button.colab-df-convert');\n",
              "      buttonEl.style.display =\n",
              "        google.colab.kernel.accessAllowed ? 'block' : 'none';\n",
              "\n",
              "      async function convertToInteractive(key) {\n",
              "        const element = document.querySelector('#df-b57d683b-9930-49f8-9b4d-997aba090abe');\n",
              "        const dataTable =\n",
              "          await google.colab.kernel.invokeFunction('convertToInteractive',\n",
              "                                                    [key], {});\n",
              "        if (!dataTable) return;\n",
              "\n",
              "        const docLinkHtml = 'Like what you see? Visit the ' +\n",
              "          '<a target=\"_blank\" href=https://colab.research.google.com/notebooks/data_table.ipynb>data table notebook</a>'\n",
              "          + ' to learn more about interactive tables.';\n",
              "        element.innerHTML = '';\n",
              "        dataTable['output_type'] = 'display_data';\n",
              "        await google.colab.output.renderOutput(dataTable, element);\n",
              "        const docLink = document.createElement('div');\n",
              "        docLink.innerHTML = docLinkHtml;\n",
              "        element.appendChild(docLink);\n",
              "      }\n",
              "    </script>\n",
              "  </div>\n",
              "\n",
              "\n",
              "<div id=\"df-49f6a980-09be-46f7-8cc1-0637760fa875\">\n",
              "  <button class=\"colab-df-quickchart\" onclick=\"quickchart('df-49f6a980-09be-46f7-8cc1-0637760fa875')\"\n",
              "            title=\"Suggest charts\"\n",
              "            style=\"display:none;\">\n",
              "\n",
              "<svg xmlns=\"http://www.w3.org/2000/svg\" height=\"24px\"viewBox=\"0 0 24 24\"\n",
              "     width=\"24px\">\n",
              "    <g>\n",
              "        <path d=\"M19 3H5c-1.1 0-2 .9-2 2v14c0 1.1.9 2 2 2h14c1.1 0 2-.9 2-2V5c0-1.1-.9-2-2-2zM9 17H7v-7h2v7zm4 0h-2V7h2v10zm4 0h-2v-4h2v4z\"/>\n",
              "    </g>\n",
              "</svg>\n",
              "  </button>\n",
              "\n",
              "<style>\n",
              "  .colab-df-quickchart {\n",
              "      --bg-color: #E8F0FE;\n",
              "      --fill-color: #1967D2;\n",
              "      --hover-bg-color: #E2EBFA;\n",
              "      --hover-fill-color: #174EA6;\n",
              "      --disabled-fill-color: #AAA;\n",
              "      --disabled-bg-color: #DDD;\n",
              "  }\n",
              "\n",
              "  [theme=dark] .colab-df-quickchart {\n",
              "      --bg-color: #3B4455;\n",
              "      --fill-color: #D2E3FC;\n",
              "      --hover-bg-color: #434B5C;\n",
              "      --hover-fill-color: #FFFFFF;\n",
              "      --disabled-bg-color: #3B4455;\n",
              "      --disabled-fill-color: #666;\n",
              "  }\n",
              "\n",
              "  .colab-df-quickchart {\n",
              "    background-color: var(--bg-color);\n",
              "    border: none;\n",
              "    border-radius: 50%;\n",
              "    cursor: pointer;\n",
              "    display: none;\n",
              "    fill: var(--fill-color);\n",
              "    height: 32px;\n",
              "    padding: 0;\n",
              "    width: 32px;\n",
              "  }\n",
              "\n",
              "  .colab-df-quickchart:hover {\n",
              "    background-color: var(--hover-bg-color);\n",
              "    box-shadow: 0 1px 2px rgba(60, 64, 67, 0.3), 0 1px 3px 1px rgba(60, 64, 67, 0.15);\n",
              "    fill: var(--button-hover-fill-color);\n",
              "  }\n",
              "\n",
              "  .colab-df-quickchart-complete:disabled,\n",
              "  .colab-df-quickchart-complete:disabled:hover {\n",
              "    background-color: var(--disabled-bg-color);\n",
              "    fill: var(--disabled-fill-color);\n",
              "    box-shadow: none;\n",
              "  }\n",
              "\n",
              "  .colab-df-spinner {\n",
              "    border: 2px solid var(--fill-color);\n",
              "    border-color: transparent;\n",
              "    border-bottom-color: var(--fill-color);\n",
              "    animation:\n",
              "      spin 1s steps(1) infinite;\n",
              "  }\n",
              "\n",
              "  @keyframes spin {\n",
              "    0% {\n",
              "      border-color: transparent;\n",
              "      border-bottom-color: var(--fill-color);\n",
              "      border-left-color: var(--fill-color);\n",
              "    }\n",
              "    20% {\n",
              "      border-color: transparent;\n",
              "      border-left-color: var(--fill-color);\n",
              "      border-top-color: var(--fill-color);\n",
              "    }\n",
              "    30% {\n",
              "      border-color: transparent;\n",
              "      border-left-color: var(--fill-color);\n",
              "      border-top-color: var(--fill-color);\n",
              "      border-right-color: var(--fill-color);\n",
              "    }\n",
              "    40% {\n",
              "      border-color: transparent;\n",
              "      border-right-color: var(--fill-color);\n",
              "      border-top-color: var(--fill-color);\n",
              "    }\n",
              "    60% {\n",
              "      border-color: transparent;\n",
              "      border-right-color: var(--fill-color);\n",
              "    }\n",
              "    80% {\n",
              "      border-color: transparent;\n",
              "      border-right-color: var(--fill-color);\n",
              "      border-bottom-color: var(--fill-color);\n",
              "    }\n",
              "    90% {\n",
              "      border-color: transparent;\n",
              "      border-bottom-color: var(--fill-color);\n",
              "    }\n",
              "  }\n",
              "</style>\n",
              "\n",
              "  <script>\n",
              "    async function quickchart(key) {\n",
              "      const quickchartButtonEl =\n",
              "        document.querySelector('#' + key + ' button');\n",
              "      quickchartButtonEl.disabled = true;  // To prevent multiple clicks.\n",
              "      quickchartButtonEl.classList.add('colab-df-spinner');\n",
              "      try {\n",
              "        const charts = await google.colab.kernel.invokeFunction(\n",
              "            'suggestCharts', [key], {});\n",
              "      } catch (error) {\n",
              "        console.error('Error during call to suggestCharts:', error);\n",
              "      }\n",
              "      quickchartButtonEl.classList.remove('colab-df-spinner');\n",
              "      quickchartButtonEl.classList.add('colab-df-quickchart-complete');\n",
              "    }\n",
              "    (() => {\n",
              "      let quickchartButtonEl =\n",
              "        document.querySelector('#df-49f6a980-09be-46f7-8cc1-0637760fa875 button');\n",
              "      quickchartButtonEl.style.display =\n",
              "        google.colab.kernel.accessAllowed ? 'block' : 'none';\n",
              "    })();\n",
              "  </script>\n",
              "</div>\n",
              "    </div>\n",
              "  </div>\n"
            ],
            "application/vnd.google.colaboratory.intrinsic+json": {
              "type": "dataframe",
              "variable_name": "df_ner",
              "summary": "{\n  \"name\": \"df_ner\",\n  \"rows\": 50000,\n  \"fields\": [\n    {\n      \"column\": \"is_positive\",\n      \"properties\": {\n        \"dtype\": \"number\",\n        \"std\": 0,\n        \"min\": 0,\n        \"max\": 1,\n        \"num_unique_values\": 2,\n        \"samples\": [\n          1,\n          0\n        ],\n        \"semantic_type\": \"\",\n        \"description\": \"\"\n      }\n    },\n    {\n      \"column\": \"review\",\n      \"properties\": {\n        \"dtype\": \"string\",\n        \"num_unique_values\": 49579,\n        \"samples\": [\n          \"found movie netflix add queue disappointed got funny saw local drivein theater back thenit builds climax nicely getting glimpses various characters begin trip across GPE \\\"honky tonk freeway GPE wheels\\\" strange comedic role PERSON remember kennedy tv film \\\"the missiles DATE\\\" felt one could pulled dramatic character well didit reminds bit PERSON dyke \\\"cold turkey' van dyke played local minister devane's role mayor minister activist typical small towns makes character seem amusing realhoward hessman PERSON spoiled family rv target time well anyone traveled across country small children yet appreciate scenesthe scenes small town struggling survive reminded lot small town grew handled charm humor often saw small towns sad many small towns disappeared freeway system gives realistic humorous view survive used zoo animals anyoneall lightweight comedy particular message humorous glance GPE early 's well worth watching need bit good cheer\",\n          \"i'll give two denis leary good lines that's point script supposed act movie needs one offer save DATE watch hair grow fall whatever case\"\n        ],\n        \"semantic_type\": \"\",\n        \"description\": \"\"\n      }\n    }\n  ]\n}"
            }
          },
          "metadata": {},
          "execution_count": 11
        }
      ]
    },
    {
      "cell_type": "markdown",
      "source": [
        "## Split data"
      ],
      "metadata": {
        "id": "0AWD0TzmT8ll"
      }
    },
    {
      "cell_type": "code",
      "source": [
        "df_train, df_test = train_test_split(df_ner, test_size=0.15, random_state=13)"
      ],
      "metadata": {
        "id": "5_6yxZpxs6x4"
      },
      "execution_count": 12,
      "outputs": []
    },
    {
      "cell_type": "code",
      "source": [
        "df_train, df_val = train_test_split(df_train, test_size=0.25, random_state=13)"
      ],
      "metadata": {
        "id": "xSL1VeWAuFbU"
      },
      "execution_count": 13,
      "outputs": []
    },
    {
      "cell_type": "markdown",
      "source": [
        "## Review split data"
      ],
      "metadata": {
        "id": "xIugXXzWXA6F"
      }
    },
    {
      "cell_type": "code",
      "source": [
        "df_train.head()"
      ],
      "metadata": {
        "colab": {
          "base_uri": "https://localhost:8080/",
          "height": 226
        },
        "id": "9At_SeaEydla",
        "outputId": "92fc6527-0e2e-4578-8bc0-142e5b9c637e"
      },
      "execution_count": 14,
      "outputs": [
        {
          "output_type": "execute_result",
          "data": {
            "text/plain": [
              "       is_positive                                             review\n",
              "12737            1  albuquerque film elements class western except...\n",
              "38995            0  natalie wood portrays PERSON polio disabled so...\n",
              "36576            0  movie made DATE could lot better unfortunately...\n",
              "32708            0  dull onenote characters next development unimp...\n",
              "27577            1  ORG's long time since i've last seen hilarious..."
            ],
            "text/html": [
              "\n",
              "  <div id=\"df-e81b92b8-640c-41f5-a0da-4b5fa4cbc38a\" class=\"colab-df-container\">\n",
              "    <div>\n",
              "<style scoped>\n",
              "    .dataframe tbody tr th:only-of-type {\n",
              "        vertical-align: middle;\n",
              "    }\n",
              "\n",
              "    .dataframe tbody tr th {\n",
              "        vertical-align: top;\n",
              "    }\n",
              "\n",
              "    .dataframe thead th {\n",
              "        text-align: right;\n",
              "    }\n",
              "</style>\n",
              "<table border=\"1\" class=\"dataframe\">\n",
              "  <thead>\n",
              "    <tr style=\"text-align: right;\">\n",
              "      <th></th>\n",
              "      <th>is_positive</th>\n",
              "      <th>review</th>\n",
              "    </tr>\n",
              "  </thead>\n",
              "  <tbody>\n",
              "    <tr>\n",
              "      <th>12737</th>\n",
              "      <td>1</td>\n",
              "      <td>albuquerque film elements class western except...</td>\n",
              "    </tr>\n",
              "    <tr>\n",
              "      <th>38995</th>\n",
              "      <td>0</td>\n",
              "      <td>natalie wood portrays PERSON polio disabled so...</td>\n",
              "    </tr>\n",
              "    <tr>\n",
              "      <th>36576</th>\n",
              "      <td>0</td>\n",
              "      <td>movie made DATE could lot better unfortunately...</td>\n",
              "    </tr>\n",
              "    <tr>\n",
              "      <th>32708</th>\n",
              "      <td>0</td>\n",
              "      <td>dull onenote characters next development unimp...</td>\n",
              "    </tr>\n",
              "    <tr>\n",
              "      <th>27577</th>\n",
              "      <td>1</td>\n",
              "      <td>ORG's long time since i've last seen hilarious...</td>\n",
              "    </tr>\n",
              "  </tbody>\n",
              "</table>\n",
              "</div>\n",
              "    <div class=\"colab-df-buttons\">\n",
              "\n",
              "  <div class=\"colab-df-container\">\n",
              "    <button class=\"colab-df-convert\" onclick=\"convertToInteractive('df-e81b92b8-640c-41f5-a0da-4b5fa4cbc38a')\"\n",
              "            title=\"Convert this dataframe to an interactive table.\"\n",
              "            style=\"display:none;\">\n",
              "\n",
              "  <svg xmlns=\"http://www.w3.org/2000/svg\" height=\"24px\" viewBox=\"0 -960 960 960\">\n",
              "    <path d=\"M120-120v-720h720v720H120Zm60-500h600v-160H180v160Zm220 220h160v-160H400v160Zm0 220h160v-160H400v160ZM180-400h160v-160H180v160Zm440 0h160v-160H620v160ZM180-180h160v-160H180v160Zm440 0h160v-160H620v160Z\"/>\n",
              "  </svg>\n",
              "    </button>\n",
              "\n",
              "  <style>\n",
              "    .colab-df-container {\n",
              "      display:flex;\n",
              "      gap: 12px;\n",
              "    }\n",
              "\n",
              "    .colab-df-convert {\n",
              "      background-color: #E8F0FE;\n",
              "      border: none;\n",
              "      border-radius: 50%;\n",
              "      cursor: pointer;\n",
              "      display: none;\n",
              "      fill: #1967D2;\n",
              "      height: 32px;\n",
              "      padding: 0 0 0 0;\n",
              "      width: 32px;\n",
              "    }\n",
              "\n",
              "    .colab-df-convert:hover {\n",
              "      background-color: #E2EBFA;\n",
              "      box-shadow: 0px 1px 2px rgba(60, 64, 67, 0.3), 0px 1px 3px 1px rgba(60, 64, 67, 0.15);\n",
              "      fill: #174EA6;\n",
              "    }\n",
              "\n",
              "    .colab-df-buttons div {\n",
              "      margin-bottom: 4px;\n",
              "    }\n",
              "\n",
              "    [theme=dark] .colab-df-convert {\n",
              "      background-color: #3B4455;\n",
              "      fill: #D2E3FC;\n",
              "    }\n",
              "\n",
              "    [theme=dark] .colab-df-convert:hover {\n",
              "      background-color: #434B5C;\n",
              "      box-shadow: 0px 1px 3px 1px rgba(0, 0, 0, 0.15);\n",
              "      filter: drop-shadow(0px 1px 2px rgba(0, 0, 0, 0.3));\n",
              "      fill: #FFFFFF;\n",
              "    }\n",
              "  </style>\n",
              "\n",
              "    <script>\n",
              "      const buttonEl =\n",
              "        document.querySelector('#df-e81b92b8-640c-41f5-a0da-4b5fa4cbc38a button.colab-df-convert');\n",
              "      buttonEl.style.display =\n",
              "        google.colab.kernel.accessAllowed ? 'block' : 'none';\n",
              "\n",
              "      async function convertToInteractive(key) {\n",
              "        const element = document.querySelector('#df-e81b92b8-640c-41f5-a0da-4b5fa4cbc38a');\n",
              "        const dataTable =\n",
              "          await google.colab.kernel.invokeFunction('convertToInteractive',\n",
              "                                                    [key], {});\n",
              "        if (!dataTable) return;\n",
              "\n",
              "        const docLinkHtml = 'Like what you see? Visit the ' +\n",
              "          '<a target=\"_blank\" href=https://colab.research.google.com/notebooks/data_table.ipynb>data table notebook</a>'\n",
              "          + ' to learn more about interactive tables.';\n",
              "        element.innerHTML = '';\n",
              "        dataTable['output_type'] = 'display_data';\n",
              "        await google.colab.output.renderOutput(dataTable, element);\n",
              "        const docLink = document.createElement('div');\n",
              "        docLink.innerHTML = docLinkHtml;\n",
              "        element.appendChild(docLink);\n",
              "      }\n",
              "    </script>\n",
              "  </div>\n",
              "\n",
              "\n",
              "<div id=\"df-25830932-f559-4dc9-bdeb-79f2c189b3b0\">\n",
              "  <button class=\"colab-df-quickchart\" onclick=\"quickchart('df-25830932-f559-4dc9-bdeb-79f2c189b3b0')\"\n",
              "            title=\"Suggest charts\"\n",
              "            style=\"display:none;\">\n",
              "\n",
              "<svg xmlns=\"http://www.w3.org/2000/svg\" height=\"24px\"viewBox=\"0 0 24 24\"\n",
              "     width=\"24px\">\n",
              "    <g>\n",
              "        <path d=\"M19 3H5c-1.1 0-2 .9-2 2v14c0 1.1.9 2 2 2h14c1.1 0 2-.9 2-2V5c0-1.1-.9-2-2-2zM9 17H7v-7h2v7zm4 0h-2V7h2v10zm4 0h-2v-4h2v4z\"/>\n",
              "    </g>\n",
              "</svg>\n",
              "  </button>\n",
              "\n",
              "<style>\n",
              "  .colab-df-quickchart {\n",
              "      --bg-color: #E8F0FE;\n",
              "      --fill-color: #1967D2;\n",
              "      --hover-bg-color: #E2EBFA;\n",
              "      --hover-fill-color: #174EA6;\n",
              "      --disabled-fill-color: #AAA;\n",
              "      --disabled-bg-color: #DDD;\n",
              "  }\n",
              "\n",
              "  [theme=dark] .colab-df-quickchart {\n",
              "      --bg-color: #3B4455;\n",
              "      --fill-color: #D2E3FC;\n",
              "      --hover-bg-color: #434B5C;\n",
              "      --hover-fill-color: #FFFFFF;\n",
              "      --disabled-bg-color: #3B4455;\n",
              "      --disabled-fill-color: #666;\n",
              "  }\n",
              "\n",
              "  .colab-df-quickchart {\n",
              "    background-color: var(--bg-color);\n",
              "    border: none;\n",
              "    border-radius: 50%;\n",
              "    cursor: pointer;\n",
              "    display: none;\n",
              "    fill: var(--fill-color);\n",
              "    height: 32px;\n",
              "    padding: 0;\n",
              "    width: 32px;\n",
              "  }\n",
              "\n",
              "  .colab-df-quickchart:hover {\n",
              "    background-color: var(--hover-bg-color);\n",
              "    box-shadow: 0 1px 2px rgba(60, 64, 67, 0.3), 0 1px 3px 1px rgba(60, 64, 67, 0.15);\n",
              "    fill: var(--button-hover-fill-color);\n",
              "  }\n",
              "\n",
              "  .colab-df-quickchart-complete:disabled,\n",
              "  .colab-df-quickchart-complete:disabled:hover {\n",
              "    background-color: var(--disabled-bg-color);\n",
              "    fill: var(--disabled-fill-color);\n",
              "    box-shadow: none;\n",
              "  }\n",
              "\n",
              "  .colab-df-spinner {\n",
              "    border: 2px solid var(--fill-color);\n",
              "    border-color: transparent;\n",
              "    border-bottom-color: var(--fill-color);\n",
              "    animation:\n",
              "      spin 1s steps(1) infinite;\n",
              "  }\n",
              "\n",
              "  @keyframes spin {\n",
              "    0% {\n",
              "      border-color: transparent;\n",
              "      border-bottom-color: var(--fill-color);\n",
              "      border-left-color: var(--fill-color);\n",
              "    }\n",
              "    20% {\n",
              "      border-color: transparent;\n",
              "      border-left-color: var(--fill-color);\n",
              "      border-top-color: var(--fill-color);\n",
              "    }\n",
              "    30% {\n",
              "      border-color: transparent;\n",
              "      border-left-color: var(--fill-color);\n",
              "      border-top-color: var(--fill-color);\n",
              "      border-right-color: var(--fill-color);\n",
              "    }\n",
              "    40% {\n",
              "      border-color: transparent;\n",
              "      border-right-color: var(--fill-color);\n",
              "      border-top-color: var(--fill-color);\n",
              "    }\n",
              "    60% {\n",
              "      border-color: transparent;\n",
              "      border-right-color: var(--fill-color);\n",
              "    }\n",
              "    80% {\n",
              "      border-color: transparent;\n",
              "      border-right-color: var(--fill-color);\n",
              "      border-bottom-color: var(--fill-color);\n",
              "    }\n",
              "    90% {\n",
              "      border-color: transparent;\n",
              "      border-bottom-color: var(--fill-color);\n",
              "    }\n",
              "  }\n",
              "</style>\n",
              "\n",
              "  <script>\n",
              "    async function quickchart(key) {\n",
              "      const quickchartButtonEl =\n",
              "        document.querySelector('#' + key + ' button');\n",
              "      quickchartButtonEl.disabled = true;  // To prevent multiple clicks.\n",
              "      quickchartButtonEl.classList.add('colab-df-spinner');\n",
              "      try {\n",
              "        const charts = await google.colab.kernel.invokeFunction(\n",
              "            'suggestCharts', [key], {});\n",
              "      } catch (error) {\n",
              "        console.error('Error during call to suggestCharts:', error);\n",
              "      }\n",
              "      quickchartButtonEl.classList.remove('colab-df-spinner');\n",
              "      quickchartButtonEl.classList.add('colab-df-quickchart-complete');\n",
              "    }\n",
              "    (() => {\n",
              "      let quickchartButtonEl =\n",
              "        document.querySelector('#df-25830932-f559-4dc9-bdeb-79f2c189b3b0 button');\n",
              "      quickchartButtonEl.style.display =\n",
              "        google.colab.kernel.accessAllowed ? 'block' : 'none';\n",
              "    })();\n",
              "  </script>\n",
              "</div>\n",
              "    </div>\n",
              "  </div>\n"
            ],
            "application/vnd.google.colaboratory.intrinsic+json": {
              "type": "dataframe",
              "variable_name": "df_train",
              "summary": "{\n  \"name\": \"df_train\",\n  \"rows\": 31875,\n  \"fields\": [\n    {\n      \"column\": \"is_positive\",\n      \"properties\": {\n        \"dtype\": \"number\",\n        \"std\": 0,\n        \"min\": 0,\n        \"max\": 1,\n        \"num_unique_values\": 2,\n        \"samples\": [\n          0,\n          1\n        ],\n        \"semantic_type\": \"\",\n        \"description\": \"\"\n      }\n    },\n    {\n      \"column\": \"review\",\n      \"properties\": {\n        \"dtype\": \"string\",\n        \"num_unique_values\": 31684,\n        \"samples\": [\n          \"bud PERSON always good following among children careers think could say made one film could designated kids jack beanstalk one filmit part two picture independent deal ORG brothers second film abbott costello meet captain kidd two films boys made color the two work usual take job precocious obnoxious young PERSON although starts costello wanting read kid jack beanstalk bedtime story young lad winds reading costello lou falls asleep dreams fantasizes he's indeed jack giant PERSON menaced boys africa screams plays giant he's got giant size dorothy ORG housekeeper dorothy big girl '\\\" imagine difficulty cast except height used joke one players ever looked PERSON three godfathers '\\\" PERSON james stewart merry way also stood barely height part gagshaye cogan PERSON princess PERSON beautifully act worth anything last film PERSON farnum who's career dated early silent screen days even turn DATE stage played princess shaye's father kingsome terribly memorable musical numbers came jack beanstalk save title song well remember kid record bud lou singing song reciting story early single digit DATE became lifelong fan their's television seriesjack beanstalk still good children's picture young though would warn parents warn little urchins imitate young master stollery\",\n          \"daughter gets really put refer drew barrymore looking she'd hit face frying PERSON PERSON would die wonderful discovered \\\"fever pitch\\\" really like miss barrymore PERSON red sox GPE film probably best characterized sweet light comedy absolutely stereotypical girls like movie romantic charm PERSON's vulnerability boys like male bonding depiction sports maniamy sportshating wife teenage daughter found something like film says something pleasant way spend hour half probably really good date flic\"\n        ],\n        \"semantic_type\": \"\",\n        \"description\": \"\"\n      }\n    }\n  ]\n}"
            }
          },
          "metadata": {},
          "execution_count": 14
        }
      ]
    },
    {
      "cell_type": "code",
      "source": [
        "df_test.head()"
      ],
      "metadata": {
        "colab": {
          "base_uri": "https://localhost:8080/",
          "height": 226
        },
        "id": "7objfUkVuILv",
        "outputId": "4a8f86be-4894-4a44-f7a9-3d1fac9d7dce"
      },
      "execution_count": 15,
      "outputs": [
        {
          "output_type": "execute_result",
          "data": {
            "text/plain": [
              "       is_positive                                             review\n",
              "17385            0  nothing unique either tv series movie prequel ...\n",
              "23849            1  far know show never repeated uk television ori...\n",
              "18796            0  rodney dangerfield great done lot great works ...\n",
              "7274             1  good work everyone scriptwriters director cast...\n",
              "36062            1  absolutely love movie managed get copy saved w..."
            ],
            "text/html": [
              "\n",
              "  <div id=\"df-18ffdcfc-f71f-4fc7-ab92-be4de9eeac6a\" class=\"colab-df-container\">\n",
              "    <div>\n",
              "<style scoped>\n",
              "    .dataframe tbody tr th:only-of-type {\n",
              "        vertical-align: middle;\n",
              "    }\n",
              "\n",
              "    .dataframe tbody tr th {\n",
              "        vertical-align: top;\n",
              "    }\n",
              "\n",
              "    .dataframe thead th {\n",
              "        text-align: right;\n",
              "    }\n",
              "</style>\n",
              "<table border=\"1\" class=\"dataframe\">\n",
              "  <thead>\n",
              "    <tr style=\"text-align: right;\">\n",
              "      <th></th>\n",
              "      <th>is_positive</th>\n",
              "      <th>review</th>\n",
              "    </tr>\n",
              "  </thead>\n",
              "  <tbody>\n",
              "    <tr>\n",
              "      <th>17385</th>\n",
              "      <td>0</td>\n",
              "      <td>nothing unique either tv series movie prequel ...</td>\n",
              "    </tr>\n",
              "    <tr>\n",
              "      <th>23849</th>\n",
              "      <td>1</td>\n",
              "      <td>far know show never repeated uk television ori...</td>\n",
              "    </tr>\n",
              "    <tr>\n",
              "      <th>18796</th>\n",
              "      <td>0</td>\n",
              "      <td>rodney dangerfield great done lot great works ...</td>\n",
              "    </tr>\n",
              "    <tr>\n",
              "      <th>7274</th>\n",
              "      <td>1</td>\n",
              "      <td>good work everyone scriptwriters director cast...</td>\n",
              "    </tr>\n",
              "    <tr>\n",
              "      <th>36062</th>\n",
              "      <td>1</td>\n",
              "      <td>absolutely love movie managed get copy saved w...</td>\n",
              "    </tr>\n",
              "  </tbody>\n",
              "</table>\n",
              "</div>\n",
              "    <div class=\"colab-df-buttons\">\n",
              "\n",
              "  <div class=\"colab-df-container\">\n",
              "    <button class=\"colab-df-convert\" onclick=\"convertToInteractive('df-18ffdcfc-f71f-4fc7-ab92-be4de9eeac6a')\"\n",
              "            title=\"Convert this dataframe to an interactive table.\"\n",
              "            style=\"display:none;\">\n",
              "\n",
              "  <svg xmlns=\"http://www.w3.org/2000/svg\" height=\"24px\" viewBox=\"0 -960 960 960\">\n",
              "    <path d=\"M120-120v-720h720v720H120Zm60-500h600v-160H180v160Zm220 220h160v-160H400v160Zm0 220h160v-160H400v160ZM180-400h160v-160H180v160Zm440 0h160v-160H620v160ZM180-180h160v-160H180v160Zm440 0h160v-160H620v160Z\"/>\n",
              "  </svg>\n",
              "    </button>\n",
              "\n",
              "  <style>\n",
              "    .colab-df-container {\n",
              "      display:flex;\n",
              "      gap: 12px;\n",
              "    }\n",
              "\n",
              "    .colab-df-convert {\n",
              "      background-color: #E8F0FE;\n",
              "      border: none;\n",
              "      border-radius: 50%;\n",
              "      cursor: pointer;\n",
              "      display: none;\n",
              "      fill: #1967D2;\n",
              "      height: 32px;\n",
              "      padding: 0 0 0 0;\n",
              "      width: 32px;\n",
              "    }\n",
              "\n",
              "    .colab-df-convert:hover {\n",
              "      background-color: #E2EBFA;\n",
              "      box-shadow: 0px 1px 2px rgba(60, 64, 67, 0.3), 0px 1px 3px 1px rgba(60, 64, 67, 0.15);\n",
              "      fill: #174EA6;\n",
              "    }\n",
              "\n",
              "    .colab-df-buttons div {\n",
              "      margin-bottom: 4px;\n",
              "    }\n",
              "\n",
              "    [theme=dark] .colab-df-convert {\n",
              "      background-color: #3B4455;\n",
              "      fill: #D2E3FC;\n",
              "    }\n",
              "\n",
              "    [theme=dark] .colab-df-convert:hover {\n",
              "      background-color: #434B5C;\n",
              "      box-shadow: 0px 1px 3px 1px rgba(0, 0, 0, 0.15);\n",
              "      filter: drop-shadow(0px 1px 2px rgba(0, 0, 0, 0.3));\n",
              "      fill: #FFFFFF;\n",
              "    }\n",
              "  </style>\n",
              "\n",
              "    <script>\n",
              "      const buttonEl =\n",
              "        document.querySelector('#df-18ffdcfc-f71f-4fc7-ab92-be4de9eeac6a button.colab-df-convert');\n",
              "      buttonEl.style.display =\n",
              "        google.colab.kernel.accessAllowed ? 'block' : 'none';\n",
              "\n",
              "      async function convertToInteractive(key) {\n",
              "        const element = document.querySelector('#df-18ffdcfc-f71f-4fc7-ab92-be4de9eeac6a');\n",
              "        const dataTable =\n",
              "          await google.colab.kernel.invokeFunction('convertToInteractive',\n",
              "                                                    [key], {});\n",
              "        if (!dataTable) return;\n",
              "\n",
              "        const docLinkHtml = 'Like what you see? Visit the ' +\n",
              "          '<a target=\"_blank\" href=https://colab.research.google.com/notebooks/data_table.ipynb>data table notebook</a>'\n",
              "          + ' to learn more about interactive tables.';\n",
              "        element.innerHTML = '';\n",
              "        dataTable['output_type'] = 'display_data';\n",
              "        await google.colab.output.renderOutput(dataTable, element);\n",
              "        const docLink = document.createElement('div');\n",
              "        docLink.innerHTML = docLinkHtml;\n",
              "        element.appendChild(docLink);\n",
              "      }\n",
              "    </script>\n",
              "  </div>\n",
              "\n",
              "\n",
              "<div id=\"df-795fecf9-980d-430c-90da-b00957607009\">\n",
              "  <button class=\"colab-df-quickchart\" onclick=\"quickchart('df-795fecf9-980d-430c-90da-b00957607009')\"\n",
              "            title=\"Suggest charts\"\n",
              "            style=\"display:none;\">\n",
              "\n",
              "<svg xmlns=\"http://www.w3.org/2000/svg\" height=\"24px\"viewBox=\"0 0 24 24\"\n",
              "     width=\"24px\">\n",
              "    <g>\n",
              "        <path d=\"M19 3H5c-1.1 0-2 .9-2 2v14c0 1.1.9 2 2 2h14c1.1 0 2-.9 2-2V5c0-1.1-.9-2-2-2zM9 17H7v-7h2v7zm4 0h-2V7h2v10zm4 0h-2v-4h2v4z\"/>\n",
              "    </g>\n",
              "</svg>\n",
              "  </button>\n",
              "\n",
              "<style>\n",
              "  .colab-df-quickchart {\n",
              "      --bg-color: #E8F0FE;\n",
              "      --fill-color: #1967D2;\n",
              "      --hover-bg-color: #E2EBFA;\n",
              "      --hover-fill-color: #174EA6;\n",
              "      --disabled-fill-color: #AAA;\n",
              "      --disabled-bg-color: #DDD;\n",
              "  }\n",
              "\n",
              "  [theme=dark] .colab-df-quickchart {\n",
              "      --bg-color: #3B4455;\n",
              "      --fill-color: #D2E3FC;\n",
              "      --hover-bg-color: #434B5C;\n",
              "      --hover-fill-color: #FFFFFF;\n",
              "      --disabled-bg-color: #3B4455;\n",
              "      --disabled-fill-color: #666;\n",
              "  }\n",
              "\n",
              "  .colab-df-quickchart {\n",
              "    background-color: var(--bg-color);\n",
              "    border: none;\n",
              "    border-radius: 50%;\n",
              "    cursor: pointer;\n",
              "    display: none;\n",
              "    fill: var(--fill-color);\n",
              "    height: 32px;\n",
              "    padding: 0;\n",
              "    width: 32px;\n",
              "  }\n",
              "\n",
              "  .colab-df-quickchart:hover {\n",
              "    background-color: var(--hover-bg-color);\n",
              "    box-shadow: 0 1px 2px rgba(60, 64, 67, 0.3), 0 1px 3px 1px rgba(60, 64, 67, 0.15);\n",
              "    fill: var(--button-hover-fill-color);\n",
              "  }\n",
              "\n",
              "  .colab-df-quickchart-complete:disabled,\n",
              "  .colab-df-quickchart-complete:disabled:hover {\n",
              "    background-color: var(--disabled-bg-color);\n",
              "    fill: var(--disabled-fill-color);\n",
              "    box-shadow: none;\n",
              "  }\n",
              "\n",
              "  .colab-df-spinner {\n",
              "    border: 2px solid var(--fill-color);\n",
              "    border-color: transparent;\n",
              "    border-bottom-color: var(--fill-color);\n",
              "    animation:\n",
              "      spin 1s steps(1) infinite;\n",
              "  }\n",
              "\n",
              "  @keyframes spin {\n",
              "    0% {\n",
              "      border-color: transparent;\n",
              "      border-bottom-color: var(--fill-color);\n",
              "      border-left-color: var(--fill-color);\n",
              "    }\n",
              "    20% {\n",
              "      border-color: transparent;\n",
              "      border-left-color: var(--fill-color);\n",
              "      border-top-color: var(--fill-color);\n",
              "    }\n",
              "    30% {\n",
              "      border-color: transparent;\n",
              "      border-left-color: var(--fill-color);\n",
              "      border-top-color: var(--fill-color);\n",
              "      border-right-color: var(--fill-color);\n",
              "    }\n",
              "    40% {\n",
              "      border-color: transparent;\n",
              "      border-right-color: var(--fill-color);\n",
              "      border-top-color: var(--fill-color);\n",
              "    }\n",
              "    60% {\n",
              "      border-color: transparent;\n",
              "      border-right-color: var(--fill-color);\n",
              "    }\n",
              "    80% {\n",
              "      border-color: transparent;\n",
              "      border-right-color: var(--fill-color);\n",
              "      border-bottom-color: var(--fill-color);\n",
              "    }\n",
              "    90% {\n",
              "      border-color: transparent;\n",
              "      border-bottom-color: var(--fill-color);\n",
              "    }\n",
              "  }\n",
              "</style>\n",
              "\n",
              "  <script>\n",
              "    async function quickchart(key) {\n",
              "      const quickchartButtonEl =\n",
              "        document.querySelector('#' + key + ' button');\n",
              "      quickchartButtonEl.disabled = true;  // To prevent multiple clicks.\n",
              "      quickchartButtonEl.classList.add('colab-df-spinner');\n",
              "      try {\n",
              "        const charts = await google.colab.kernel.invokeFunction(\n",
              "            'suggestCharts', [key], {});\n",
              "      } catch (error) {\n",
              "        console.error('Error during call to suggestCharts:', error);\n",
              "      }\n",
              "      quickchartButtonEl.classList.remove('colab-df-spinner');\n",
              "      quickchartButtonEl.classList.add('colab-df-quickchart-complete');\n",
              "    }\n",
              "    (() => {\n",
              "      let quickchartButtonEl =\n",
              "        document.querySelector('#df-795fecf9-980d-430c-90da-b00957607009 button');\n",
              "      quickchartButtonEl.style.display =\n",
              "        google.colab.kernel.accessAllowed ? 'block' : 'none';\n",
              "    })();\n",
              "  </script>\n",
              "</div>\n",
              "    </div>\n",
              "  </div>\n"
            ],
            "application/vnd.google.colaboratory.intrinsic+json": {
              "type": "dataframe",
              "variable_name": "df_test",
              "summary": "{\n  \"name\": \"df_test\",\n  \"rows\": 7500,\n  \"fields\": [\n    {\n      \"column\": \"is_positive\",\n      \"properties\": {\n        \"dtype\": \"number\",\n        \"std\": 0,\n        \"min\": 0,\n        \"max\": 1,\n        \"num_unique_values\": 2,\n        \"samples\": [\n          1,\n          0\n        ],\n        \"semantic_type\": \"\",\n        \"description\": \"\"\n      }\n    },\n    {\n      \"column\": \"review\",\n      \"properties\": {\n        \"dtype\": \"string\",\n        \"num_unique_values\": 7491,\n        \"samples\": [\n          \"complete crap watch main character u king concerned doc's bomb shelter big enough everyone thus claims doc playing god saying lives dies itching kills people without thinking twice beats people near death also main character selfish little wipe doc made shelter died friend died also killed several name cops main character f c king dumb hillbilly h head that's got concept greater good also movie makes u king sense tell comet would cause seismic activity say gravity u king rape cause comet smaller moon see ORG eruptions earthquakes avalancheswhy comet cause atmospheric discharges red lightning also red addition know u king moons hit comets thousands times thats there's u king craters everywhere moon size object needed PERSON fragments portrayed movie would require comet around size moon itselfit takes huge amounts ke cause satellite explode like thata goof movie nuclear explosion space resulted disk shaped shock wave incorrect space explosion produced spherical shock wave inaccuracy also apparent comet hits moonalso someone tell commander person drives big old broken plane suddenly felt need die mean he's like walking shelter stops salutes main characterwtf main character also ugly hole he's got huge forehead thinning hair disgustingstay away movie\",\n          \"verynearfuture world corrupt government monitors everyone constantly computers surveillance one man managed evade assimilation operates outside system fighting preserve freedom engaging imaginative story interesting editing camera work confusing slow parts excellent example small crew brains talent shoestring budget\"\n        ],\n        \"semantic_type\": \"\",\n        \"description\": \"\"\n      }\n    }\n  ]\n}"
            }
          },
          "metadata": {},
          "execution_count": 15
        }
      ]
    },
    {
      "cell_type": "code",
      "source": [
        "df_val.head()"
      ],
      "metadata": {
        "colab": {
          "base_uri": "https://localhost:8080/",
          "height": 226
        },
        "id": "B9eD_0clyh_e",
        "outputId": "dc9b49bd-eee4-4e89-f2be-444658ca4d5d"
      },
      "execution_count": 16,
      "outputs": [
        {
          "output_type": "execute_result",
          "data": {
            "text/plain": [
              "       is_positive                                             review\n",
              "46454            1  hard use words movie since contains none itsel...\n",
              "32759            1  glanced another comment posted writer discusse...\n",
              "48240            1  back day one rn's emergency rooms skaters woul...\n",
              "46360            1  GPE focuses substancethe sets amazing scenes o...\n",
              "21968            0  figured horror film orson welles would weird n..."
            ],
            "text/html": [
              "\n",
              "  <div id=\"df-1f686095-9039-4c25-b089-d995f314bebd\" class=\"colab-df-container\">\n",
              "    <div>\n",
              "<style scoped>\n",
              "    .dataframe tbody tr th:only-of-type {\n",
              "        vertical-align: middle;\n",
              "    }\n",
              "\n",
              "    .dataframe tbody tr th {\n",
              "        vertical-align: top;\n",
              "    }\n",
              "\n",
              "    .dataframe thead th {\n",
              "        text-align: right;\n",
              "    }\n",
              "</style>\n",
              "<table border=\"1\" class=\"dataframe\">\n",
              "  <thead>\n",
              "    <tr style=\"text-align: right;\">\n",
              "      <th></th>\n",
              "      <th>is_positive</th>\n",
              "      <th>review</th>\n",
              "    </tr>\n",
              "  </thead>\n",
              "  <tbody>\n",
              "    <tr>\n",
              "      <th>46454</th>\n",
              "      <td>1</td>\n",
              "      <td>hard use words movie since contains none itsel...</td>\n",
              "    </tr>\n",
              "    <tr>\n",
              "      <th>32759</th>\n",
              "      <td>1</td>\n",
              "      <td>glanced another comment posted writer discusse...</td>\n",
              "    </tr>\n",
              "    <tr>\n",
              "      <th>48240</th>\n",
              "      <td>1</td>\n",
              "      <td>back day one rn's emergency rooms skaters woul...</td>\n",
              "    </tr>\n",
              "    <tr>\n",
              "      <th>46360</th>\n",
              "      <td>1</td>\n",
              "      <td>GPE focuses substancethe sets amazing scenes o...</td>\n",
              "    </tr>\n",
              "    <tr>\n",
              "      <th>21968</th>\n",
              "      <td>0</td>\n",
              "      <td>figured horror film orson welles would weird n...</td>\n",
              "    </tr>\n",
              "  </tbody>\n",
              "</table>\n",
              "</div>\n",
              "    <div class=\"colab-df-buttons\">\n",
              "\n",
              "  <div class=\"colab-df-container\">\n",
              "    <button class=\"colab-df-convert\" onclick=\"convertToInteractive('df-1f686095-9039-4c25-b089-d995f314bebd')\"\n",
              "            title=\"Convert this dataframe to an interactive table.\"\n",
              "            style=\"display:none;\">\n",
              "\n",
              "  <svg xmlns=\"http://www.w3.org/2000/svg\" height=\"24px\" viewBox=\"0 -960 960 960\">\n",
              "    <path d=\"M120-120v-720h720v720H120Zm60-500h600v-160H180v160Zm220 220h160v-160H400v160Zm0 220h160v-160H400v160ZM180-400h160v-160H180v160Zm440 0h160v-160H620v160ZM180-180h160v-160H180v160Zm440 0h160v-160H620v160Z\"/>\n",
              "  </svg>\n",
              "    </button>\n",
              "\n",
              "  <style>\n",
              "    .colab-df-container {\n",
              "      display:flex;\n",
              "      gap: 12px;\n",
              "    }\n",
              "\n",
              "    .colab-df-convert {\n",
              "      background-color: #E8F0FE;\n",
              "      border: none;\n",
              "      border-radius: 50%;\n",
              "      cursor: pointer;\n",
              "      display: none;\n",
              "      fill: #1967D2;\n",
              "      height: 32px;\n",
              "      padding: 0 0 0 0;\n",
              "      width: 32px;\n",
              "    }\n",
              "\n",
              "    .colab-df-convert:hover {\n",
              "      background-color: #E2EBFA;\n",
              "      box-shadow: 0px 1px 2px rgba(60, 64, 67, 0.3), 0px 1px 3px 1px rgba(60, 64, 67, 0.15);\n",
              "      fill: #174EA6;\n",
              "    }\n",
              "\n",
              "    .colab-df-buttons div {\n",
              "      margin-bottom: 4px;\n",
              "    }\n",
              "\n",
              "    [theme=dark] .colab-df-convert {\n",
              "      background-color: #3B4455;\n",
              "      fill: #D2E3FC;\n",
              "    }\n",
              "\n",
              "    [theme=dark] .colab-df-convert:hover {\n",
              "      background-color: #434B5C;\n",
              "      box-shadow: 0px 1px 3px 1px rgba(0, 0, 0, 0.15);\n",
              "      filter: drop-shadow(0px 1px 2px rgba(0, 0, 0, 0.3));\n",
              "      fill: #FFFFFF;\n",
              "    }\n",
              "  </style>\n",
              "\n",
              "    <script>\n",
              "      const buttonEl =\n",
              "        document.querySelector('#df-1f686095-9039-4c25-b089-d995f314bebd button.colab-df-convert');\n",
              "      buttonEl.style.display =\n",
              "        google.colab.kernel.accessAllowed ? 'block' : 'none';\n",
              "\n",
              "      async function convertToInteractive(key) {\n",
              "        const element = document.querySelector('#df-1f686095-9039-4c25-b089-d995f314bebd');\n",
              "        const dataTable =\n",
              "          await google.colab.kernel.invokeFunction('convertToInteractive',\n",
              "                                                    [key], {});\n",
              "        if (!dataTable) return;\n",
              "\n",
              "        const docLinkHtml = 'Like what you see? Visit the ' +\n",
              "          '<a target=\"_blank\" href=https://colab.research.google.com/notebooks/data_table.ipynb>data table notebook</a>'\n",
              "          + ' to learn more about interactive tables.';\n",
              "        element.innerHTML = '';\n",
              "        dataTable['output_type'] = 'display_data';\n",
              "        await google.colab.output.renderOutput(dataTable, element);\n",
              "        const docLink = document.createElement('div');\n",
              "        docLink.innerHTML = docLinkHtml;\n",
              "        element.appendChild(docLink);\n",
              "      }\n",
              "    </script>\n",
              "  </div>\n",
              "\n",
              "\n",
              "<div id=\"df-a56c30e9-628c-4d34-aa51-67f30799eadf\">\n",
              "  <button class=\"colab-df-quickchart\" onclick=\"quickchart('df-a56c30e9-628c-4d34-aa51-67f30799eadf')\"\n",
              "            title=\"Suggest charts\"\n",
              "            style=\"display:none;\">\n",
              "\n",
              "<svg xmlns=\"http://www.w3.org/2000/svg\" height=\"24px\"viewBox=\"0 0 24 24\"\n",
              "     width=\"24px\">\n",
              "    <g>\n",
              "        <path d=\"M19 3H5c-1.1 0-2 .9-2 2v14c0 1.1.9 2 2 2h14c1.1 0 2-.9 2-2V5c0-1.1-.9-2-2-2zM9 17H7v-7h2v7zm4 0h-2V7h2v10zm4 0h-2v-4h2v4z\"/>\n",
              "    </g>\n",
              "</svg>\n",
              "  </button>\n",
              "\n",
              "<style>\n",
              "  .colab-df-quickchart {\n",
              "      --bg-color: #E8F0FE;\n",
              "      --fill-color: #1967D2;\n",
              "      --hover-bg-color: #E2EBFA;\n",
              "      --hover-fill-color: #174EA6;\n",
              "      --disabled-fill-color: #AAA;\n",
              "      --disabled-bg-color: #DDD;\n",
              "  }\n",
              "\n",
              "  [theme=dark] .colab-df-quickchart {\n",
              "      --bg-color: #3B4455;\n",
              "      --fill-color: #D2E3FC;\n",
              "      --hover-bg-color: #434B5C;\n",
              "      --hover-fill-color: #FFFFFF;\n",
              "      --disabled-bg-color: #3B4455;\n",
              "      --disabled-fill-color: #666;\n",
              "  }\n",
              "\n",
              "  .colab-df-quickchart {\n",
              "    background-color: var(--bg-color);\n",
              "    border: none;\n",
              "    border-radius: 50%;\n",
              "    cursor: pointer;\n",
              "    display: none;\n",
              "    fill: var(--fill-color);\n",
              "    height: 32px;\n",
              "    padding: 0;\n",
              "    width: 32px;\n",
              "  }\n",
              "\n",
              "  .colab-df-quickchart:hover {\n",
              "    background-color: var(--hover-bg-color);\n",
              "    box-shadow: 0 1px 2px rgba(60, 64, 67, 0.3), 0 1px 3px 1px rgba(60, 64, 67, 0.15);\n",
              "    fill: var(--button-hover-fill-color);\n",
              "  }\n",
              "\n",
              "  .colab-df-quickchart-complete:disabled,\n",
              "  .colab-df-quickchart-complete:disabled:hover {\n",
              "    background-color: var(--disabled-bg-color);\n",
              "    fill: var(--disabled-fill-color);\n",
              "    box-shadow: none;\n",
              "  }\n",
              "\n",
              "  .colab-df-spinner {\n",
              "    border: 2px solid var(--fill-color);\n",
              "    border-color: transparent;\n",
              "    border-bottom-color: var(--fill-color);\n",
              "    animation:\n",
              "      spin 1s steps(1) infinite;\n",
              "  }\n",
              "\n",
              "  @keyframes spin {\n",
              "    0% {\n",
              "      border-color: transparent;\n",
              "      border-bottom-color: var(--fill-color);\n",
              "      border-left-color: var(--fill-color);\n",
              "    }\n",
              "    20% {\n",
              "      border-color: transparent;\n",
              "      border-left-color: var(--fill-color);\n",
              "      border-top-color: var(--fill-color);\n",
              "    }\n",
              "    30% {\n",
              "      border-color: transparent;\n",
              "      border-left-color: var(--fill-color);\n",
              "      border-top-color: var(--fill-color);\n",
              "      border-right-color: var(--fill-color);\n",
              "    }\n",
              "    40% {\n",
              "      border-color: transparent;\n",
              "      border-right-color: var(--fill-color);\n",
              "      border-top-color: var(--fill-color);\n",
              "    }\n",
              "    60% {\n",
              "      border-color: transparent;\n",
              "      border-right-color: var(--fill-color);\n",
              "    }\n",
              "    80% {\n",
              "      border-color: transparent;\n",
              "      border-right-color: var(--fill-color);\n",
              "      border-bottom-color: var(--fill-color);\n",
              "    }\n",
              "    90% {\n",
              "      border-color: transparent;\n",
              "      border-bottom-color: var(--fill-color);\n",
              "    }\n",
              "  }\n",
              "</style>\n",
              "\n",
              "  <script>\n",
              "    async function quickchart(key) {\n",
              "      const quickchartButtonEl =\n",
              "        document.querySelector('#' + key + ' button');\n",
              "      quickchartButtonEl.disabled = true;  // To prevent multiple clicks.\n",
              "      quickchartButtonEl.classList.add('colab-df-spinner');\n",
              "      try {\n",
              "        const charts = await google.colab.kernel.invokeFunction(\n",
              "            'suggestCharts', [key], {});\n",
              "      } catch (error) {\n",
              "        console.error('Error during call to suggestCharts:', error);\n",
              "      }\n",
              "      quickchartButtonEl.classList.remove('colab-df-spinner');\n",
              "      quickchartButtonEl.classList.add('colab-df-quickchart-complete');\n",
              "    }\n",
              "    (() => {\n",
              "      let quickchartButtonEl =\n",
              "        document.querySelector('#df-a56c30e9-628c-4d34-aa51-67f30799eadf button');\n",
              "      quickchartButtonEl.style.display =\n",
              "        google.colab.kernel.accessAllowed ? 'block' : 'none';\n",
              "    })();\n",
              "  </script>\n",
              "</div>\n",
              "    </div>\n",
              "  </div>\n"
            ],
            "application/vnd.google.colaboratory.intrinsic+json": {
              "type": "dataframe",
              "variable_name": "df_val",
              "summary": "{\n  \"name\": \"df_val\",\n  \"rows\": 10625,\n  \"fields\": [\n    {\n      \"column\": \"is_positive\",\n      \"properties\": {\n        \"dtype\": \"number\",\n        \"std\": 0,\n        \"min\": 0,\n        \"max\": 1,\n        \"num_unique_values\": 2,\n        \"samples\": [\n          0,\n          1\n        ],\n        \"semantic_type\": \"\",\n        \"description\": \"\"\n      }\n    },\n    {\n      \"column\": \"review\",\n      \"properties\": {\n        \"dtype\": \"string\",\n        \"num_unique_values\": 10609,\n        \"samples\": [\n          \"i'd give film zero could anyone could rate higher beyond saw rollerball pick worst film ever major studio real budget claiming mangler leprechaun hood worst ever really saying much supposed PERSON mom must needed surgery something agree nonsensical garbage i'm really sure happened novel great director PERSON solid track record alive arachnophobia perhaps changed title 'africa' cast good budget think someone would bothered read scriptyou'd better watching battlefield earth wasting time congo makes long return mstk\",\n          \"even one realize sellers poor health time filming passed away film's release fiendish plot PERSON would painful viewing supposedly lampoon sax rohmer's famous oriental villain lacks focus potential satirical commentary antioriental overtones rohmer's concept ignored indeed movie employs racist insults hardly actual jokes gags mostly actors behaving idiotically spouting dreary lines especially distressing see sid caesar forced spout curses racial slurs attempted laughs actors embarrass welland there's peter sellers plays dual roles sinister PERSON trying concoct formula regain youth stalwart british foe nayland smith sellers one hundred per cent bad conveys quirky warmth smith discusses fetishistic attachment lawn mower he's oddly moving DATE expresses love english music hall entertainment time plays roles weary grimness thus sabotaging comical possibilities sellers' routines revitalizes fading strength electric shocks particularly excruciating seems convincingly agonized funny a genuinely witty lines apt slapstick bit burt PERSON panther films one DATE's minions PERSON amusing musical numbers cannot salvage mess anyone wants understand peter sellers considered comedic genius learn anything fiendish plot PERSON\"\n        ],\n        \"semantic_type\": \"\",\n        \"description\": \"\"\n      }\n    }\n  ]\n}"
            }
          },
          "metadata": {},
          "execution_count": 16
        }
      ]
    },
    {
      "cell_type": "code",
      "source": [
        "df_train['is_positive'].value_counts()"
      ],
      "metadata": {
        "colab": {
          "base_uri": "https://localhost:8080/"
        },
        "id": "l-yt5LLPmVae",
        "outputId": "d0dedec6-2f67-46e8-9afe-d360763f9d94"
      },
      "execution_count": 17,
      "outputs": [
        {
          "output_type": "execute_result",
          "data": {
            "text/plain": [
              "is_positive\n",
              "0    15986\n",
              "1    15889\n",
              "Name: count, dtype: int64"
            ]
          },
          "metadata": {},
          "execution_count": 17
        }
      ]
    },
    {
      "cell_type": "code",
      "source": [
        "df_test['is_positive'].value_counts()"
      ],
      "metadata": {
        "colab": {
          "base_uri": "https://localhost:8080/"
        },
        "id": "pbfzqddEmcWB",
        "outputId": "464cb04b-be0d-40e1-a54f-375958019bbe"
      },
      "execution_count": 18,
      "outputs": [
        {
          "output_type": "execute_result",
          "data": {
            "text/plain": [
              "is_positive\n",
              "1    3771\n",
              "0    3729\n",
              "Name: count, dtype: int64"
            ]
          },
          "metadata": {},
          "execution_count": 18
        }
      ]
    },
    {
      "cell_type": "code",
      "source": [
        "df_val['is_positive'].value_counts()"
      ],
      "metadata": {
        "colab": {
          "base_uri": "https://localhost:8080/"
        },
        "id": "ynJLYhD6mjz_",
        "outputId": "8d558e37-baec-4076-b545-364192de1ea1"
      },
      "execution_count": 19,
      "outputs": [
        {
          "output_type": "execute_result",
          "data": {
            "text/plain": [
              "is_positive\n",
              "1    5340\n",
              "0    5285\n",
              "Name: count, dtype: int64"
            ]
          },
          "metadata": {},
          "execution_count": 19
        }
      ]
    },
    {
      "cell_type": "code",
      "source": [
        "df_train.shape, df_val.shape, df_test.shape"
      ],
      "metadata": {
        "colab": {
          "base_uri": "https://localhost:8080/"
        },
        "id": "McW_VbmLnGO0",
        "outputId": "88d63f3e-c0a8-4ebf-de50-69b6a98e6c8f"
      },
      "execution_count": 20,
      "outputs": [
        {
          "output_type": "execute_result",
          "data": {
            "text/plain": [
              "((31875, 2), (10625, 2), (7500, 2))"
            ]
          },
          "metadata": {},
          "execution_count": 20
        }
      ]
    },
    {
      "cell_type": "markdown",
      "source": [
        "## Preprocessing data"
      ],
      "metadata": {
        "id": "2PbVASVHT9rU"
      }
    },
    {
      "cell_type": "code",
      "source": [
        "vectorizer_params = {\n",
        "    \"TfidfVectorizer\" : {\n",
        "        \"analyzer\": \"word\",\n",
        "        \"stop_words\": \"english\",\n",
        "        \"max_features\": 3500,\n",
        "        \"ngram_range\": (1, 1)\n",
        "    }\n",
        "}"
      ],
      "metadata": {
        "id": "UoMMVdL6XKgR"
      },
      "execution_count": 21,
      "outputs": []
    },
    {
      "cell_type": "code",
      "source": [
        "vect_param = vectorizer_params['TfidfVectorizer']"
      ],
      "metadata": {
        "id": "fLycjOmhXvZx"
      },
      "execution_count": 22,
      "outputs": []
    },
    {
      "cell_type": "code",
      "source": [
        "P = Preprocessing_data(df_train, df_val, df_test, cln_txt_key='review', tfidf_params=vect_param)"
      ],
      "metadata": {
        "id": "_Hu4KVe1XawF"
      },
      "execution_count": 23,
      "outputs": []
    },
    {
      "cell_type": "code",
      "source": [
        "vocab_ner = P.data_preprocessing(clntxt=False)"
      ],
      "metadata": {
        "id": "4JaC8tiFX6jd"
      },
      "execution_count": 24,
      "outputs": []
    },
    {
      "cell_type": "code",
      "source": [
        "x_train, x_val, x_test = P.results(15)"
      ],
      "metadata": {
        "id": "eoRPbOX6X_Pe"
      },
      "execution_count": 25,
      "outputs": []
    },
    {
      "cell_type": "code",
      "source": [
        "x_train.shape"
      ],
      "metadata": {
        "colab": {
          "base_uri": "https://localhost:8080/"
        },
        "id": "Uveq5zQfSfZe",
        "outputId": "b6561f76-5fd0-4c9b-9e09-e5e3aa82ca0d"
      },
      "execution_count": 26,
      "outputs": [
        {
          "output_type": "execute_result",
          "data": {
            "text/plain": [
              "(31875, 15)"
            ]
          },
          "metadata": {},
          "execution_count": 26
        }
      ]
    },
    {
      "cell_type": "code",
      "source": [
        "x_val.shape"
      ],
      "metadata": {
        "colab": {
          "base_uri": "https://localhost:8080/"
        },
        "id": "08u7Lgn4SjfQ",
        "outputId": "79681b70-e360-4ddf-c55f-0547322e101d"
      },
      "execution_count": 27,
      "outputs": [
        {
          "output_type": "execute_result",
          "data": {
            "text/plain": [
              "(10625, 15)"
            ]
          },
          "metadata": {},
          "execution_count": 27
        }
      ]
    },
    {
      "cell_type": "code",
      "source": [
        "x_test.shape"
      ],
      "metadata": {
        "colab": {
          "base_uri": "https://localhost:8080/"
        },
        "id": "aZr73NNAryUQ",
        "outputId": "014c34cc-ecd9-4c4a-e42f-96b798da46a2"
      },
      "execution_count": 28,
      "outputs": [
        {
          "output_type": "execute_result",
          "data": {
            "text/plain": [
              "(7500, 15)"
            ]
          },
          "metadata": {},
          "execution_count": 28
        }
      ]
    },
    {
      "cell_type": "markdown",
      "source": [
        "## Create DataLoader"
      ],
      "metadata": {
        "id": "QLLEvtObZbIu"
      }
    },
    {
      "cell_type": "code",
      "source": [
        "batch_size_train = 1024\n",
        "train_dataset = MyTextData(x_train, df_train['is_positive'].values)\n",
        "train_loader = DataLoader(train_dataset, batch_size=batch_size_train, shuffle=True)\n",
        "\n",
        "batch_size_val = 16\n",
        "val_dataset = MyTextData(x_val, df_val['is_positive'].values)\n",
        "val_loader = DataLoader(val_dataset, batch_size=batch_size_val, shuffle=True)"
      ],
      "metadata": {
        "id": "TkWmXq3NZX72"
      },
      "execution_count": 29,
      "outputs": []
    },
    {
      "cell_type": "markdown",
      "source": [
        "## Create model"
      ],
      "metadata": {
        "id": "noRJvhJJcQiZ"
      }
    },
    {
      "cell_type": "code",
      "source": [
        "max_words = vect_param['max_features']\n",
        "max_words"
      ],
      "metadata": {
        "id": "0PaBdWElab5P",
        "colab": {
          "base_uri": "https://localhost:8080/"
        },
        "outputId": "b973f480-a630-43e2-8e48-e3d942811693"
      },
      "execution_count": 30,
      "outputs": [
        {
          "output_type": "execute_result",
          "data": {
            "text/plain": [
              "3500"
            ]
          },
          "metadata": {},
          "execution_count": 30
        }
      ]
    },
    {
      "cell_type": "code",
      "source": [
        "model = Model_Text(max_words, 1024, use_last=False)"
      ],
      "metadata": {
        "id": "kYLumKENaozF",
        "colab": {
          "base_uri": "https://localhost:8080/"
        },
        "outputId": "ed2d39db-7d50-464a-b862-938d7291e17d"
      },
      "execution_count": 31,
      "outputs": [
        {
          "output_type": "stream",
          "name": "stderr",
          "text": [
            "/usr/local/lib/python3.10/dist-packages/torch/nn/modules/rnn.py:83: UserWarning: dropout option adds dropout after all but last recurrent layer, so non-zero dropout expects num_layers greater than 1, but got dropout=0.2 and num_layers=1\n",
            "  warnings.warn(\"dropout option adds dropout after all but last \"\n"
          ]
        }
      ]
    },
    {
      "cell_type": "code",
      "source": [
        "print(model)\n",
        "print(\"Parameters:\", sum([param.nelement() for param in model.parameters()]))"
      ],
      "metadata": {
        "colab": {
          "base_uri": "https://localhost:8080/"
        },
        "id": "Qyu5JAkHcwEP",
        "outputId": "75544136-c978-45ca-ef4e-9bd0d363a901"
      },
      "execution_count": 32,
      "outputs": [
        {
          "output_type": "stream",
          "name": "stdout",
          "text": [
            "Model_Text(\n",
            "  (embedding): Embedding(3500, 1024)\n",
            "  (lstm_b_1): LSTM(1024, 512, batch_first=True, dropout=0.2, bidirectional=True)\n",
            "  (lstm_1): LSTM(1024, 512, batch_first=True, dropout=0.2)\n",
            "  (srnn): RNN(512, 256, batch_first=True)\n",
            "  (drop_1): Dropout(p=0.2, inplace=False)\n",
            "  (fc1): Linear(in_features=256, out_features=128, bias=True)\n",
            "  (fc2): Linear(in_features=128, out_features=64, bias=True)\n",
            "  (fc3): Linear(in_features=64, out_features=32, bias=True)\n",
            "  (fc4): Linear(in_features=32, out_features=1, bias=True)\n",
            ")\n",
            "Parameters: 13273857\n"
          ]
        }
      ]
    },
    {
      "cell_type": "markdown",
      "source": [
        "## Optimizer and function loss"
      ],
      "metadata": {
        "id": "GrkJfY7Dc0u-"
      }
    },
    {
      "cell_type": "code",
      "source": [
        "optimiz = torch.optim.Adam(model.parameters(), lr=0.001)\n",
        "loss_fun = nn.BCELoss()"
      ],
      "metadata": {
        "id": "SnBkNbqUdI5N"
      },
      "execution_count": 33,
      "outputs": []
    },
    {
      "cell_type": "markdown",
      "source": [
        "## Learn model"
      ],
      "metadata": {
        "id": "lj830xTcdUxl"
      }
    },
    {
      "cell_type": "code",
      "source": [
        "md, loss_train, acc_train, loss_test, acc_test = NN_Model_Fit(model, 20, device,\n",
        "                                                              0.5, train_loader,\n",
        "                                                              val_loader, optimiz,\n",
        "                                                              loss_fun)"
      ],
      "metadata": {
        "id": "t1gsd83QdcN2",
        "colab": {
          "base_uri": "https://localhost:8080/"
        },
        "outputId": "48d2a9b3-6c9b-4900-e397-9504c1e29f9b"
      },
      "execution_count": 34,
      "outputs": [
        {
          "output_type": "stream",
          "name": "stdout",
          "text": [
            "Epoch [1/20]. Step [32/32]. Loss: 0.522. Acc: 0.717. Test loss: 0.153. Test acc: 0.775\n",
            "Epoch [2/20]. Step [32/32]. Loss: 0.340. Acc: 0.820. Test loss: 2.039. Test acc: 0.787\n",
            "Epoch [3/20]. Step [32/32]. Loss: 0.408. Acc: 0.859. Test loss: 0.999. Test acc: 0.781\n",
            "Epoch [4/20]. Step [32/32]. Loss: 0.226. Acc: 0.901. Test loss: 0.637. Test acc: 0.778\n",
            "Epoch [5/20]. Step [32/32]. Loss: 0.130. Acc: 0.941. Test loss: 0.042. Test acc: 0.766\n",
            "Epoch [6/20]. Step [32/32]. Loss: 0.066. Acc: 0.968. Test loss: 0.001. Test acc: 0.766\n",
            "Epoch [7/20]. Step [32/32]. Loss: 0.008. Acc: 0.981. Test loss: 0.007. Test acc: 0.768\n",
            "Epoch [8/20]. Step [32/32]. Loss: 0.019. Acc: 0.991. Test loss: 0.002. Test acc: 0.762\n",
            "Epoch [9/20]. Step [32/32]. Loss: 0.016. Acc: 0.992. Test loss: 0.000. Test acc: 0.769\n",
            "Epoch [10/20]. Step [32/32]. Loss: 0.016. Acc: 0.993. Test loss: 7.968. Test acc: 0.768\n",
            "Epoch [11/20]. Step [32/32]. Loss: 0.020. Acc: 0.994. Test loss: 0.000. Test acc: 0.768\n",
            "Epoch [12/20]. Step [32/32]. Loss: 0.017. Acc: 0.993. Test loss: 0.000. Test acc: 0.767\n",
            "Epoch [13/20]. Step [32/32]. Loss: 0.017. Acc: 0.996. Test loss: 0.000. Test acc: 0.770\n",
            "Epoch [14/20]. Step [32/32]. Loss: 0.015. Acc: 0.996. Test loss: 0.000. Test acc: 0.770\n",
            "Epoch [15/20]. Step [32/32]. Loss: 0.002. Acc: 0.997. Test loss: 15.862. Test acc: 0.772\n",
            "Epoch [16/20]. Step [32/32]. Loss: 0.002. Acc: 0.997. Test loss: 0.000. Test acc: 0.762\n",
            "Epoch [17/20]. Step [32/32]. Loss: 0.023. Acc: 0.997. Test loss: 0.000. Test acc: 0.768\n",
            "Epoch [18/20]. Step [32/32]. Loss: 0.040. Acc: 0.994. Test loss: 0.681. Test acc: 0.771\n",
            "Epoch [19/20]. Step [32/32]. Loss: 0.002. Acc: 0.997. Test loss: 0.173. Test acc: 0.767\n",
            "Epoch [20/20]. Step [32/32]. Loss: 0.032. Acc: 0.998. Test loss: 10.689. Test acc: 0.767\n",
            "\n",
            "Training is finished! It took 210.36 seconds\n"
          ]
        }
      ]
    },
    {
      "cell_type": "markdown",
      "source": [
        "## Visualisation of result"
      ],
      "metadata": {
        "id": "DyOBM8QTAR8c"
      }
    },
    {
      "cell_type": "markdown",
      "source": [
        "### Loss history"
      ],
      "metadata": {
        "id": "IpaT8lcGWYdw"
      }
    },
    {
      "cell_type": "code",
      "source": [
        "plt.title('Loss history')\n",
        "plt.grid(True)\n",
        "plt.ylabel('loss')\n",
        "plt.xlabel('epochs')\n",
        "plt.plot(loss_train, label='train')\n",
        "plt.plot(loss_test, label='test')\n",
        "plt.legend()\n",
        "plt.show()"
      ],
      "metadata": {
        "id": "xKFncM5ihs5u",
        "colab": {
          "base_uri": "https://localhost:8080/",
          "height": 492
        },
        "outputId": "912a4bd2-3185-41b9-e109-6b262cd9de20"
      },
      "execution_count": 35,
      "outputs": [
        {
          "output_type": "display_data",
          "data": {
            "text/plain": [
              "<Figure size 640x480 with 1 Axes>"
            ],
            "image/png": "[encoded data removed]"
          },
          "metadata": {}
        }
      ]
    },
    {
      "cell_type": "markdown",
      "source": [
        "### Accuracy history"
      ],
      "metadata": {
        "id": "Rf2YTc8vWbpR"
      }
    },
    {
      "cell_type": "code",
      "source": [
        "plt.title('Accuracy history')\n",
        "plt.grid(True)\n",
        "plt.ylabel('acc')\n",
        "plt.xlabel('epochs')\n",
        "plt.plot(acc_train, label='train')\n",
        "plt.plot(acc_test, label='test')\n",
        "plt.legend()\n",
        "plt.show()"
      ],
      "metadata": {
        "colab": {
          "base_uri": "https://localhost:8080/",
          "height": 492
        },
        "id": "Q9rj7kacBRfS",
        "outputId": "2247ee8d-a0bb-468f-9ca6-1ca553fb348f"
      },
      "execution_count": 36,
      "outputs": [
        {
          "output_type": "display_data",
          "data": {
            "text/plain": [
              "<Figure size 640x480 with 1 Axes>"
            ],
            "image/png": "[encoded data removed]"
          },
          "metadata": {}
        }
      ]
    },
    {
      "cell_type": "markdown",
      "source": [
        "## Save model"
      ],
      "metadata": {
        "id": "xdhbg1Y3Uvqo"
      }
    },
    {
      "cell_type": "code",
      "source": [
        "torch.save(model, path_to_work_dir + 'torch_model_ner.pth')"
      ],
      "metadata": {
        "id": "z9zH6AeoSdb2"
      },
      "execution_count": 37,
      "outputs": []
    },
    {
      "cell_type": "markdown",
      "source": [
        "## Load model"
      ],
      "metadata": {
        "id": "8tkAugoXUz35"
      }
    },
    {
      "cell_type": "code",
      "source": [
        "pt_model_load = torch.load(path_to_work_dir + \"torch_model_ner.pth\")"
      ],
      "metadata": {
        "id": "-3ZehDbiS69r"
      },
      "execution_count": 39,
      "outputs": []
    },
    {
      "cell_type": "markdown",
      "source": [
        "## Make clasification report"
      ],
      "metadata": {
        "id": "W3rzYT8kUtaF"
      }
    },
    {
      "cell_type": "code",
      "source": [
        "y_pred = pt_model_load(torch.from_numpy(x_test).to(device))"
      ],
      "metadata": {
        "id": "h5UwSrYhS87-"
      },
      "execution_count": 41,
      "outputs": []
    },
    {
      "cell_type": "code",
      "source": [
        "y_pred = y_pred.cpu().detach().numpy()"
      ],
      "metadata": {
        "id": "TVmYsUDVTDYV"
      },
      "execution_count": 48,
      "outputs": []
    },
    {
      "cell_type": "code",
      "source": [
        "y_pred_bin = []\n",
        "for y in y_pred:\n",
        "    if y > 0.5:\n",
        "        y_pred_bin.append(1)\n",
        "    else:\n",
        "        y_pred_bin.append(0)"
      ],
      "metadata": {
        "id": "tG-bsyLITOEX"
      },
      "execution_count": 49,
      "outputs": []
    },
    {
      "cell_type": "code",
      "source": [
        "y_test = df_test['is_positive']"
      ],
      "metadata": {
        "id": "_aABFvrSUcKO"
      },
      "execution_count": 50,
      "outputs": []
    },
    {
      "cell_type": "code",
      "source": [
        "print(classification_report(y_test, y_pred_bin))"
      ],
      "metadata": {
        "colab": {
          "base_uri": "https://localhost:8080/"
        },
        "id": "rDVixN1hUjEt",
        "outputId": "267e7e85-c09c-48fd-aaf7-7cf88980c1f4"
      },
      "execution_count": 51,
      "outputs": [
        {
          "output_type": "stream",
          "name": "stdout",
          "text": [
            "              precision    recall  f1-score   support\n",
            "\n",
            "           0       0.75      0.77      0.76      3729\n",
            "           1       0.77      0.75      0.76      3771\n",
            "\n",
            "    accuracy                           0.76      7500\n",
            "   macro avg       0.76      0.76      0.76      7500\n",
            "weighted avg       0.76      0.76      0.76      7500\n",
            "\n"
          ]
        }
      ]
    },
    {
      "cell_type": "markdown",
      "source": [
        "# Conclusion"
      ],
      "metadata": {
        "id": "lPlozAhvV5Nt"
      }
    },
    {
      "cell_type": "markdown",
      "source": [
        "How can you see F_score for NN eqauls 0.76 it is less then F_score for regressor 0.89"
      ],
      "metadata": {
        "id": "_yjLOpQVU-s-"
      }
    }
  ]
}